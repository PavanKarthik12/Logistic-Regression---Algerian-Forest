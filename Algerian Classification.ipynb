{
 "cells": [
  {
   "cell_type": "code",
   "execution_count": 5,
   "id": "7f5a77e9",
   "metadata": {},
   "outputs": [],
   "source": [
    "import pandas as pd\n",
    "import numpy as np\n",
    "import seaborn as sns\n",
    "import matplotlib.pyplot as plt\n",
    "import warnings\n",
    "warnings.filterwarnings(\"ignore\")\n",
    "%matplotlib inline"
   ]
  },
  {
   "cell_type": "code",
   "execution_count": 6,
   "id": "2212eddc",
   "metadata": {},
   "outputs": [],
   "source": [
    "algerian=pd.read_csv('Algerian_forest_fires_dataset_UPDATE.csv',skiprows=(0,124,125,126))"
   ]
  },
  {
   "cell_type": "code",
   "execution_count": 7,
   "id": "e59aadbc",
   "metadata": {},
   "outputs": [
    {
     "data": {
      "text/html": [
       "<div>\n",
       "<style scoped>\n",
       "    .dataframe tbody tr th:only-of-type {\n",
       "        vertical-align: middle;\n",
       "    }\n",
       "\n",
       "    .dataframe tbody tr th {\n",
       "        vertical-align: top;\n",
       "    }\n",
       "\n",
       "    .dataframe thead th {\n",
       "        text-align: right;\n",
       "    }\n",
       "</style>\n",
       "<table border=\"1\" class=\"dataframe\">\n",
       "  <thead>\n",
       "    <tr style=\"text-align: right;\">\n",
       "      <th></th>\n",
       "      <th>day</th>\n",
       "      <th>month</th>\n",
       "      <th>year</th>\n",
       "      <th>Temperature</th>\n",
       "      <th>RH</th>\n",
       "      <th>Ws</th>\n",
       "      <th>Rain</th>\n",
       "      <th>FFMC</th>\n",
       "      <th>DMC</th>\n",
       "      <th>DC</th>\n",
       "      <th>ISI</th>\n",
       "      <th>BUI</th>\n",
       "      <th>FWI</th>\n",
       "      <th>Classes</th>\n",
       "    </tr>\n",
       "  </thead>\n",
       "  <tbody>\n",
       "    <tr>\n",
       "      <th>0</th>\n",
       "      <td>1</td>\n",
       "      <td>6</td>\n",
       "      <td>2012</td>\n",
       "      <td>29</td>\n",
       "      <td>57</td>\n",
       "      <td>18</td>\n",
       "      <td>0.0</td>\n",
       "      <td>65.7</td>\n",
       "      <td>3.4</td>\n",
       "      <td>7.6</td>\n",
       "      <td>1.3</td>\n",
       "      <td>3.4</td>\n",
       "      <td>0.5</td>\n",
       "      <td>not fire</td>\n",
       "    </tr>\n",
       "    <tr>\n",
       "      <th>1</th>\n",
       "      <td>2</td>\n",
       "      <td>6</td>\n",
       "      <td>2012</td>\n",
       "      <td>29</td>\n",
       "      <td>61</td>\n",
       "      <td>13</td>\n",
       "      <td>1.3</td>\n",
       "      <td>64.4</td>\n",
       "      <td>4.1</td>\n",
       "      <td>7.6</td>\n",
       "      <td>1.0</td>\n",
       "      <td>3.9</td>\n",
       "      <td>0.4</td>\n",
       "      <td>not fire</td>\n",
       "    </tr>\n",
       "    <tr>\n",
       "      <th>2</th>\n",
       "      <td>3</td>\n",
       "      <td>6</td>\n",
       "      <td>2012</td>\n",
       "      <td>26</td>\n",
       "      <td>82</td>\n",
       "      <td>22</td>\n",
       "      <td>13.1</td>\n",
       "      <td>47.1</td>\n",
       "      <td>2.5</td>\n",
       "      <td>7.1</td>\n",
       "      <td>0.3</td>\n",
       "      <td>2.7</td>\n",
       "      <td>0.1</td>\n",
       "      <td>not fire</td>\n",
       "    </tr>\n",
       "    <tr>\n",
       "      <th>3</th>\n",
       "      <td>4</td>\n",
       "      <td>6</td>\n",
       "      <td>2012</td>\n",
       "      <td>25</td>\n",
       "      <td>89</td>\n",
       "      <td>13</td>\n",
       "      <td>2.5</td>\n",
       "      <td>28.6</td>\n",
       "      <td>1.3</td>\n",
       "      <td>6.9</td>\n",
       "      <td>0.0</td>\n",
       "      <td>1.7</td>\n",
       "      <td>0</td>\n",
       "      <td>not fire</td>\n",
       "    </tr>\n",
       "    <tr>\n",
       "      <th>4</th>\n",
       "      <td>5</td>\n",
       "      <td>6</td>\n",
       "      <td>2012</td>\n",
       "      <td>27</td>\n",
       "      <td>77</td>\n",
       "      <td>16</td>\n",
       "      <td>0.0</td>\n",
       "      <td>64.8</td>\n",
       "      <td>3.0</td>\n",
       "      <td>14.2</td>\n",
       "      <td>1.2</td>\n",
       "      <td>3.9</td>\n",
       "      <td>0.5</td>\n",
       "      <td>not fire</td>\n",
       "    </tr>\n",
       "    <tr>\n",
       "      <th>...</th>\n",
       "      <td>...</td>\n",
       "      <td>...</td>\n",
       "      <td>...</td>\n",
       "      <td>...</td>\n",
       "      <td>...</td>\n",
       "      <td>...</td>\n",
       "      <td>...</td>\n",
       "      <td>...</td>\n",
       "      <td>...</td>\n",
       "      <td>...</td>\n",
       "      <td>...</td>\n",
       "      <td>...</td>\n",
       "      <td>...</td>\n",
       "      <td>...</td>\n",
       "    </tr>\n",
       "    <tr>\n",
       "      <th>239</th>\n",
       "      <td>26</td>\n",
       "      <td>9</td>\n",
       "      <td>2012</td>\n",
       "      <td>30</td>\n",
       "      <td>65</td>\n",
       "      <td>14</td>\n",
       "      <td>0.0</td>\n",
       "      <td>85.4</td>\n",
       "      <td>16.0</td>\n",
       "      <td>44.5</td>\n",
       "      <td>4.5</td>\n",
       "      <td>16.9</td>\n",
       "      <td>6.5</td>\n",
       "      <td>fire</td>\n",
       "    </tr>\n",
       "    <tr>\n",
       "      <th>240</th>\n",
       "      <td>27</td>\n",
       "      <td>9</td>\n",
       "      <td>2012</td>\n",
       "      <td>28</td>\n",
       "      <td>87</td>\n",
       "      <td>15</td>\n",
       "      <td>4.4</td>\n",
       "      <td>41.1</td>\n",
       "      <td>6.5</td>\n",
       "      <td>8</td>\n",
       "      <td>0.1</td>\n",
       "      <td>6.2</td>\n",
       "      <td>0</td>\n",
       "      <td>not fire</td>\n",
       "    </tr>\n",
       "    <tr>\n",
       "      <th>241</th>\n",
       "      <td>28</td>\n",
       "      <td>9</td>\n",
       "      <td>2012</td>\n",
       "      <td>27</td>\n",
       "      <td>87</td>\n",
       "      <td>29</td>\n",
       "      <td>0.5</td>\n",
       "      <td>45.9</td>\n",
       "      <td>3.5</td>\n",
       "      <td>7.9</td>\n",
       "      <td>0.4</td>\n",
       "      <td>3.4</td>\n",
       "      <td>0.2</td>\n",
       "      <td>not fire</td>\n",
       "    </tr>\n",
       "    <tr>\n",
       "      <th>242</th>\n",
       "      <td>29</td>\n",
       "      <td>9</td>\n",
       "      <td>2012</td>\n",
       "      <td>24</td>\n",
       "      <td>54</td>\n",
       "      <td>18</td>\n",
       "      <td>0.1</td>\n",
       "      <td>79.7</td>\n",
       "      <td>4.3</td>\n",
       "      <td>15.2</td>\n",
       "      <td>1.7</td>\n",
       "      <td>5.1</td>\n",
       "      <td>0.7</td>\n",
       "      <td>not fire</td>\n",
       "    </tr>\n",
       "    <tr>\n",
       "      <th>243</th>\n",
       "      <td>30</td>\n",
       "      <td>9</td>\n",
       "      <td>2012</td>\n",
       "      <td>24</td>\n",
       "      <td>64</td>\n",
       "      <td>15</td>\n",
       "      <td>0.2</td>\n",
       "      <td>67.3</td>\n",
       "      <td>3.8</td>\n",
       "      <td>16.5</td>\n",
       "      <td>1.2</td>\n",
       "      <td>4.8</td>\n",
       "      <td>0.5</td>\n",
       "      <td>not fire</td>\n",
       "    </tr>\n",
       "  </tbody>\n",
       "</table>\n",
       "<p>244 rows × 14 columns</p>\n",
       "</div>"
      ],
      "text/plain": [
       "     day  month  year  Temperature   RH   Ws  Rain   FFMC   DMC    DC  ISI  \\\n",
       "0      1      6  2012           29   57   18    0.0  65.7   3.4   7.6  1.3   \n",
       "1      2      6  2012           29   61   13    1.3  64.4   4.1   7.6  1.0   \n",
       "2      3      6  2012           26   82   22   13.1  47.1   2.5   7.1  0.3   \n",
       "3      4      6  2012           25   89   13    2.5  28.6   1.3   6.9  0.0   \n",
       "4      5      6  2012           27   77   16    0.0  64.8   3.0  14.2  1.2   \n",
       "..   ...    ...   ...          ...  ...  ...    ...   ...   ...   ...  ...   \n",
       "239   26      9  2012           30   65   14    0.0  85.4  16.0  44.5  4.5   \n",
       "240   27      9  2012           28   87   15    4.4  41.1   6.5     8  0.1   \n",
       "241   28      9  2012           27   87   29    0.5  45.9   3.5   7.9  0.4   \n",
       "242   29      9  2012           24   54   18    0.1  79.7   4.3  15.2  1.7   \n",
       "243   30      9  2012           24   64   15    0.2  67.3   3.8  16.5  1.2   \n",
       "\n",
       "      BUI  FWI     Classes    \n",
       "0     3.4  0.5   not fire     \n",
       "1     3.9  0.4   not fire     \n",
       "2     2.7  0.1   not fire     \n",
       "3     1.7    0   not fire     \n",
       "4     3.9  0.5   not fire     \n",
       "..    ...  ...           ...  \n",
       "239  16.9  6.5       fire     \n",
       "240   6.2    0   not fire     \n",
       "241   3.4  0.2   not fire     \n",
       "242   5.1  0.7   not fire     \n",
       "243   4.8  0.5  not fire      \n",
       "\n",
       "[244 rows x 14 columns]"
      ]
     },
     "execution_count": 7,
     "metadata": {},
     "output_type": "execute_result"
    }
   ],
   "source": [
    "algerian"
   ]
  },
  {
   "cell_type": "code",
   "execution_count": 8,
   "id": "16606fbc",
   "metadata": {},
   "outputs": [],
   "source": [
    "algerian.loc[:121,'Region']='Bejaia'"
   ]
  },
  {
   "cell_type": "code",
   "execution_count": 9,
   "id": "0e667471",
   "metadata": {},
   "outputs": [],
   "source": [
    "algerian.loc[122:,'Region']='Sidi-Bel Abbes'"
   ]
  },
  {
   "cell_type": "code",
   "execution_count": 10,
   "id": "76f210aa",
   "metadata": {},
   "outputs": [
    {
     "data": {
      "text/plain": [
       "day              int64\n",
       "month            int64\n",
       "year             int64\n",
       "Temperature      int64\n",
       " RH              int64\n",
       " Ws              int64\n",
       "Rain           float64\n",
       "FFMC           float64\n",
       "DMC            float64\n",
       "DC              object\n",
       "ISI            float64\n",
       "BUI            float64\n",
       "FWI             object\n",
       "Classes         object\n",
       "Region          object\n",
       "dtype: object"
      ]
     },
     "execution_count": 10,
     "metadata": {},
     "output_type": "execute_result"
    }
   ],
   "source": [
    "algerian.dtypes"
   ]
  },
  {
   "cell_type": "code",
   "execution_count": 11,
   "id": "c5ec279e",
   "metadata": {},
   "outputs": [
    {
     "data": {
      "text/plain": [
       "day            0\n",
       "month          0\n",
       "year           0\n",
       "Temperature    0\n",
       " RH            0\n",
       " Ws            0\n",
       "Rain           0\n",
       "FFMC           0\n",
       "DMC            0\n",
       "DC             0\n",
       "ISI            0\n",
       "BUI            0\n",
       "FWI            0\n",
       "Classes        1\n",
       "Region         0\n",
       "dtype: int64"
      ]
     },
     "execution_count": 11,
     "metadata": {},
     "output_type": "execute_result"
    }
   ],
   "source": [
    "algerian.isnull().sum()"
   ]
  },
  {
   "cell_type": "code",
   "execution_count": 12,
   "id": "03b1bb20",
   "metadata": {},
   "outputs": [],
   "source": [
    "algerian.columns=[i.strip() for i in algerian.columns]\n",
    "algerian['Classes'].fillna(algerian['Classes'].mode()[0],inplace=True)"
   ]
  },
  {
   "cell_type": "code",
   "execution_count": 13,
   "id": "7755b468",
   "metadata": {},
   "outputs": [],
   "source": [
    "algerian.drop(['day','month','year'],inplace=True,axis=1)"
   ]
  },
  {
   "cell_type": "code",
   "execution_count": 14,
   "id": "3482676a",
   "metadata": {},
   "outputs": [],
   "source": [
    "numerical=[each for each in algerian.columns if algerian[each].dtype!='object']\n",
    "categorical=[each for each in algerian.columns if algerian[each].dtype=='object']"
   ]
  },
  {
   "cell_type": "code",
   "execution_count": 15,
   "id": "debe2475",
   "metadata": {},
   "outputs": [
    {
     "data": {
      "text/plain": [
       "['Temperature', 'RH', 'Ws', 'Rain', 'FFMC', 'DMC', 'ISI', 'BUI']"
      ]
     },
     "execution_count": 15,
     "metadata": {},
     "output_type": "execute_result"
    }
   ],
   "source": [
    "numerical"
   ]
  },
  {
   "cell_type": "code",
   "execution_count": 16,
   "id": "1c0ef1d4",
   "metadata": {},
   "outputs": [
    {
     "data": {
      "text/plain": [
       "['DC', 'FWI', 'Classes', 'Region']"
      ]
     },
     "execution_count": 16,
     "metadata": {},
     "output_type": "execute_result"
    }
   ],
   "source": [
    "categorical"
   ]
  },
  {
   "cell_type": "code",
   "execution_count": 17,
   "id": "b6c68647",
   "metadata": {},
   "outputs": [],
   "source": [
    "algerian['Classes']=algerian['Classes'].str.strip()"
   ]
  },
  {
   "cell_type": "markdown",
   "id": "0f9e6ec4",
   "metadata": {},
   "source": [
    "### 1.2 Univariate Analysis on numerical data"
   ]
  },
  {
   "cell_type": "code",
   "execution_count": 18,
   "id": "5ebf006a",
   "metadata": {},
   "outputs": [
    {
     "data": {
      "image/png": "[encoded data removed]",
      "text/plain": [
       "<Figure size 1152x720 with 8 Axes>"
      ]
     },
     "metadata": {
      "needs_background": "light"
     },
     "output_type": "display_data"
    }
   ],
   "source": [
    "plt.figure(figsize=(16,10))\n",
    "for i in range(len(numerical)):\n",
    "    plt.subplot(5,3,i+1)\n",
    "    sns.kdeplot(algerian[numerical[i]],shade=True,color='b')\n",
    "    plt.xlabel(numerical[i])\n",
    "    plt.tight_layout()\n",
    "    "
   ]
  },
  {
   "cell_type": "code",
   "execution_count": 19,
   "id": "4f7bef37",
   "metadata": {},
   "outputs": [
    {
     "data": {
      "image/png": "[encoded data removed]",
      "text/plain": [
       "<Figure size 1080x432 with 1 Axes>"
      ]
     },
     "metadata": {
      "needs_background": "light"
     },
     "output_type": "display_data"
    },
    {
     "data": {
      "image/png": "[encoded data removed]",
      "text/plain": [
       "<Figure size 1080x432 with 1 Axes>"
      ]
     },
     "metadata": {
      "needs_background": "light"
     },
     "output_type": "display_data"
    },
    {
     "data": {
      "image/png": "[encoded data removed]",
      "text/plain": [
       "<Figure size 1080x432 with 1 Axes>"
      ]
     },
     "metadata": {
      "needs_background": "light"
     },
     "output_type": "display_data"
    },
    {
     "data": {
      "image/png": "[encoded data removed]",
      "text/plain": [
       "<Figure size 1080x432 with 1 Axes>"
      ]
     },
     "metadata": {
      "needs_background": "light"
     },
     "output_type": "display_data"
    },
    {
     "data": {
      "image/png": "[encoded data removed]",
      "text/plain": [
       "<Figure size 1080x432 with 1 Axes>"
      ]
     },
     "metadata": {
      "needs_background": "light"
     },
     "output_type": "display_data"
    },
    {
     "data": {
      "image/png": "[encoded data removed]",
      "text/plain": [
       "<Figure size 1080x432 with 1 Axes>"
      ]
     },
     "metadata": {
      "needs_background": "light"
     },
     "output_type": "display_data"
    },
    {
     "data": {
      "image/png": "[encoded data removed]",
      "text/plain": [
       "<Figure size 1080x432 with 1 Axes>"
      ]
     },
     "metadata": {
      "needs_background": "light"
     },
     "output_type": "display_data"
    },
    {
     "data": {
      "image/png": "[encoded data removed]",
      "text/plain": [
       "<Figure size 1080x432 with 1 Axes>"
      ]
     },
     "metadata": {
      "needs_background": "light"
     },
     "output_type": "display_data"
    }
   ],
   "source": [
    "for i in range(len(numerical)):\n",
    "    plt.figure(figsize=(15,6))\n",
    "    plt.subplot(122)\n",
    "    sns.stripplot(y=algerian[numerical[i]],x=algerian['Classes'])\n",
    "    plt.xlabel(numerical[i])\n",
    "    plt.tight_layout()\n",
    "    "
   ]
  },
  {
   "cell_type": "code",
   "execution_count": 20,
   "id": "8c4e4360",
   "metadata": {},
   "outputs": [
    {
     "data": {
      "text/plain": [
       "Temperature    0\n",
       "RH             0\n",
       "Ws             0\n",
       "Rain           0\n",
       "FFMC           0\n",
       "DMC            0\n",
       "DC             0\n",
       "ISI            0\n",
       "BUI            0\n",
       "FWI            0\n",
       "Classes        0\n",
       "Region         0\n",
       "dtype: int64"
      ]
     },
     "execution_count": 20,
     "metadata": {},
     "output_type": "execute_result"
    }
   ],
   "source": [
    "algerian.isnull().sum()"
   ]
  },
  {
   "cell_type": "code",
   "execution_count": 21,
   "id": "354949ab",
   "metadata": {},
   "outputs": [
    {
     "data": {
      "text/html": [
       "<div>\n",
       "<style scoped>\n",
       "    .dataframe tbody tr th:only-of-type {\n",
       "        vertical-align: middle;\n",
       "    }\n",
       "\n",
       "    .dataframe tbody tr th {\n",
       "        vertical-align: top;\n",
       "    }\n",
       "\n",
       "    .dataframe thead tr th {\n",
       "        text-align: left;\n",
       "    }\n",
       "\n",
       "    .dataframe thead tr:last-of-type th {\n",
       "        text-align: right;\n",
       "    }\n",
       "</style>\n",
       "<table border=\"1\" class=\"dataframe\">\n",
       "  <thead>\n",
       "    <tr>\n",
       "      <th></th>\n",
       "      <th></th>\n",
       "      <th>Classes</th>\n",
       "    </tr>\n",
       "    <tr>\n",
       "      <th></th>\n",
       "      <th></th>\n",
       "      <th>count</th>\n",
       "    </tr>\n",
       "    <tr>\n",
       "      <th>Region</th>\n",
       "      <th>Classes</th>\n",
       "      <th></th>\n",
       "    </tr>\n",
       "  </thead>\n",
       "  <tbody>\n",
       "    <tr>\n",
       "      <th rowspan=\"2\" valign=\"top\">Bejaia</th>\n",
       "      <th>fire</th>\n",
       "      <td>59</td>\n",
       "    </tr>\n",
       "    <tr>\n",
       "      <th>not fire</th>\n",
       "      <td>63</td>\n",
       "    </tr>\n",
       "    <tr>\n",
       "      <th rowspan=\"2\" valign=\"top\">Sidi-Bel Abbes</th>\n",
       "      <th>fire</th>\n",
       "      <td>79</td>\n",
       "    </tr>\n",
       "    <tr>\n",
       "      <th>not fire</th>\n",
       "      <td>43</td>\n",
       "    </tr>\n",
       "  </tbody>\n",
       "</table>\n",
       "</div>"
      ],
      "text/plain": [
       "                        Classes\n",
       "                          count\n",
       "Region         Classes         \n",
       "Bejaia         fire          59\n",
       "               not fire      63\n",
       "Sidi-Bel Abbes fire          79\n",
       "               not fire      43"
      ]
     },
     "execution_count": 21,
     "metadata": {},
     "output_type": "execute_result"
    }
   ],
   "source": [
    "data_pie=algerian.groupby(['Region','Classes']).agg({'Classes':['count']})\n",
    "data_pie"
   ]
  },
  {
   "cell_type": "code",
   "execution_count": 22,
   "id": "e6aae018",
   "metadata": {},
   "outputs": [
    {
     "data": {
      "text/plain": [
       "<AxesSubplot:ylabel='count'>"
      ]
     },
     "execution_count": 22,
     "metadata": {},
     "output_type": "execute_result"
    },
    {
     "data": {
      "text/plain": [
       "<Figure size 504x432 with 0 Axes>"
      ]
     },
     "metadata": {},
     "output_type": "display_data"
    },
    {
     "data": {
      "image/png": "[encoded data removed]",
      "text/plain": [
       "<Figure size 432x288 with 1 Axes>"
      ]
     },
     "metadata": {},
     "output_type": "display_data"
    }
   ],
   "source": [
    "plt.figure(figsize=(7,6))\n",
    "data_pie.plot(kind='pie', y='Classes', autopct='%1.0f%%')"
   ]
  },
  {
   "cell_type": "code",
   "execution_count": 23,
   "id": "002f6a1b",
   "metadata": {},
   "outputs": [
    {
     "data": {
      "text/plain": [
       "fire        138\n",
       "not fire    106\n",
       "Name: Classes, dtype: int64"
      ]
     },
     "execution_count": 23,
     "metadata": {},
     "output_type": "execute_result"
    }
   ],
   "source": [
    "algerian['Classes'].value_counts()"
   ]
  },
  {
   "cell_type": "code",
   "execution_count": 24,
   "id": "158f1c62",
   "metadata": {},
   "outputs": [
    {
     "data": {
      "text/plain": [
       "<AxesSubplot:xlabel='Classes', ylabel='count'>"
      ]
     },
     "execution_count": 24,
     "metadata": {},
     "output_type": "execute_result"
    },
    {
     "data": {
      "image/png": "[encoded data removed]",
      "text/plain": [
       "<Figure size 432x288 with 1 Axes>"
      ]
     },
     "metadata": {
      "needs_background": "light"
     },
     "output_type": "display_data"
    }
   ],
   "source": [
    "sns.countplot(algerian['Classes'],hue=algerian['Region'])"
   ]
  },
  {
   "cell_type": "code",
   "execution_count": 25,
   "id": "8020fb7b",
   "metadata": {},
   "outputs": [],
   "source": [
    "from sklearn.preprocessing import LabelEncoder\n",
    "label_encoder=LabelEncoder()\n",
    "algerian['DC']=label_encoder.fit_transform(algerian['DC'])\n",
    "algerian['FWI']=label_encoder.fit_transform(algerian['FWI'])\n",
    "algerian['Classes']=label_encoder.fit_transform(algerian['Classes'])\n",
    "algerian['Region']=label_encoder.fit_transform(algerian['Region'])"
   ]
  },
  {
   "cell_type": "code",
   "execution_count": 26,
   "id": "df4e54a9",
   "metadata": {},
   "outputs": [
    {
     "data": {
      "text/html": [
       "<div>\n",
       "<style scoped>\n",
       "    .dataframe tbody tr th:only-of-type {\n",
       "        vertical-align: middle;\n",
       "    }\n",
       "\n",
       "    .dataframe tbody tr th {\n",
       "        vertical-align: top;\n",
       "    }\n",
       "\n",
       "    .dataframe thead th {\n",
       "        text-align: right;\n",
       "    }\n",
       "</style>\n",
       "<table border=\"1\" class=\"dataframe\">\n",
       "  <thead>\n",
       "    <tr style=\"text-align: right;\">\n",
       "      <th></th>\n",
       "      <th>Temperature</th>\n",
       "      <th>RH</th>\n",
       "      <th>Ws</th>\n",
       "      <th>Rain</th>\n",
       "      <th>FFMC</th>\n",
       "      <th>DMC</th>\n",
       "      <th>DC</th>\n",
       "      <th>ISI</th>\n",
       "      <th>BUI</th>\n",
       "      <th>FWI</th>\n",
       "      <th>Classes</th>\n",
       "      <th>Region</th>\n",
       "    </tr>\n",
       "  </thead>\n",
       "  <tbody>\n",
       "    <tr>\n",
       "      <th>0</th>\n",
       "      <td>29</td>\n",
       "      <td>57</td>\n",
       "      <td>18</td>\n",
       "      <td>0.0</td>\n",
       "      <td>65.7</td>\n",
       "      <td>3.4</td>\n",
       "      <td>150</td>\n",
       "      <td>1.3</td>\n",
       "      <td>3.4</td>\n",
       "      <td>5</td>\n",
       "      <td>1</td>\n",
       "      <td>0</td>\n",
       "    </tr>\n",
       "    <tr>\n",
       "      <th>1</th>\n",
       "      <td>29</td>\n",
       "      <td>61</td>\n",
       "      <td>13</td>\n",
       "      <td>1.3</td>\n",
       "      <td>64.4</td>\n",
       "      <td>4.1</td>\n",
       "      <td>150</td>\n",
       "      <td>1.0</td>\n",
       "      <td>3.9</td>\n",
       "      <td>4</td>\n",
       "      <td>1</td>\n",
       "      <td>0</td>\n",
       "    </tr>\n",
       "    <tr>\n",
       "      <th>2</th>\n",
       "      <td>26</td>\n",
       "      <td>82</td>\n",
       "      <td>22</td>\n",
       "      <td>13.1</td>\n",
       "      <td>47.1</td>\n",
       "      <td>2.5</td>\n",
       "      <td>146</td>\n",
       "      <td>0.3</td>\n",
       "      <td>2.7</td>\n",
       "      <td>1</td>\n",
       "      <td>1</td>\n",
       "      <td>0</td>\n",
       "    </tr>\n",
       "    <tr>\n",
       "      <th>3</th>\n",
       "      <td>25</td>\n",
       "      <td>89</td>\n",
       "      <td>13</td>\n",
       "      <td>2.5</td>\n",
       "      <td>28.6</td>\n",
       "      <td>1.3</td>\n",
       "      <td>136</td>\n",
       "      <td>0.0</td>\n",
       "      <td>1.7</td>\n",
       "      <td>0</td>\n",
       "      <td>1</td>\n",
       "      <td>0</td>\n",
       "    </tr>\n",
       "    <tr>\n",
       "      <th>4</th>\n",
       "      <td>27</td>\n",
       "      <td>77</td>\n",
       "      <td>16</td>\n",
       "      <td>0.0</td>\n",
       "      <td>64.8</td>\n",
       "      <td>3.0</td>\n",
       "      <td>18</td>\n",
       "      <td>1.2</td>\n",
       "      <td>3.9</td>\n",
       "      <td>5</td>\n",
       "      <td>1</td>\n",
       "      <td>0</td>\n",
       "    </tr>\n",
       "    <tr>\n",
       "      <th>...</th>\n",
       "      <td>...</td>\n",
       "      <td>...</td>\n",
       "      <td>...</td>\n",
       "      <td>...</td>\n",
       "      <td>...</td>\n",
       "      <td>...</td>\n",
       "      <td>...</td>\n",
       "      <td>...</td>\n",
       "      <td>...</td>\n",
       "      <td>...</td>\n",
       "      <td>...</td>\n",
       "      <td>...</td>\n",
       "    </tr>\n",
       "    <tr>\n",
       "      <th>239</th>\n",
       "      <td>30</td>\n",
       "      <td>65</td>\n",
       "      <td>14</td>\n",
       "      <td>0.0</td>\n",
       "      <td>85.4</td>\n",
       "      <td>16.0</td>\n",
       "      <td>112</td>\n",
       "      <td>4.5</td>\n",
       "      <td>16.9</td>\n",
       "      <td>106</td>\n",
       "      <td>0</td>\n",
       "      <td>1</td>\n",
       "    </tr>\n",
       "    <tr>\n",
       "      <th>240</th>\n",
       "      <td>28</td>\n",
       "      <td>87</td>\n",
       "      <td>15</td>\n",
       "      <td>4.4</td>\n",
       "      <td>41.1</td>\n",
       "      <td>6.5</td>\n",
       "      <td>164</td>\n",
       "      <td>0.1</td>\n",
       "      <td>6.2</td>\n",
       "      <td>0</td>\n",
       "      <td>1</td>\n",
       "      <td>1</td>\n",
       "    </tr>\n",
       "    <tr>\n",
       "      <th>241</th>\n",
       "      <td>27</td>\n",
       "      <td>87</td>\n",
       "      <td>29</td>\n",
       "      <td>0.5</td>\n",
       "      <td>45.9</td>\n",
       "      <td>3.5</td>\n",
       "      <td>153</td>\n",
       "      <td>0.4</td>\n",
       "      <td>3.4</td>\n",
       "      <td>2</td>\n",
       "      <td>1</td>\n",
       "      <td>1</td>\n",
       "    </tr>\n",
       "    <tr>\n",
       "      <th>242</th>\n",
       "      <td>24</td>\n",
       "      <td>54</td>\n",
       "      <td>18</td>\n",
       "      <td>0.1</td>\n",
       "      <td>79.7</td>\n",
       "      <td>4.3</td>\n",
       "      <td>25</td>\n",
       "      <td>1.7</td>\n",
       "      <td>5.1</td>\n",
       "      <td>7</td>\n",
       "      <td>1</td>\n",
       "      <td>1</td>\n",
       "    </tr>\n",
       "    <tr>\n",
       "      <th>243</th>\n",
       "      <td>24</td>\n",
       "      <td>64</td>\n",
       "      <td>15</td>\n",
       "      <td>0.2</td>\n",
       "      <td>67.3</td>\n",
       "      <td>3.8</td>\n",
       "      <td>34</td>\n",
       "      <td>1.2</td>\n",
       "      <td>4.8</td>\n",
       "      <td>5</td>\n",
       "      <td>1</td>\n",
       "      <td>1</td>\n",
       "    </tr>\n",
       "  </tbody>\n",
       "</table>\n",
       "<p>244 rows × 12 columns</p>\n",
       "</div>"
      ],
      "text/plain": [
       "     Temperature  RH  Ws  Rain  FFMC   DMC   DC  ISI   BUI  FWI  Classes  \\\n",
       "0             29  57  18   0.0  65.7   3.4  150  1.3   3.4    5        1   \n",
       "1             29  61  13   1.3  64.4   4.1  150  1.0   3.9    4        1   \n",
       "2             26  82  22  13.1  47.1   2.5  146  0.3   2.7    1        1   \n",
       "3             25  89  13   2.5  28.6   1.3  136  0.0   1.7    0        1   \n",
       "4             27  77  16   0.0  64.8   3.0   18  1.2   3.9    5        1   \n",
       "..           ...  ..  ..   ...   ...   ...  ...  ...   ...  ...      ...   \n",
       "239           30  65  14   0.0  85.4  16.0  112  4.5  16.9  106        0   \n",
       "240           28  87  15   4.4  41.1   6.5  164  0.1   6.2    0        1   \n",
       "241           27  87  29   0.5  45.9   3.5  153  0.4   3.4    2        1   \n",
       "242           24  54  18   0.1  79.7   4.3   25  1.7   5.1    7        1   \n",
       "243           24  64  15   0.2  67.3   3.8   34  1.2   4.8    5        1   \n",
       "\n",
       "     Region  \n",
       "0         0  \n",
       "1         0  \n",
       "2         0  \n",
       "3         0  \n",
       "4         0  \n",
       "..      ...  \n",
       "239       1  \n",
       "240       1  \n",
       "241       1  \n",
       "242       1  \n",
       "243       1  \n",
       "\n",
       "[244 rows x 12 columns]"
      ]
     },
     "execution_count": 26,
     "metadata": {},
     "output_type": "execute_result"
    }
   ],
   "source": [
    "algerian"
   ]
  },
  {
   "cell_type": "code",
   "execution_count": 27,
   "id": "4bbadbda",
   "metadata": {},
   "outputs": [
    {
     "data": {
      "text/html": [
       "<div>\n",
       "<style scoped>\n",
       "    .dataframe tbody tr th:only-of-type {\n",
       "        vertical-align: middle;\n",
       "    }\n",
       "\n",
       "    .dataframe tbody tr th {\n",
       "        vertical-align: top;\n",
       "    }\n",
       "\n",
       "    .dataframe thead th {\n",
       "        text-align: right;\n",
       "    }\n",
       "</style>\n",
       "<table border=\"1\" class=\"dataframe\">\n",
       "  <thead>\n",
       "    <tr style=\"text-align: right;\">\n",
       "      <th></th>\n",
       "      <th>Temperature</th>\n",
       "      <th>RH</th>\n",
       "      <th>Ws</th>\n",
       "      <th>Rain</th>\n",
       "      <th>FFMC</th>\n",
       "      <th>DMC</th>\n",
       "      <th>DC</th>\n",
       "      <th>ISI</th>\n",
       "      <th>BUI</th>\n",
       "      <th>FWI</th>\n",
       "      <th>Classes</th>\n",
       "      <th>Region</th>\n",
       "    </tr>\n",
       "  </thead>\n",
       "  <tbody>\n",
       "  </tbody>\n",
       "</table>\n",
       "</div>"
      ],
      "text/plain": [
       "Empty DataFrame\n",
       "Columns: [Temperature, RH, Ws, Rain, FFMC, DMC, DC, ISI, BUI, FWI, Classes, Region]\n",
       "Index: []"
      ]
     },
     "execution_count": 27,
     "metadata": {},
     "output_type": "execute_result"
    }
   ],
   "source": [
    "algerian[algerian.Classes==2]"
   ]
  },
  {
   "cell_type": "code",
   "execution_count": 28,
   "id": "cf6296c4",
   "metadata": {},
   "outputs": [],
   "source": [
    "X=algerian.loc[:,[i for i in algerian.columns if i!='Classes']]"
   ]
  },
  {
   "cell_type": "code",
   "execution_count": 29,
   "id": "29124b09",
   "metadata": {},
   "outputs": [
    {
     "data": {
      "text/html": [
       "<div>\n",
       "<style scoped>\n",
       "    .dataframe tbody tr th:only-of-type {\n",
       "        vertical-align: middle;\n",
       "    }\n",
       "\n",
       "    .dataframe tbody tr th {\n",
       "        vertical-align: top;\n",
       "    }\n",
       "\n",
       "    .dataframe thead th {\n",
       "        text-align: right;\n",
       "    }\n",
       "</style>\n",
       "<table border=\"1\" class=\"dataframe\">\n",
       "  <thead>\n",
       "    <tr style=\"text-align: right;\">\n",
       "      <th></th>\n",
       "      <th>Temperature</th>\n",
       "      <th>RH</th>\n",
       "      <th>Ws</th>\n",
       "      <th>Rain</th>\n",
       "      <th>FFMC</th>\n",
       "      <th>DMC</th>\n",
       "      <th>DC</th>\n",
       "      <th>ISI</th>\n",
       "      <th>BUI</th>\n",
       "      <th>FWI</th>\n",
       "      <th>Region</th>\n",
       "    </tr>\n",
       "  </thead>\n",
       "  <tbody>\n",
       "    <tr>\n",
       "      <th>0</th>\n",
       "      <td>29</td>\n",
       "      <td>57</td>\n",
       "      <td>18</td>\n",
       "      <td>0.0</td>\n",
       "      <td>65.7</td>\n",
       "      <td>3.4</td>\n",
       "      <td>150</td>\n",
       "      <td>1.3</td>\n",
       "      <td>3.4</td>\n",
       "      <td>5</td>\n",
       "      <td>0</td>\n",
       "    </tr>\n",
       "    <tr>\n",
       "      <th>1</th>\n",
       "      <td>29</td>\n",
       "      <td>61</td>\n",
       "      <td>13</td>\n",
       "      <td>1.3</td>\n",
       "      <td>64.4</td>\n",
       "      <td>4.1</td>\n",
       "      <td>150</td>\n",
       "      <td>1.0</td>\n",
       "      <td>3.9</td>\n",
       "      <td>4</td>\n",
       "      <td>0</td>\n",
       "    </tr>\n",
       "    <tr>\n",
       "      <th>2</th>\n",
       "      <td>26</td>\n",
       "      <td>82</td>\n",
       "      <td>22</td>\n",
       "      <td>13.1</td>\n",
       "      <td>47.1</td>\n",
       "      <td>2.5</td>\n",
       "      <td>146</td>\n",
       "      <td>0.3</td>\n",
       "      <td>2.7</td>\n",
       "      <td>1</td>\n",
       "      <td>0</td>\n",
       "    </tr>\n",
       "    <tr>\n",
       "      <th>3</th>\n",
       "      <td>25</td>\n",
       "      <td>89</td>\n",
       "      <td>13</td>\n",
       "      <td>2.5</td>\n",
       "      <td>28.6</td>\n",
       "      <td>1.3</td>\n",
       "      <td>136</td>\n",
       "      <td>0.0</td>\n",
       "      <td>1.7</td>\n",
       "      <td>0</td>\n",
       "      <td>0</td>\n",
       "    </tr>\n",
       "    <tr>\n",
       "      <th>4</th>\n",
       "      <td>27</td>\n",
       "      <td>77</td>\n",
       "      <td>16</td>\n",
       "      <td>0.0</td>\n",
       "      <td>64.8</td>\n",
       "      <td>3.0</td>\n",
       "      <td>18</td>\n",
       "      <td>1.2</td>\n",
       "      <td>3.9</td>\n",
       "      <td>5</td>\n",
       "      <td>0</td>\n",
       "    </tr>\n",
       "    <tr>\n",
       "      <th>...</th>\n",
       "      <td>...</td>\n",
       "      <td>...</td>\n",
       "      <td>...</td>\n",
       "      <td>...</td>\n",
       "      <td>...</td>\n",
       "      <td>...</td>\n",
       "      <td>...</td>\n",
       "      <td>...</td>\n",
       "      <td>...</td>\n",
       "      <td>...</td>\n",
       "      <td>...</td>\n",
       "    </tr>\n",
       "    <tr>\n",
       "      <th>239</th>\n",
       "      <td>30</td>\n",
       "      <td>65</td>\n",
       "      <td>14</td>\n",
       "      <td>0.0</td>\n",
       "      <td>85.4</td>\n",
       "      <td>16.0</td>\n",
       "      <td>112</td>\n",
       "      <td>4.5</td>\n",
       "      <td>16.9</td>\n",
       "      <td>106</td>\n",
       "      <td>1</td>\n",
       "    </tr>\n",
       "    <tr>\n",
       "      <th>240</th>\n",
       "      <td>28</td>\n",
       "      <td>87</td>\n",
       "      <td>15</td>\n",
       "      <td>4.4</td>\n",
       "      <td>41.1</td>\n",
       "      <td>6.5</td>\n",
       "      <td>164</td>\n",
       "      <td>0.1</td>\n",
       "      <td>6.2</td>\n",
       "      <td>0</td>\n",
       "      <td>1</td>\n",
       "    </tr>\n",
       "    <tr>\n",
       "      <th>241</th>\n",
       "      <td>27</td>\n",
       "      <td>87</td>\n",
       "      <td>29</td>\n",
       "      <td>0.5</td>\n",
       "      <td>45.9</td>\n",
       "      <td>3.5</td>\n",
       "      <td>153</td>\n",
       "      <td>0.4</td>\n",
       "      <td>3.4</td>\n",
       "      <td>2</td>\n",
       "      <td>1</td>\n",
       "    </tr>\n",
       "    <tr>\n",
       "      <th>242</th>\n",
       "      <td>24</td>\n",
       "      <td>54</td>\n",
       "      <td>18</td>\n",
       "      <td>0.1</td>\n",
       "      <td>79.7</td>\n",
       "      <td>4.3</td>\n",
       "      <td>25</td>\n",
       "      <td>1.7</td>\n",
       "      <td>5.1</td>\n",
       "      <td>7</td>\n",
       "      <td>1</td>\n",
       "    </tr>\n",
       "    <tr>\n",
       "      <th>243</th>\n",
       "      <td>24</td>\n",
       "      <td>64</td>\n",
       "      <td>15</td>\n",
       "      <td>0.2</td>\n",
       "      <td>67.3</td>\n",
       "      <td>3.8</td>\n",
       "      <td>34</td>\n",
       "      <td>1.2</td>\n",
       "      <td>4.8</td>\n",
       "      <td>5</td>\n",
       "      <td>1</td>\n",
       "    </tr>\n",
       "  </tbody>\n",
       "</table>\n",
       "<p>244 rows × 11 columns</p>\n",
       "</div>"
      ],
      "text/plain": [
       "     Temperature  RH  Ws  Rain  FFMC   DMC   DC  ISI   BUI  FWI  Region\n",
       "0             29  57  18   0.0  65.7   3.4  150  1.3   3.4    5       0\n",
       "1             29  61  13   1.3  64.4   4.1  150  1.0   3.9    4       0\n",
       "2             26  82  22  13.1  47.1   2.5  146  0.3   2.7    1       0\n",
       "3             25  89  13   2.5  28.6   1.3  136  0.0   1.7    0       0\n",
       "4             27  77  16   0.0  64.8   3.0   18  1.2   3.9    5       0\n",
       "..           ...  ..  ..   ...   ...   ...  ...  ...   ...  ...     ...\n",
       "239           30  65  14   0.0  85.4  16.0  112  4.5  16.9  106       1\n",
       "240           28  87  15   4.4  41.1   6.5  164  0.1   6.2    0       1\n",
       "241           27  87  29   0.5  45.9   3.5  153  0.4   3.4    2       1\n",
       "242           24  54  18   0.1  79.7   4.3   25  1.7   5.1    7       1\n",
       "243           24  64  15   0.2  67.3   3.8   34  1.2   4.8    5       1\n",
       "\n",
       "[244 rows x 11 columns]"
      ]
     },
     "execution_count": 29,
     "metadata": {},
     "output_type": "execute_result"
    }
   ],
   "source": [
    "X"
   ]
  },
  {
   "cell_type": "code",
   "execution_count": 30,
   "id": "9dbb2237",
   "metadata": {},
   "outputs": [],
   "source": [
    "Y=algerian['Classes']"
   ]
  },
  {
   "cell_type": "code",
   "execution_count": 31,
   "id": "5a8faeb9",
   "metadata": {},
   "outputs": [
    {
     "data": {
      "text/plain": [
       "0    138\n",
       "1    106\n",
       "Name: Classes, dtype: int64"
      ]
     },
     "execution_count": 31,
     "metadata": {},
     "output_type": "execute_result"
    }
   ],
   "source": [
    "Y.value_counts()"
   ]
  },
  {
   "cell_type": "code",
   "execution_count": 32,
   "id": "15079e58",
   "metadata": {},
   "outputs": [],
   "source": [
    "from sklearn.model_selection import train_test_split\n",
    "X_train, X_test, Y_train, Y_test = train_test_split(X, Y, test_size=0.33, random_state=42)"
   ]
  },
  {
   "cell_type": "code",
   "execution_count": 33,
   "id": "ade1e2d6",
   "metadata": {},
   "outputs": [
    {
     "data": {
      "text/html": [
       "<div>\n",
       "<style scoped>\n",
       "    .dataframe tbody tr th:only-of-type {\n",
       "        vertical-align: middle;\n",
       "    }\n",
       "\n",
       "    .dataframe tbody tr th {\n",
       "        vertical-align: top;\n",
       "    }\n",
       "\n",
       "    .dataframe thead th {\n",
       "        text-align: right;\n",
       "    }\n",
       "</style>\n",
       "<table border=\"1\" class=\"dataframe\">\n",
       "  <thead>\n",
       "    <tr style=\"text-align: right;\">\n",
       "      <th></th>\n",
       "      <th>Temperature</th>\n",
       "      <th>RH</th>\n",
       "      <th>Ws</th>\n",
       "      <th>Rain</th>\n",
       "      <th>FFMC</th>\n",
       "      <th>DMC</th>\n",
       "      <th>DC</th>\n",
       "      <th>ISI</th>\n",
       "      <th>BUI</th>\n",
       "      <th>FWI</th>\n",
       "      <th>Region</th>\n",
       "    </tr>\n",
       "  </thead>\n",
       "  <tbody>\n",
       "    <tr>\n",
       "      <th>114</th>\n",
       "      <td>32</td>\n",
       "      <td>54</td>\n",
       "      <td>11</td>\n",
       "      <td>0.5</td>\n",
       "      <td>73.7</td>\n",
       "      <td>7.9</td>\n",
       "      <td>82</td>\n",
       "      <td>1.2</td>\n",
       "      <td>9.6</td>\n",
       "      <td>7</td>\n",
       "      <td>0</td>\n",
       "    </tr>\n",
       "    <tr>\n",
       "      <th>65</th>\n",
       "      <td>34</td>\n",
       "      <td>65</td>\n",
       "      <td>13</td>\n",
       "      <td>0.0</td>\n",
       "      <td>86.8</td>\n",
       "      <td>11.1</td>\n",
       "      <td>80</td>\n",
       "      <td>5.2</td>\n",
       "      <td>11.5</td>\n",
       "      <td>103</td>\n",
       "      <td>0</td>\n",
       "    </tr>\n",
       "    <tr>\n",
       "      <th>132</th>\n",
       "      <td>31</td>\n",
       "      <td>42</td>\n",
       "      <td>21</td>\n",
       "      <td>0.0</td>\n",
       "      <td>90.6</td>\n",
       "      <td>18.2</td>\n",
       "      <td>83</td>\n",
       "      <td>13.4</td>\n",
       "      <td>18.0</td>\n",
       "      <td>49</td>\n",
       "      <td>1</td>\n",
       "    </tr>\n",
       "    <tr>\n",
       "      <th>207</th>\n",
       "      <td>34</td>\n",
       "      <td>40</td>\n",
       "      <td>18</td>\n",
       "      <td>0.0</td>\n",
       "      <td>92.1</td>\n",
       "      <td>56.3</td>\n",
       "      <td>30</td>\n",
       "      <td>14.3</td>\n",
       "      <td>59.5</td>\n",
       "      <td>90</td>\n",
       "      <td>1</td>\n",
       "    </tr>\n",
       "    <tr>\n",
       "      <th>162</th>\n",
       "      <td>34</td>\n",
       "      <td>56</td>\n",
       "      <td>15</td>\n",
       "      <td>2.9</td>\n",
       "      <td>74.8</td>\n",
       "      <td>7.1</td>\n",
       "      <td>185</td>\n",
       "      <td>1.6</td>\n",
       "      <td>6.8</td>\n",
       "      <td>8</td>\n",
       "      <td>1</td>\n",
       "    </tr>\n",
       "    <tr>\n",
       "      <th>...</th>\n",
       "      <td>...</td>\n",
       "      <td>...</td>\n",
       "      <td>...</td>\n",
       "      <td>...</td>\n",
       "      <td>...</td>\n",
       "      <td>...</td>\n",
       "      <td>...</td>\n",
       "      <td>...</td>\n",
       "      <td>...</td>\n",
       "      <td>...</td>\n",
       "      <td>...</td>\n",
       "    </tr>\n",
       "    <tr>\n",
       "      <th>106</th>\n",
       "      <td>24</td>\n",
       "      <td>82</td>\n",
       "      <td>15</td>\n",
       "      <td>0.4</td>\n",
       "      <td>44.9</td>\n",
       "      <td>0.9</td>\n",
       "      <td>147</td>\n",
       "      <td>0.2</td>\n",
       "      <td>1.4</td>\n",
       "      <td>0</td>\n",
       "      <td>0</td>\n",
       "    </tr>\n",
       "    <tr>\n",
       "      <th>14</th>\n",
       "      <td>28</td>\n",
       "      <td>80</td>\n",
       "      <td>17</td>\n",
       "      <td>3.1</td>\n",
       "      <td>49.4</td>\n",
       "      <td>3.0</td>\n",
       "      <td>148</td>\n",
       "      <td>0.4</td>\n",
       "      <td>3.0</td>\n",
       "      <td>1</td>\n",
       "      <td>0</td>\n",
       "    </tr>\n",
       "    <tr>\n",
       "      <th>92</th>\n",
       "      <td>25</td>\n",
       "      <td>76</td>\n",
       "      <td>17</td>\n",
       "      <td>7.2</td>\n",
       "      <td>46.0</td>\n",
       "      <td>1.3</td>\n",
       "      <td>149</td>\n",
       "      <td>0.2</td>\n",
       "      <td>1.8</td>\n",
       "      <td>1</td>\n",
       "      <td>0</td>\n",
       "    </tr>\n",
       "    <tr>\n",
       "      <th>179</th>\n",
       "      <td>33</td>\n",
       "      <td>57</td>\n",
       "      <td>16</td>\n",
       "      <td>0.0</td>\n",
       "      <td>87.5</td>\n",
       "      <td>15.7</td>\n",
       "      <td>98</td>\n",
       "      <td>6.7</td>\n",
       "      <td>15.7</td>\n",
       "      <td>119</td>\n",
       "      <td>1</td>\n",
       "    </tr>\n",
       "    <tr>\n",
       "      <th>102</th>\n",
       "      <td>30</td>\n",
       "      <td>77</td>\n",
       "      <td>21</td>\n",
       "      <td>1.8</td>\n",
       "      <td>58.5</td>\n",
       "      <td>1.9</td>\n",
       "      <td>167</td>\n",
       "      <td>1.1</td>\n",
       "      <td>2.4</td>\n",
       "      <td>3</td>\n",
       "      <td>0</td>\n",
       "    </tr>\n",
       "  </tbody>\n",
       "</table>\n",
       "<p>163 rows × 11 columns</p>\n",
       "</div>"
      ],
      "text/plain": [
       "     Temperature  RH  Ws  Rain  FFMC   DMC   DC   ISI   BUI  FWI  Region\n",
       "114           32  54  11   0.5  73.7   7.9   82   1.2   9.6    7       0\n",
       "65            34  65  13   0.0  86.8  11.1   80   5.2  11.5  103       0\n",
       "132           31  42  21   0.0  90.6  18.2   83  13.4  18.0   49       1\n",
       "207           34  40  18   0.0  92.1  56.3   30  14.3  59.5   90       1\n",
       "162           34  56  15   2.9  74.8   7.1  185   1.6   6.8    8       1\n",
       "..           ...  ..  ..   ...   ...   ...  ...   ...   ...  ...     ...\n",
       "106           24  82  15   0.4  44.9   0.9  147   0.2   1.4    0       0\n",
       "14            28  80  17   3.1  49.4   3.0  148   0.4   3.0    1       0\n",
       "92            25  76  17   7.2  46.0   1.3  149   0.2   1.8    1       0\n",
       "179           33  57  16   0.0  87.5  15.7   98   6.7  15.7  119       1\n",
       "102           30  77  21   1.8  58.5   1.9  167   1.1   2.4    3       0\n",
       "\n",
       "[163 rows x 11 columns]"
      ]
     },
     "execution_count": 33,
     "metadata": {},
     "output_type": "execute_result"
    }
   ],
   "source": [
    "X_train"
   ]
  },
  {
   "cell_type": "code",
   "execution_count": 34,
   "id": "fe7fef6b",
   "metadata": {},
   "outputs": [
    {
     "data": {
      "text/html": [
       "<div>\n",
       "<style scoped>\n",
       "    .dataframe tbody tr th:only-of-type {\n",
       "        vertical-align: middle;\n",
       "    }\n",
       "\n",
       "    .dataframe tbody tr th {\n",
       "        vertical-align: top;\n",
       "    }\n",
       "\n",
       "    .dataframe thead th {\n",
       "        text-align: right;\n",
       "    }\n",
       "</style>\n",
       "<table border=\"1\" class=\"dataframe\">\n",
       "  <thead>\n",
       "    <tr style=\"text-align: right;\">\n",
       "      <th></th>\n",
       "      <th>Temperature</th>\n",
       "      <th>RH</th>\n",
       "      <th>Ws</th>\n",
       "      <th>Rain</th>\n",
       "      <th>FFMC</th>\n",
       "      <th>DMC</th>\n",
       "      <th>DC</th>\n",
       "      <th>ISI</th>\n",
       "      <th>BUI</th>\n",
       "      <th>FWI</th>\n",
       "      <th>Region</th>\n",
       "    </tr>\n",
       "  </thead>\n",
       "  <tbody>\n",
       "    <tr>\n",
       "      <th>24</th>\n",
       "      <td>31</td>\n",
       "      <td>64</td>\n",
       "      <td>15</td>\n",
       "      <td>0.0</td>\n",
       "      <td>86.7</td>\n",
       "      <td>14.2</td>\n",
       "      <td>141</td>\n",
       "      <td>5.7</td>\n",
       "      <td>18.3</td>\n",
       "      <td>117</td>\n",
       "      <td>0</td>\n",
       "    </tr>\n",
       "    <tr>\n",
       "      <th>6</th>\n",
       "      <td>33</td>\n",
       "      <td>54</td>\n",
       "      <td>13</td>\n",
       "      <td>0.0</td>\n",
       "      <td>88.2</td>\n",
       "      <td>9.9</td>\n",
       "      <td>83</td>\n",
       "      <td>6.4</td>\n",
       "      <td>10.9</td>\n",
       "      <td>111</td>\n",
       "      <td>0</td>\n",
       "    </tr>\n",
       "    <tr>\n",
       "      <th>153</th>\n",
       "      <td>33</td>\n",
       "      <td>48</td>\n",
       "      <td>16</td>\n",
       "      <td>0.0</td>\n",
       "      <td>87.6</td>\n",
       "      <td>7.9</td>\n",
       "      <td>43</td>\n",
       "      <td>6.8</td>\n",
       "      <td>7.8</td>\n",
       "      <td>105</td>\n",
       "      <td>1</td>\n",
       "    </tr>\n",
       "    <tr>\n",
       "      <th>211</th>\n",
       "      <td>35</td>\n",
       "      <td>53</td>\n",
       "      <td>17</td>\n",
       "      <td>0.5</td>\n",
       "      <td>80.2</td>\n",
       "      <td>20.7</td>\n",
       "      <td>24</td>\n",
       "      <td>2.7</td>\n",
       "      <td>30.6</td>\n",
       "      <td>101</td>\n",
       "      <td>1</td>\n",
       "    </tr>\n",
       "    <tr>\n",
       "      <th>198</th>\n",
       "      <td>40</td>\n",
       "      <td>41</td>\n",
       "      <td>10</td>\n",
       "      <td>0.1</td>\n",
       "      <td>92.0</td>\n",
       "      <td>22.6</td>\n",
       "      <td>142</td>\n",
       "      <td>9.5</td>\n",
       "      <td>24.2</td>\n",
       "      <td>40</td>\n",
       "      <td>1</td>\n",
       "    </tr>\n",
       "    <tr>\n",
       "      <th>...</th>\n",
       "      <td>...</td>\n",
       "      <td>...</td>\n",
       "      <td>...</td>\n",
       "      <td>...</td>\n",
       "      <td>...</td>\n",
       "      <td>...</td>\n",
       "      <td>...</td>\n",
       "      <td>...</td>\n",
       "      <td>...</td>\n",
       "      <td>...</td>\n",
       "      <td>...</td>\n",
       "    </tr>\n",
       "    <tr>\n",
       "      <th>180</th>\n",
       "      <td>34</td>\n",
       "      <td>59</td>\n",
       "      <td>16</td>\n",
       "      <td>0.0</td>\n",
       "      <td>88.1</td>\n",
       "      <td>19.5</td>\n",
       "      <td>117</td>\n",
       "      <td>7.4</td>\n",
       "      <td>19.5</td>\n",
       "      <td>22</td>\n",
       "      <td>1</td>\n",
       "    </tr>\n",
       "    <tr>\n",
       "      <th>5</th>\n",
       "      <td>31</td>\n",
       "      <td>67</td>\n",
       "      <td>14</td>\n",
       "      <td>0.0</td>\n",
       "      <td>82.6</td>\n",
       "      <td>5.8</td>\n",
       "      <td>59</td>\n",
       "      <td>3.1</td>\n",
       "      <td>7.0</td>\n",
       "      <td>64</td>\n",
       "      <td>0</td>\n",
       "    </tr>\n",
       "    <tr>\n",
       "      <th>56</th>\n",
       "      <td>36</td>\n",
       "      <td>48</td>\n",
       "      <td>13</td>\n",
       "      <td>0.0</td>\n",
       "      <td>90.3</td>\n",
       "      <td>22.2</td>\n",
       "      <td>7</td>\n",
       "      <td>8.7</td>\n",
       "      <td>29.4</td>\n",
       "      <td>43</td>\n",
       "      <td>0</td>\n",
       "    </tr>\n",
       "    <tr>\n",
       "      <th>125</th>\n",
       "      <td>30</td>\n",
       "      <td>64</td>\n",
       "      <td>14</td>\n",
       "      <td>0.0</td>\n",
       "      <td>79.4</td>\n",
       "      <td>5.2</td>\n",
       "      <td>26</td>\n",
       "      <td>2.2</td>\n",
       "      <td>5.6</td>\n",
       "      <td>10</td>\n",
       "      <td>1</td>\n",
       "    </tr>\n",
       "    <tr>\n",
       "      <th>148</th>\n",
       "      <td>36</td>\n",
       "      <td>55</td>\n",
       "      <td>15</td>\n",
       "      <td>0.0</td>\n",
       "      <td>89.1</td>\n",
       "      <td>20.9</td>\n",
       "      <td>111</td>\n",
       "      <td>8.0</td>\n",
       "      <td>20.8</td>\n",
       "      <td>26</td>\n",
       "      <td>1</td>\n",
       "    </tr>\n",
       "  </tbody>\n",
       "</table>\n",
       "<p>81 rows × 11 columns</p>\n",
       "</div>"
      ],
      "text/plain": [
       "     Temperature  RH  Ws  Rain  FFMC   DMC   DC  ISI   BUI  FWI  Region\n",
       "24            31  64  15   0.0  86.7  14.2  141  5.7  18.3  117       0\n",
       "6             33  54  13   0.0  88.2   9.9   83  6.4  10.9  111       0\n",
       "153           33  48  16   0.0  87.6   7.9   43  6.8   7.8  105       1\n",
       "211           35  53  17   0.5  80.2  20.7   24  2.7  30.6  101       1\n",
       "198           40  41  10   0.1  92.0  22.6  142  9.5  24.2   40       1\n",
       "..           ...  ..  ..   ...   ...   ...  ...  ...   ...  ...     ...\n",
       "180           34  59  16   0.0  88.1  19.5  117  7.4  19.5   22       1\n",
       "5             31  67  14   0.0  82.6   5.8   59  3.1   7.0   64       0\n",
       "56            36  48  13   0.0  90.3  22.2    7  8.7  29.4   43       0\n",
       "125           30  64  14   0.0  79.4   5.2   26  2.2   5.6   10       1\n",
       "148           36  55  15   0.0  89.1  20.9  111  8.0  20.8   26       1\n",
       "\n",
       "[81 rows x 11 columns]"
      ]
     },
     "execution_count": 34,
     "metadata": {},
     "output_type": "execute_result"
    }
   ],
   "source": [
    "X_test"
   ]
  },
  {
   "cell_type": "code",
   "execution_count": 35,
   "id": "83f3a568",
   "metadata": {},
   "outputs": [
    {
     "data": {
      "text/plain": [
       "114    1\n",
       "65     0\n",
       "132    0\n",
       "207    0\n",
       "162    1\n",
       "      ..\n",
       "106    1\n",
       "14     1\n",
       "92     1\n",
       "179    0\n",
       "102    1\n",
       "Name: Classes, Length: 163, dtype: int64"
      ]
     },
     "execution_count": 35,
     "metadata": {},
     "output_type": "execute_result"
    }
   ],
   "source": [
    "Y_train"
   ]
  },
  {
   "cell_type": "code",
   "execution_count": 36,
   "id": "c736ff09",
   "metadata": {},
   "outputs": [
    {
     "data": {
      "text/plain": [
       "24     0\n",
       "6      0\n",
       "153    0\n",
       "211    0\n",
       "198    0\n",
       "      ..\n",
       "180    0\n",
       "5      0\n",
       "56     0\n",
       "125    1\n",
       "148    0\n",
       "Name: Classes, Length: 81, dtype: int64"
      ]
     },
     "execution_count": 36,
     "metadata": {},
     "output_type": "execute_result"
    }
   ],
   "source": [
    "Y_test"
   ]
  },
  {
   "cell_type": "code",
   "execution_count": 37,
   "id": "c3341c84",
   "metadata": {},
   "outputs": [],
   "source": [
    "from sklearn.preprocessing import StandardScaler\n",
    "scaler=StandardScaler()"
   ]
  },
  {
   "cell_type": "code",
   "execution_count": 38,
   "id": "04319de4",
   "metadata": {},
   "outputs": [],
   "source": [
    "X_train=scaler.fit_transform(X_train)"
   ]
  },
  {
   "cell_type": "code",
   "execution_count": 39,
   "id": "440edf60",
   "metadata": {},
   "outputs": [],
   "source": [
    "X_test=scaler.transform(X_test)"
   ]
  },
  {
   "cell_type": "code",
   "execution_count": 40,
   "id": "63f567c6",
   "metadata": {},
   "outputs": [
    {
     "data": {
      "text/plain": [
       "array([[ 0.00487747, -0.60257784, -1.68484146, ..., -0.47763563,\n",
       "        -0.95113427, -0.99388373],\n",
       "       [ 0.53489642,  0.14460201, -0.93856657, ..., -0.3471914 ,\n",
       "         1.42829803, -0.99388373],\n",
       "       [-0.260132  , -1.41768313,  2.04653297, ...,  0.09906517,\n",
       "         0.08986736,  1.0061539 ],\n",
       "       ...,\n",
       "       [-1.85018883,  0.89178186,  0.5539832 , ..., -1.01314351,\n",
       "        -1.09984879, -0.99388373],\n",
       "       [ 0.26988695, -0.39880152,  0.18084575, ..., -0.058841  ,\n",
       "         1.82487008,  1.0061539 ],\n",
       "       [-0.52514147,  0.9597073 ,  2.04653297, ..., -0.9719506 ,\n",
       "        -1.05027728, -0.99388373]])"
      ]
     },
     "execution_count": 40,
     "metadata": {},
     "output_type": "execute_result"
    }
   ],
   "source": [
    "X_train"
   ]
  },
  {
   "cell_type": "code",
   "execution_count": 41,
   "id": "616e7e40",
   "metadata": {},
   "outputs": [
    {
     "data": {
      "text/plain": [
       "array([[-2.60131998e-01,  7.66765714e-02, -1.92291688e-01,\n",
       "        -3.94361879e-01,  6.76854493e-01, -3.05224430e-02,\n",
       "         6.47966403e-01,  2.81509163e-01,  1.19661624e-01,\n",
       "         1.77529858e+00, -9.93883735e-01],\n",
       "       [ 2.69886948e-01, -6.02577838e-01, -9.38566574e-01,\n",
       "        -3.94361879e-01,  7.79312965e-01, -3.70096733e-01,\n",
       "        -3.40556168e-01,  4.49765818e-01, -3.88384315e-01,\n",
       "         1.62658406e+00, -9.93883735e-01],\n",
       "       [ 2.69886948e-01, -1.01013048e+00,  1.80845755e-01,\n",
       "        -3.94361879e-01,  7.38329576e-01, -5.28038264e-01,\n",
       "        -1.02229587e+00,  5.45912478e-01, -6.01214370e-01,\n",
       "         1.47786954e+00,  1.00615390e+00],\n",
       "       [ 7.99905893e-01, -6.70503279e-01,  5.53983197e-01,\n",
       "        -1.70542289e-01,  2.32867782e-01,  4.82787531e-01,\n",
       "        -1.34612223e+00, -4.39590788e-01,  9.64116361e-01,\n",
       "         1.37872653e+00,  1.00615390e+00],\n",
       "       [ 2.12495326e+00, -1.48560857e+00, -2.05797890e+00,\n",
       "        -3.49597961e-01,  1.03887443e+00,  6.32831985e-01,\n",
       "         6.65009896e-01,  1.19490243e+00,  5.24725278e-01,\n",
       "        -1.33204416e-01,  1.00615390e+00],\n",
       "       [ 1.85994378e+00,  7.66765714e-02, -2.43111635e+00,\n",
       "         1.42805137e-01, -2.04288364e-01, -2.27949356e-01,\n",
       "        -1.27794826e+00, -8.24177428e-01, -3.54056886e-01,\n",
       "        -9.51134269e-01,  1.00615390e+00],\n",
       "       [ 1.85994378e+00, -1.62145945e+00, -1.92291688e-01,\n",
       "        -3.04834043e-01,  8.54449178e-01,  9.58307813e-02,\n",
       "        -1.87164735e-01,  8.82425788e-01, -5.19755172e-02,\n",
       "        -6.04133725e-01,  1.00615390e+00],\n",
       "       [-7.90150943e-01,  1.16348363e+00, -5.65429131e-01,\n",
       "         5.00916482e-01, -1.91876013e+00, -9.78171625e-01,\n",
       "         8.01357837e-01, -1.01647075e+00, -9.58219625e-01,\n",
       "        -1.09984879e+00,  1.00615390e+00],\n",
       "       [-1.05516042e+00,  1.09555819e+00, -1.31170402e+00,\n",
       "        -3.94361879e-01, -2.45271753e-01, -4.01685039e-01,\n",
       "         1.87792103e-01, -7.76104098e-01, -2.71671058e-01,\n",
       "        -9.01562763e-01, -9.93883735e-01],\n",
       "       [ 2.69886948e-01,  6.88005540e-01, -1.31170402e+00,\n",
       "         4.11388646e-01, -1.15373687e+00, -9.78171625e-01,\n",
       "         1.17631467e+00, -9.20324088e-01, -9.51354139e-01,\n",
       "        -1.05027728e+00, -9.93883735e-01],\n",
       "       [-1.05516042e+00,  8.91781863e-01,  2.04653297e+00,\n",
       "        -3.94361879e-01, -2.86255141e-01, -5.99111952e-01,\n",
       "        -5.96208557e-01, -9.20324088e-01, -5.66886942e-01,\n",
       "        -1.02549153e+00, -9.93883735e-01],\n",
       "       [ 5.34896420e-01, -3.30876074e-01, -9.38566574e-01,\n",
       "        -3.04834043e-01,  1.85053829e-01,  3.24846000e-01,\n",
       "         1.29561912e+00, -5.83810778e-01,  5.38456250e-01,\n",
       "         9.82154476e-01,  1.00615390e+00],\n",
       "       [-2.60131998e-01, -6.02577838e-01, -1.68484146e+00,\n",
       "        -3.94361879e-01,  3.55817948e-01, -6.78082718e-01,\n",
       "        -1.19273080e+00, -4.87664118e-01, -7.11062141e-01,\n",
       "        -7.77633997e-01, -9.93883735e-01],\n",
       "       [ 7.99905893e-01, -3.30876074e-01, -2.05797890e+00,\n",
       "        -3.04834043e-01,  1.03087051e-01, -2.99023045e-01,\n",
       "        -8.68904439e-01, -7.03994103e-01, -4.02115286e-01,\n",
       "        -8.76777010e-01,  1.00615390e+00],\n",
       "       [ 1.06491537e+00, -5.34652397e-01,  9.27120640e-01,\n",
       "        -3.94361879e-01,  8.40788048e-01,  1.49361333e+00,\n",
       "        -1.26090477e+00,  1.29104909e+00,  1.82230207e+00,\n",
       "         5.85582425e-01, -9.93883735e-01],\n",
       "       [ 5.34896420e-01,  4.84229217e-01,  1.80845755e-01,\n",
       "        -3.94361879e-01,  6.29040540e-01, -1.41081514e-01,\n",
       "        -5.79165065e-01,  2.09399168e-01, -2.64805573e-01,\n",
       "         1.52744104e+00,  1.00615390e+00],\n",
       "       [ 1.32992484e+00, -1.75731033e+00, -5.65429131e-01,\n",
       "        -3.94361879e-01,  1.19597742e+00,  1.68314316e+00,\n",
       "         1.27857563e+00,  2.75728566e+00,  1.32798710e+00,\n",
       "         7.83868451e-01,  1.00615390e+00],\n",
       "       [-7.90150943e-01,  1.77481259e+00, -9.38566574e-01,\n",
       "        -8.10144529e-02, -2.77941129e+00, -1.01765701e+00,\n",
       "         8.01357837e-01, -1.08858074e+00, -9.85681567e-01,\n",
       "        -1.12463454e+00, -9.93883735e-01],\n",
       "       [ 4.87747496e-03,  8.23856422e-01, -5.65429131e-01,\n",
       "        -3.94361879e-01,  6.56362799e-01, -1.25287361e-01,\n",
       "        -1.67298087e-02,  1.61325838e-01, -1.61823288e-01,\n",
       "         1.55222680e+00, -9.93883735e-01],\n",
       "       [ 4.87747496e-03, -5.34652397e-01, -5.65429131e-01,\n",
       "        -3.94361879e-01,  6.42701669e-01, -4.96449958e-01,\n",
       "        -9.71165395e-01,  1.13252508e-01, -5.73752428e-01,\n",
       "         1.23001201e+00,  1.00615390e+00],\n",
       "       [ 2.69886948e-01,  1.02763274e+00,  5.53983197e-01,\n",
       "        -3.94361879e-01,  2.26037218e-01, -7.88641789e-01,\n",
       "        -9.54121902e-01, -4.39590788e-01, -7.45389569e-01,\n",
       "        -7.77633997e-01, -9.93883735e-01],\n",
       "       [-5.25141470e-01,  1.16348363e+00,  1.80845755e-01,\n",
       "        -2.15306207e-01, -1.16056743e+00, -8.83406707e-01,\n",
       "        -5.10991094e-01, -8.72250758e-01, -7.86582483e-01,\n",
       "        -1.02549153e+00, -9.93883735e-01],\n",
       "       [ 4.87747496e-03, -9.42205043e-01, -1.68484146e+00,\n",
       "        -3.94361879e-01,  8.61279743e-01, -3.77993810e-01,\n",
       "        -2.55338705e-01,  5.45912478e-01, -3.60922372e-01,\n",
       "         1.70094132e+00, -9.93883735e-01],\n",
       "       [-7.90150943e-01,  3.48378335e-01,  1.30025808e+00,\n",
       "         5.32773012e-02, -1.15373687e+00, -9.54480396e-01,\n",
       "         1.12518420e+00, -8.24177428e-01, -9.37623168e-01,\n",
       "        -1.02549153e+00, -9.93883735e-01],\n",
       "       [ 1.59493431e+00, -1.89316122e+00, -1.92291688e-01,\n",
       "        -3.94361879e-01,  1.16182459e+00,  6.64420291e-01,\n",
       "         1.02574640e-01,  2.68517566e+00,  4.35473965e-01,\n",
       "         6.10368179e-01,  1.00615390e+00],\n",
       "       [-1.58517936e+00,  1.16348363e+00,  1.80845755e-01,\n",
       "         4.11388646e-01, -2.00755747e+00, -9.22892090e-01,\n",
       "         8.18401329e-01, -1.01647075e+00, -9.30757682e-01,\n",
       "        -1.09984879e+00, -9.93883735e-01],\n",
       "       [-2.60131998e-01,  1.44602012e-01, -5.65429131e-01,\n",
       "        -3.94361879e-01,  5.26582068e-01, -1.64772744e-01,\n",
       "         4.26400999e-01, -1.27114143e-01, -5.19755172e-02,\n",
       "         1.32915502e+00, -9.93883735e-01],\n",
       "       [ 7.99905893e-01,  8.75113043e-03, -1.92291688e-01,\n",
       "        -3.94361879e-01,  6.97346188e-01,  3.48537230e-01,\n",
       "         1.24448864e+00,  3.29582493e-01,  5.38456250e-01,\n",
       "        -7.03276738e-01, -9.93883735e-01],\n",
       "       [ 7.99905893e-01, -1.07805592e+00,  9.27120640e-01,\n",
       "         2.29147320e+00,  2.73851171e-01, -3.77993810e-01,\n",
       "         1.41492357e+00, -3.43444128e-01, -4.91366600e-01,\n",
       "         8.33439957e-01,  1.00615390e+00],\n",
       "       [ 5.34896420e-01, -1.21390681e+00,  9.27120640e-01,\n",
       "        -3.94361879e-01,  9.36415955e-01,  3.24846000e-01,\n",
       "         2.04835595e-01,  1.62756240e+00,  1.47123567e-01,\n",
       "        -1.08418663e-01,  1.00615390e+00],\n",
       "       [-2.60131998e-01, -5.34652397e-01, -1.68484146e+00,\n",
       "        -3.94361879e-01,  7.51990706e-01,  1.51110317e-01,\n",
       "         5.28661955e-01,  2.09399168e-01,  1.81450995e-01,\n",
       "         1.75051282e+00, -9.93883735e-01],\n",
       "       [-5.25141470e-01, -3.30876074e-01, -1.31170402e+00,\n",
       "         1.44095876e+00, -7.30241852e-01, -8.36024248e-01,\n",
       "         1.09109721e+00, -8.48214093e-01, -8.68968311e-01,\n",
       "        -1.02549153e+00,  1.00615390e+00],\n",
       "       [-2.60131998e-01,  7.66765714e-02,  9.27120640e-01,\n",
       "        -3.94361879e-01,  6.83685058e-01,  2.53772312e-01,\n",
       "         9.20662285e-01,  5.21875813e-01,  3.46222651e-01,\n",
       "        -6.28919478e-01, -9.93883735e-01],\n",
       "       [ 7.99905893e-01,  7.66765714e-02,  5.53983197e-01,\n",
       "        -3.94361879e-01,  7.11007317e-01,  1.36726010e+00,\n",
       "        -1.38020922e+00,  5.45912478e-01,  1.69185784e+00,\n",
       "        -9.27564995e-03, -9.93883735e-01],\n",
       "       [-2.60131998e-01, -5.34652397e-01,  1.80845755e-01,\n",
       "        -3.49597961e-01,  2.12376088e-01, -7.96538865e-01,\n",
       "        -1.20977429e+00, -4.87664118e-01, -7.72851512e-01,\n",
       "        -8.02419750e-01, -9.93883735e-01],\n",
       "       [ 4.87747496e-03, -1.07805592e+00, -5.65429131e-01,\n",
       "        -8.10144529e-02,  4.84425331e-02, -5.91214876e-01,\n",
       "         1.15927118e+00, -6.55920773e-01, -6.69869227e-01,\n",
       "        -9.01562763e-01, -9.93883735e-01],\n",
       "       [-7.90150943e-01,  7.55930981e-01,  1.30025808e+00,\n",
       "        -3.49597961e-01, -6.76770683e-02, -8.67612554e-01,\n",
       "        -2.72382198e-01, -5.83810778e-01, -7.52255055e-01,\n",
       "        -9.01562763e-01, -9.93883735e-01],\n",
       "       [ 7.99905893e-01, -1.14598137e+00, -9.38566574e-01,\n",
       "        -2.60070125e-01,  4.85598679e-01,  1.82698623e-01,\n",
       "         4.09357507e-01, -2.47297468e-01,  1.67720024e-01,\n",
       "         1.30436927e+00,  1.00615390e+00],\n",
       "       [ 2.69886948e-01, -5.91743105e-02, -2.05797890e+00,\n",
       "         3.50009899e+00, -7.71225241e-01, -7.88641789e-01,\n",
       "         1.07405372e+00, -8.72250758e-01, -8.34640883e-01,\n",
       "        -1.02549153e+00,  1.00615390e+00],\n",
       "       [-1.32016989e+00,  1.63896171e+00,  5.03163251e+00,\n",
       "        -1.70542289e-01, -2.11001594e+00, -8.75509630e-01,\n",
       "         8.52488314e-01, -9.92434083e-01, -9.03295739e-01,\n",
       "        -1.07506303e+00,  1.00615390e+00],\n",
       "       [ 1.06491537e+00, -5.34652397e-01, -9.38566574e-01,\n",
       "        -2.60070125e-01,  3.83140208e-01,  8.00366283e-02,\n",
       "         1.50014103e+00, -1.99224138e-01,  3.73684594e-01,\n",
       "         1.45308379e+00, -9.93883735e-01],\n",
       "       [ 7.99905893e-01, -6.02577838e-01, -1.68484146e+00,\n",
       "        -3.49597961e-01,  4.71937550e-01, -4.88552881e-01,\n",
       "        -5.45078080e-01, -3.43444128e-01, -4.98232085e-01,\n",
       "         8.58225710e-01,  1.00615390e+00],\n",
       "       [-2.60131998e-01, -8.74279602e-01,  1.30025808e+00,\n",
       "        -1.25778371e-01,  6.89342274e-02, -3.14817198e-01,\n",
       "         5.14441617e-02, -5.11700783e-01, -2.51074601e-01,\n",
       "         5.36010919e-01, -9.93883735e-01],\n",
       "       [-5.25141470e-01,  1.77481259e+00,  1.80845755e-01,\n",
       "        -1.25778371e-01, -2.69744451e+00, -1.06503947e+00,\n",
       "         8.35444822e-01, -1.08858074e+00, -1.02687448e+00,\n",
       "        -1.12463454e+00, -9.93883735e-01],\n",
       "       [ 1.32992484e+00, -1.55353401e+00, -9.38566574e-01,\n",
       "        -3.94361879e-01,  1.03204386e+00,  6.09140755e-01,\n",
       "         4.43444492e-01,  1.50737908e+00,  3.94281051e-01,\n",
       "        -9.27564995e-03,  1.00615390e+00],\n",
       "       [ 4.87747496e-03,  4.16303776e-01,  1.80845755e-01,\n",
       "        -3.94361879e-01,  6.63193364e-01,  7.21395518e-02,\n",
       "         2.73009566e-01,  2.33435833e-01,  4.41412821e-02,\n",
       "         1.72572707e+00, -9.93883735e-01],\n",
       "       [ 4.87747496e-03,  1.23140907e+00,  5.53983197e-01,\n",
       "        -3.94361879e-01,  5.33412633e-01,  5.14375837e-01,\n",
       "         8.55311470e-02,  4.11425125e-02,  2.98164252e-01,\n",
       "         1.70094132e+00,  1.00615390e+00],\n",
       "       [ 4.87747496e-03,  3.48378335e-01, -5.65429131e-01,\n",
       "         2.32332973e-01, -6.96089029e-01, -5.43832417e-01,\n",
       "         1.36379309e+00, -8.24177428e-01, -6.28676313e-01,\n",
       "        -9.75920022e-01, -9.93883735e-01],\n",
       "       [ 7.99905893e-01, -1.96108666e+00,  1.80845755e-01,\n",
       "        -3.04834043e-01,  7.86143530e-01,  1.82698623e-01,\n",
       "         1.70748610e-01,  7.14169133e-01,  6.47377390e-02,\n",
       "        -6.53705232e-01,  1.00615390e+00],\n",
       "       [ 4.87747496e-03, -8.06354161e-01, -9.38566574e-01,\n",
       "        -3.94361879e-01,  8.13465789e-01,  1.11624934e-01,\n",
       "         3.24140043e-01,  5.69949143e-01,  8.53341960e-02,\n",
       "         1.94879885e+00,  1.00615390e+00],\n",
       "       [ 2.69886948e-01, -1.75731033e+00,  1.80845755e-01,\n",
       "        -3.94361879e-01,  1.05253556e+00,  3.68900060e+00,\n",
       "        -1.10751334e+00,  2.06022237e+00,  3.25718857e+00,\n",
       "         1.08129749e+00,  1.00615390e+00],\n",
       "       [-7.90150943e-01,  8.23856422e-01,  1.80845755e-01,\n",
       "        -3.94361879e-01,  2.73851171e-01, -8.83406707e-01,\n",
       "        -6.81426020e-01, -4.15554123e-01, -7.86582483e-01,\n",
       "        -7.77633997e-01, -9.93883735e-01],\n",
       "       [-2.60131998e-01,  1.36725995e+00,  5.53983197e-01,\n",
       "        -3.94361879e-01,  5.26582068e-01,  3.80125536e-01,\n",
       "        -2.55338705e-01,  4.11425125e-02,  1.81450995e-01,\n",
       "         1.65136981e+00,  1.00615390e+00],\n",
       "       [ 5.34896420e-01,  7.66765714e-02, -5.65429131e-01,\n",
       "        -3.94361879e-01,  8.27126919e-01,  2.04640868e+00,\n",
       "        -1.00525238e+00,  1.07471911e+00,  2.35780995e+00,\n",
       "         6.10368179e-01, -9.93883735e-01],\n",
       "       [ 1.06491537e+00, -6.70503279e-01,  1.30025808e+00,\n",
       "        -3.94361879e-01,  8.47618613e-01,  1.98492776e-01,\n",
       "         1.58535850e+00,  1.31508576e+00,  5.04128821e-01,\n",
       "        -5.88471562e-02, -9.93883735e-01],\n",
       "       [-2.60131998e-01,  1.02763274e+00,  9.27120640e-01,\n",
       "        -3.94361879e-01,  6.15379410e-01,  2.44915958e+00,\n",
       "        -8.34817454e-01,  4.11425125e-02,  2.78347006e+00,\n",
       "        -2.57133181e-01, -9.93883735e-01],\n",
       "       [ 1.06491537e+00, -2.30071386e+00,  9.27120640e-01,\n",
       "        -3.94361879e-01,  1.16865516e+00,  1.97533499e+00,\n",
       "         1.21040166e+00,  3.35820228e+00,  1.57514458e+00,\n",
       "         1.03172598e+00,  1.00615390e+00],\n",
       "       [-2.11519831e+00, -6.02577838e-01,  9.27120640e-01,\n",
       "        -3.49597961e-01,  1.98714958e-01, -8.12333018e-01,\n",
       "        -1.32907874e+00, -6.79957438e-01, -7.86582483e-01,\n",
       "        -9.51134269e-01,  1.00615390e+00],\n",
       "       [-1.05516042e+00, -3.30876074e-01,  9.27120640e-01,\n",
       "         5.90444318e-01, -8.94175407e-01, -8.99200860e-01,\n",
       "         1.10814070e+00, -8.00140763e-01, -9.10161225e-01,\n",
       "        -1.00070578e+00,  1.00615390e+00],\n",
       "       [ 1.06491537e+00, -2.02901210e+00, -9.38566574e-01,\n",
       "        -3.49597961e-01,  9.43246520e-01,  8.85538433e-01,\n",
       "         9.88836255e-01,  1.07471911e+00,  7.99344705e-01,\n",
       "        -3.40614031e-02,  1.00615390e+00],\n",
       "       [ 5.34896420e-01, -3.30876074e-01,  9.27120640e-01,\n",
       "        -3.94361879e-01,  7.65651836e-01, -7.79049021e-02,\n",
       "        -1.36034257e-01,  8.34352458e-01, -1.68688773e-01,\n",
       "         1.97358460e+00,  1.00615390e+00],\n",
       "       [-7.90150943e-01,  1.44602012e-01,  1.30025808e+00,\n",
       "        -1.25778371e-01, -5.79969427e-01, -7.17568100e-01,\n",
       "        -1.32907874e+00, -7.28030768e-01, -7.38524083e-01,\n",
       "        -9.51134269e-01, -9.93883735e-01],\n",
       "       [ 1.06491537e+00, -4.66726956e-01,  1.80845755e-01,\n",
       "        -3.94361879e-01,  8.27126919e-01,  7.27596903e-01,\n",
       "         5.11618462e-01,  8.82425788e-01,  4.97263336e-01,\n",
       "        -3.06704688e-01,  1.00615390e+00],\n",
       "       [-2.60131998e-01,  6.20080099e-01, -5.65429131e-01,\n",
       "        -3.94361879e-01,  5.06090374e-01, -4.96449958e-01,\n",
       "        -6.13252050e-01, -1.75187473e-01, -5.11963057e-01,\n",
       "         1.00694023e+00,  1.00615390e+00],\n",
       "       [ 4.87747496e-03, -1.95025192e-01,  9.27120640e-01,\n",
       "        -2.60070125e-01,  2.11202739e-02, -2.59537662e-01,\n",
       "         2.21879088e-01, -5.59774113e-01, -1.68688773e-01,\n",
       "         4.86439413e-01, -9.93883735e-01],\n",
       "       [-1.85018883e+00,  1.57103627e+00,  2.04653297e+00,\n",
       "         1.66477835e+00, -2.45154418e+00, -1.04924531e+00,\n",
       "         7.84314344e-01, -1.06454408e+00, -1.01314351e+00,\n",
       "        -1.12463454e+00, -9.93883735e-01],\n",
       "       [ 7.99905893e-01, -2.62950633e-01,  5.53983197e-01,\n",
       "        -3.94361879e-01,  7.24668447e-01,  1.68600161e-02,\n",
       "         4.94574970e-01,  5.69949143e-01,  9.21996817e-02,\n",
       "         1.97358460e+00, -9.93883735e-01],\n",
       "       [-1.05516042e+00,  1.43518539e+00,  9.27120640e-01,\n",
       "        -3.94361879e-01,  4.78768115e-01, -8.58019786e-02,\n",
       "         2.90053058e-01, -6.93081752e-03, -3.82445459e-02,\n",
       "         1.45308379e+00, -9.93883735e-01],\n",
       "       [ 7.99905893e-01, -1.68938489e+00, -1.92291688e-01,\n",
       "        -3.94361879e-01,  1.04570499e+00,  2.89929295e+00,\n",
       "        -1.36316572e+00,  1.84389239e+00,  2.63242938e+00,\n",
       "         8.08654204e-01,  1.00615390e+00],\n",
       "       [ 1.32992484e+00, -1.75731033e+00,  9.27120640e-01,\n",
       "        -3.04834043e-01,  8.27126919e-01, -1.33184438e-01,\n",
       "        -1.43133970e+00,  1.91600238e+00, -4.22711743e-01,\n",
       "         1.99837035e+00,  1.00615390e+00],\n",
       "       [ 5.34896420e-01, -4.66726956e-01,  5.53983197e-01,\n",
       "        -3.49597961e-01,  5.40243198e-01, -3.85890886e-01,\n",
       "        -4.93947602e-01,  4.11425125e-02, -4.29577229e-01,\n",
       "         1.25479776e+00,  1.00615390e+00],\n",
       "       [-1.05516042e+00,  8.23856422e-01,  1.80845755e-01,\n",
       "        -3.94361879e-01,  3.69479078e-01, -8.04435942e-01,\n",
       "        -6.47339035e-01, -2.95370798e-01, -7.24793112e-01,\n",
       "         4.61653660e-01,  1.00615390e+00],\n",
       "       [ 7.99905893e-01, -5.91743105e-02,  1.30025808e+00,\n",
       "        -3.94361879e-01,  8.61279743e-01,  6.80214444e-01,\n",
       "        -1.55064414e+00,  1.24297576e+00,  1.01217476e+00,\n",
       "         1.39438869e-01, -9.93883735e-01],\n",
       "       [ 2.69886948e-01, -8.74279602e-01, -5.65429131e-01,\n",
       "        -3.94361879e-01,  8.13465789e-01,  6.56523214e-01,\n",
       "         1.51718453e+00,  6.42059138e-01,  8.06210191e-01,\n",
       "        -3.56276194e-01, -9.93883735e-01],\n",
       "       [ 7.99905893e-01, -1.96108666e+00,  5.53983197e-01,\n",
       "        -3.94361879e-01,  1.05253556e+00,  7.11802750e-01,\n",
       "         1.56831500e+00,  2.22847903e+00,  8.81730533e-01,\n",
       "         6.35153932e-01,  1.00615390e+00],\n",
       "       [-1.05516042e+00,  1.23140907e+00, -1.92291688e-01,\n",
       "        -3.94361879e-01,  5.33412633e-01, -1.56875667e-01,\n",
       "         6.84876544e-02, -5.50041475e-02, -1.54957802e-01,\n",
       "         1.35394077e+00,  1.00615390e+00],\n",
       "       [ 5.34896420e-01, -2.62950633e-01,  1.80845755e-01,\n",
       "        -3.94361879e-01,  7.72482400e-01,  3.88022612e-01,\n",
       "         2.38922580e-01,  6.90132468e-01,  2.02047452e-01,\n",
       "        -5.79347972e-01,  1.00615390e+00],\n",
       "       [-2.60131998e-01,  2.80452894e-01, -5.65429131e-01,\n",
       "        -3.94361879e-01,  3.96801337e-01, -6.93876871e-01,\n",
       "        -7.49599991e-01, -3.43444128e-01, -6.56138256e-01,\n",
       "         4.61653660e-01, -9.93883735e-01],\n",
       "       [ 1.06491537e+00, -1.01013048e+00, -9.38566574e-01,\n",
       "        -3.94361879e-01,  9.22754826e-01,  6.01243679e-01,\n",
       "        -1.63586161e+00,  1.00260911e+00,  8.81730533e-01,\n",
       "        -5.88471562e-02, -9.93883735e-01],\n",
       "       [-5.25141470e-01,  7.66765714e-02, -5.65429131e-01,\n",
       "        -3.94361879e-01,  1.78223264e-01, -7.41259330e-01,\n",
       "        -1.31203525e+00, -5.59774113e-01, -7.52255055e-01,\n",
       "        -8.76777010e-01,  1.00615390e+00],\n",
       "       [ 1.06491537e+00, -5.34652397e-01, -1.92291688e-01,\n",
       "        -3.94361879e-01,  8.40788048e-01,  4.98581684e-01,\n",
       "         1.36661625e-01,  8.34352458e-01,  2.91298766e-01,\n",
       "        -4.80204960e-01,  1.00615390e+00]])"
      ]
     },
     "execution_count": 41,
     "metadata": {},
     "output_type": "execute_result"
    }
   ],
   "source": [
    "X_test"
   ]
  },
  {
   "cell_type": "code",
   "execution_count": 42,
   "id": "3c698110",
   "metadata": {},
   "outputs": [],
   "source": [
    "from sklearn.linear_model import LogisticRegression"
   ]
  },
  {
   "cell_type": "code",
   "execution_count": 43,
   "id": "1c32621a",
   "metadata": {},
   "outputs": [],
   "source": [
    "logistic=LogisticRegression()"
   ]
  },
  {
   "cell_type": "code",
   "execution_count": 44,
   "id": "b0c37e60",
   "metadata": {},
   "outputs": [
    {
     "data": {
      "text/html": [
       "<style>#sk-container-id-1 {color: black;background-color: white;}#sk-container-id-1 pre{padding: 0;}#sk-container-id-1 div.sk-toggleable {background-color: white;}#sk-container-id-1 label.sk-toggleable__label {cursor: pointer;display: block;width: 100%;margin-bottom: 0;padding: 0.3em;box-sizing: border-box;text-align: center;}#sk-container-id-1 label.sk-toggleable__label-arrow:before {content: \"▸\";float: left;margin-right: 0.25em;color: #696969;}#sk-container-id-1 label.sk-toggleable__label-arrow:hover:before {color: black;}#sk-container-id-1 div.sk-estimator:hover label.sk-toggleable__label-arrow:before {color: black;}#sk-container-id-1 div.sk-toggleable__content {max-height: 0;max-width: 0;overflow: hidden;text-align: left;background-color: #f0f8ff;}#sk-container-id-1 div.sk-toggleable__content pre {margin: 0.2em;color: black;border-radius: 0.25em;background-color: #f0f8ff;}#sk-container-id-1 input.sk-toggleable__control:checked~div.sk-toggleable__content {max-height: 200px;max-width: 100%;overflow: auto;}#sk-container-id-1 input.sk-toggleable__control:checked~label.sk-toggleable__label-arrow:before {content: \"▾\";}#sk-container-id-1 div.sk-estimator input.sk-toggleable__control:checked~label.sk-toggleable__label {background-color: #d4ebff;}#sk-container-id-1 div.sk-label input.sk-toggleable__control:checked~label.sk-toggleable__label {background-color: #d4ebff;}#sk-container-id-1 input.sk-hidden--visually {border: 0;clip: rect(1px 1px 1px 1px);clip: rect(1px, 1px, 1px, 1px);height: 1px;margin: -1px;overflow: hidden;padding: 0;position: absolute;width: 1px;}#sk-container-id-1 div.sk-estimator {font-family: monospace;background-color: #f0f8ff;border: 1px dotted black;border-radius: 0.25em;box-sizing: border-box;margin-bottom: 0.5em;}#sk-container-id-1 div.sk-estimator:hover {background-color: #d4ebff;}#sk-container-id-1 div.sk-parallel-item::after {content: \"\";width: 100%;border-bottom: 1px solid gray;flex-grow: 1;}#sk-container-id-1 div.sk-label:hover label.sk-toggleable__label {background-color: #d4ebff;}#sk-container-id-1 div.sk-serial::before {content: \"\";position: absolute;border-left: 1px solid gray;box-sizing: border-box;top: 0;bottom: 0;left: 50%;z-index: 0;}#sk-container-id-1 div.sk-serial {display: flex;flex-direction: column;align-items: center;background-color: white;padding-right: 0.2em;padding-left: 0.2em;position: relative;}#sk-container-id-1 div.sk-item {position: relative;z-index: 1;}#sk-container-id-1 div.sk-parallel {display: flex;align-items: stretch;justify-content: center;background-color: white;position: relative;}#sk-container-id-1 div.sk-item::before, #sk-container-id-1 div.sk-parallel-item::before {content: \"\";position: absolute;border-left: 1px solid gray;box-sizing: border-box;top: 0;bottom: 0;left: 50%;z-index: -1;}#sk-container-id-1 div.sk-parallel-item {display: flex;flex-direction: column;z-index: 1;position: relative;background-color: white;}#sk-container-id-1 div.sk-parallel-item:first-child::after {align-self: flex-end;width: 50%;}#sk-container-id-1 div.sk-parallel-item:last-child::after {align-self: flex-start;width: 50%;}#sk-container-id-1 div.sk-parallel-item:only-child::after {width: 0;}#sk-container-id-1 div.sk-dashed-wrapped {border: 1px dashed gray;margin: 0 0.4em 0.5em 0.4em;box-sizing: border-box;padding-bottom: 0.4em;background-color: white;}#sk-container-id-1 div.sk-label label {font-family: monospace;font-weight: bold;display: inline-block;line-height: 1.2em;}#sk-container-id-1 div.sk-label-container {text-align: center;}#sk-container-id-1 div.sk-container {/* jupyter's `normalize.less` sets `[hidden] { display: none; }` but bootstrap.min.css set `[hidden] { display: none !important; }` so we also need the `!important` here to be able to override the default hidden behavior on the sphinx rendered scikit-learn.org. See: https://github.com/scikit-learn/scikit-learn/issues/21755 */display: inline-block !important;position: relative;}#sk-container-id-1 div.sk-text-repr-fallback {display: none;}</style><div id=\"sk-container-id-1\" class=\"sk-top-container\"><div class=\"sk-text-repr-fallback\"><pre>LogisticRegression()</pre><b>In a Jupyter environment, please rerun this cell to show the HTML representation or trust the notebook. <br />On GitHub, the HTML representation is unable to render, please try loading this page with nbviewer.org.</b></div><div class=\"sk-container\" hidden><div class=\"sk-item\"><div class=\"sk-estimator sk-toggleable\"><input class=\"sk-toggleable__control sk-hidden--visually\" id=\"sk-estimator-id-1\" type=\"checkbox\" checked><label for=\"sk-estimator-id-1\" class=\"sk-toggleable__label sk-toggleable__label-arrow\">LogisticRegression</label><div class=\"sk-toggleable__content\"><pre>LogisticRegression()</pre></div></div></div></div></div>"
      ],
      "text/plain": [
       "LogisticRegression()"
      ]
     },
     "execution_count": 44,
     "metadata": {},
     "output_type": "execute_result"
    }
   ],
   "source": [
    "logistic.fit(X_train,Y_train)"
   ]
  },
  {
   "cell_type": "code",
   "execution_count": 45,
   "id": "3fa053d0",
   "metadata": {},
   "outputs": [
    {
     "data": {
      "text/plain": [
       "array([[-0.08284811, -0.19176924,  0.2200833 ,  0.39197361, -2.13807117,\n",
       "         0.11899202, -0.10899583, -2.62771076, -0.50704265, -0.90625567,\n",
       "        -0.0869035 ]])"
      ]
     },
     "execution_count": 45,
     "metadata": {},
     "output_type": "execute_result"
    }
   ],
   "source": [
    "logistic.coef_"
   ]
  },
  {
   "cell_type": "code",
   "execution_count": 46,
   "id": "58f5862b",
   "metadata": {},
   "outputs": [
    {
     "data": {
      "text/plain": [
       "array([0.19676126])"
      ]
     },
     "execution_count": 46,
     "metadata": {},
     "output_type": "execute_result"
    }
   ],
   "source": [
    "logistic.intercept_"
   ]
  },
  {
   "cell_type": "code",
   "execution_count": 47,
   "id": "39d6cdb1",
   "metadata": {},
   "outputs": [],
   "source": [
    "log_pred=logistic.predict(X_test)"
   ]
  },
  {
   "cell_type": "code",
   "execution_count": 48,
   "id": "8620a8d7",
   "metadata": {},
   "outputs": [
    {
     "data": {
      "text/plain": [
       "array([0, 0, 0, 0, 0, 1, 0, 1, 1, 1, 1, 0, 1, 1, 0, 0, 0, 1, 0, 0, 1, 1,\n",
       "       0, 1, 0, 1, 0, 0, 1, 0, 0, 1, 0, 0, 1, 1, 1, 0, 1, 1, 0, 0, 1, 1,\n",
       "       0, 0, 0, 1, 0, 0, 0, 1, 0, 0, 0, 0, 0, 1, 1, 0, 0, 1, 0, 0, 1, 1,\n",
       "       0, 0, 0, 0, 0, 0, 0, 0, 0, 0, 0, 0, 0, 1, 0])"
      ]
     },
     "execution_count": 48,
     "metadata": {},
     "output_type": "execute_result"
    }
   ],
   "source": [
    "log_pred"
   ]
  },
  {
   "cell_type": "code",
   "execution_count": 49,
   "id": "5f1966aa",
   "metadata": {},
   "outputs": [
    {
     "data": {
      "text/plain": [
       "0    53\n",
       "1    28\n",
       "Name: Classes, dtype: int64"
      ]
     },
     "execution_count": 49,
     "metadata": {},
     "output_type": "execute_result"
    }
   ],
   "source": [
    "Y_test.value_counts()"
   ]
  },
  {
   "cell_type": "code",
   "execution_count": 50,
   "id": "3e007f44",
   "metadata": {},
   "outputs": [],
   "source": [
    "from sklearn.metrics import confusion_matrix,accuracy_score,classification_report"
   ]
  },
  {
   "cell_type": "code",
   "execution_count": 51,
   "id": "59d8842e",
   "metadata": {},
   "outputs": [],
   "source": [
    "confusion_mat=confusion_matrix(Y_test,log_pred)"
   ]
  },
  {
   "cell_type": "code",
   "execution_count": 52,
   "id": "d470616e",
   "metadata": {},
   "outputs": [
    {
     "data": {
      "text/plain": [
       "array([[51,  2],\n",
       "       [ 1, 27]])"
      ]
     },
     "execution_count": 52,
     "metadata": {},
     "output_type": "execute_result"
    }
   ],
   "source": [
    "confusion_mat"
   ]
  },
  {
   "cell_type": "code",
   "execution_count": 53,
   "id": "80e80985",
   "metadata": {},
   "outputs": [],
   "source": [
    "true_negative=confusion_mat[0][0]\n",
    "false_positive=confusion_mat[0][1]\n",
    "false_negative=confusion_mat[1][0]\n",
    "true_positive=confusion_mat[1][1]\n"
   ]
  },
  {
   "cell_type": "code",
   "execution_count": 54,
   "id": "828aeba5",
   "metadata": {},
   "outputs": [
    {
     "data": {
      "text/plain": [
       "(27, 2, 1, 51)"
      ]
     },
     "execution_count": 54,
     "metadata": {},
     "output_type": "execute_result"
    }
   ],
   "source": [
    "true_positive,false_positive,false_negative,true_negative"
   ]
  },
  {
   "cell_type": "code",
   "execution_count": 55,
   "id": "147426df",
   "metadata": {},
   "outputs": [
    {
     "data": {
      "text/plain": [
       "0.963"
      ]
     },
     "execution_count": 55,
     "metadata": {},
     "output_type": "execute_result"
    }
   ],
   "source": [
    "accuracy=round(accuracy_score(Y_test, log_pred),4)\n",
    "accuracy"
   ]
  },
  {
   "cell_type": "code",
   "execution_count": 56,
   "id": "b6257bb1",
   "metadata": {},
   "outputs": [],
   "source": [
    "precision=true_positive/(true_positive+false_positive)\n"
   ]
  },
  {
   "cell_type": "code",
   "execution_count": 57,
   "id": "5c7d13c1",
   "metadata": {},
   "outputs": [
    {
     "data": {
      "text/plain": [
       "0.9310344827586207"
      ]
     },
     "execution_count": 57,
     "metadata": {},
     "output_type": "execute_result"
    }
   ],
   "source": [
    "precision"
   ]
  },
  {
   "cell_type": "code",
   "execution_count": 58,
   "id": "97fd636d",
   "metadata": {},
   "outputs": [],
   "source": [
    "recall=true_positive/(true_positive+false_negative)"
   ]
  },
  {
   "cell_type": "code",
   "execution_count": 59,
   "id": "0efebdd8",
   "metadata": {},
   "outputs": [
    {
     "data": {
      "text/plain": [
       "0.9642857142857143"
      ]
     },
     "execution_count": 59,
     "metadata": {},
     "output_type": "execute_result"
    }
   ],
   "source": [
    "recall"
   ]
  },
  {
   "cell_type": "code",
   "execution_count": 60,
   "id": "5ae2af0c",
   "metadata": {},
   "outputs": [],
   "source": [
    "f1beta=2*(precision*recall)/(precision+recall)"
   ]
  },
  {
   "cell_type": "code",
   "execution_count": 61,
   "id": "5f868831",
   "metadata": {},
   "outputs": [
    {
     "data": {
      "text/plain": [
       "0.9473684210526316"
      ]
     },
     "execution_count": 61,
     "metadata": {},
     "output_type": "execute_result"
    }
   ],
   "source": [
    "f1beta"
   ]
  },
  {
   "cell_type": "markdown",
   "id": "86920f6a",
   "metadata": {},
   "source": [
    "#### Creating Imbalance dataset "
   ]
  },
  {
   "cell_type": "code",
   "execution_count": 62,
   "id": "ece56c68",
   "metadata": {},
   "outputs": [],
   "source": [
    "from sklearn.model_selection import train_test_split"
   ]
  },
  {
   "cell_type": "code",
   "execution_count": 63,
   "id": "2dc6c619",
   "metadata": {},
   "outputs": [],
   "source": [
    "X_train_imb,X_test_imb,Y_train_imb,Y_test_imb=train_test_split(X,Y,test_size=0.40,random_state=42)"
   ]
  },
  {
   "cell_type": "code",
   "execution_count": 64,
   "id": "7c989c5f",
   "metadata": {},
   "outputs": [
    {
     "data": {
      "text/html": [
       "<div>\n",
       "<style scoped>\n",
       "    .dataframe tbody tr th:only-of-type {\n",
       "        vertical-align: middle;\n",
       "    }\n",
       "\n",
       "    .dataframe tbody tr th {\n",
       "        vertical-align: top;\n",
       "    }\n",
       "\n",
       "    .dataframe thead th {\n",
       "        text-align: right;\n",
       "    }\n",
       "</style>\n",
       "<table border=\"1\" class=\"dataframe\">\n",
       "  <thead>\n",
       "    <tr style=\"text-align: right;\">\n",
       "      <th></th>\n",
       "      <th>Temperature</th>\n",
       "      <th>RH</th>\n",
       "      <th>Ws</th>\n",
       "      <th>Rain</th>\n",
       "      <th>FFMC</th>\n",
       "      <th>DMC</th>\n",
       "      <th>DC</th>\n",
       "      <th>ISI</th>\n",
       "      <th>BUI</th>\n",
       "      <th>FWI</th>\n",
       "      <th>Region</th>\n",
       "    </tr>\n",
       "  </thead>\n",
       "  <tbody>\n",
       "    <tr>\n",
       "      <th>194</th>\n",
       "      <td>39</td>\n",
       "      <td>21</td>\n",
       "      <td>17</td>\n",
       "      <td>0.4</td>\n",
       "      <td>93.0</td>\n",
       "      <td>18.4</td>\n",
       "      <td>107</td>\n",
       "      <td>15.5</td>\n",
       "      <td>18.4</td>\n",
       "      <td>56</td>\n",
       "      <td>1</td>\n",
       "    </tr>\n",
       "    <tr>\n",
       "      <th>76</th>\n",
       "      <td>36</td>\n",
       "      <td>61</td>\n",
       "      <td>18</td>\n",
       "      <td>0.3</td>\n",
       "      <td>80.2</td>\n",
       "      <td>11.7</td>\n",
       "      <td>190</td>\n",
       "      <td>2.8</td>\n",
       "      <td>17.6</td>\n",
       "      <td>93</td>\n",
       "      <td>0</td>\n",
       "    </tr>\n",
       "    <tr>\n",
       "      <th>41</th>\n",
       "      <td>31</td>\n",
       "      <td>75</td>\n",
       "      <td>13</td>\n",
       "      <td>0.1</td>\n",
       "      <td>75.1</td>\n",
       "      <td>7.9</td>\n",
       "      <td>75</td>\n",
       "      <td>1.5</td>\n",
       "      <td>9.2</td>\n",
       "      <td>9</td>\n",
       "      <td>0</td>\n",
       "    </tr>\n",
       "    <tr>\n",
       "      <th>108</th>\n",
       "      <td>31</td>\n",
       "      <td>52</td>\n",
       "      <td>14</td>\n",
       "      <td>0.0</td>\n",
       "      <td>87.7</td>\n",
       "      <td>6.4</td>\n",
       "      <td>65</td>\n",
       "      <td>6.2</td>\n",
       "      <td>7.7</td>\n",
       "      <td>101</td>\n",
       "      <td>0</td>\n",
       "    </tr>\n",
       "    <tr>\n",
       "      <th>223</th>\n",
       "      <td>29</td>\n",
       "      <td>74</td>\n",
       "      <td>15</td>\n",
       "      <td>1.1</td>\n",
       "      <td>59.5</td>\n",
       "      <td>4.7</td>\n",
       "      <td>165</td>\n",
       "      <td>0.8</td>\n",
       "      <td>4.6</td>\n",
       "      <td>3</td>\n",
       "      <td>1</td>\n",
       "    </tr>\n",
       "    <tr>\n",
       "      <th>...</th>\n",
       "      <td>...</td>\n",
       "      <td>...</td>\n",
       "      <td>...</td>\n",
       "      <td>...</td>\n",
       "      <td>...</td>\n",
       "      <td>...</td>\n",
       "      <td>...</td>\n",
       "      <td>...</td>\n",
       "      <td>...</td>\n",
       "      <td>...</td>\n",
       "      <td>...</td>\n",
       "    </tr>\n",
       "    <tr>\n",
       "      <th>106</th>\n",
       "      <td>24</td>\n",
       "      <td>82</td>\n",
       "      <td>15</td>\n",
       "      <td>0.4</td>\n",
       "      <td>44.9</td>\n",
       "      <td>0.9</td>\n",
       "      <td>147</td>\n",
       "      <td>0.2</td>\n",
       "      <td>1.4</td>\n",
       "      <td>0</td>\n",
       "      <td>0</td>\n",
       "    </tr>\n",
       "    <tr>\n",
       "      <th>14</th>\n",
       "      <td>28</td>\n",
       "      <td>80</td>\n",
       "      <td>17</td>\n",
       "      <td>3.1</td>\n",
       "      <td>49.4</td>\n",
       "      <td>3.0</td>\n",
       "      <td>148</td>\n",
       "      <td>0.4</td>\n",
       "      <td>3.0</td>\n",
       "      <td>1</td>\n",
       "      <td>0</td>\n",
       "    </tr>\n",
       "    <tr>\n",
       "      <th>92</th>\n",
       "      <td>25</td>\n",
       "      <td>76</td>\n",
       "      <td>17</td>\n",
       "      <td>7.2</td>\n",
       "      <td>46.0</td>\n",
       "      <td>1.3</td>\n",
       "      <td>149</td>\n",
       "      <td>0.2</td>\n",
       "      <td>1.8</td>\n",
       "      <td>1</td>\n",
       "      <td>0</td>\n",
       "    </tr>\n",
       "    <tr>\n",
       "      <th>179</th>\n",
       "      <td>33</td>\n",
       "      <td>57</td>\n",
       "      <td>16</td>\n",
       "      <td>0.0</td>\n",
       "      <td>87.5</td>\n",
       "      <td>15.7</td>\n",
       "      <td>98</td>\n",
       "      <td>6.7</td>\n",
       "      <td>15.7</td>\n",
       "      <td>119</td>\n",
       "      <td>1</td>\n",
       "    </tr>\n",
       "    <tr>\n",
       "      <th>102</th>\n",
       "      <td>30</td>\n",
       "      <td>77</td>\n",
       "      <td>21</td>\n",
       "      <td>1.8</td>\n",
       "      <td>58.5</td>\n",
       "      <td>1.9</td>\n",
       "      <td>167</td>\n",
       "      <td>1.1</td>\n",
       "      <td>2.4</td>\n",
       "      <td>3</td>\n",
       "      <td>0</td>\n",
       "    </tr>\n",
       "  </tbody>\n",
       "</table>\n",
       "<p>146 rows × 11 columns</p>\n",
       "</div>"
      ],
      "text/plain": [
       "     Temperature  RH  Ws  Rain  FFMC   DMC   DC   ISI   BUI  FWI  Region\n",
       "194           39  21  17   0.4  93.0  18.4  107  15.5  18.4   56       1\n",
       "76            36  61  18   0.3  80.2  11.7  190   2.8  17.6   93       0\n",
       "41            31  75  13   0.1  75.1   7.9   75   1.5   9.2    9       0\n",
       "108           31  52  14   0.0  87.7   6.4   65   6.2   7.7  101       0\n",
       "223           29  74  15   1.1  59.5   4.7  165   0.8   4.6    3       1\n",
       "..           ...  ..  ..   ...   ...   ...  ...   ...   ...  ...     ...\n",
       "106           24  82  15   0.4  44.9   0.9  147   0.2   1.4    0       0\n",
       "14            28  80  17   3.1  49.4   3.0  148   0.4   3.0    1       0\n",
       "92            25  76  17   7.2  46.0   1.3  149   0.2   1.8    1       0\n",
       "179           33  57  16   0.0  87.5  15.7   98   6.7  15.7  119       1\n",
       "102           30  77  21   1.8  58.5   1.9  167   1.1   2.4    3       0\n",
       "\n",
       "[146 rows x 11 columns]"
      ]
     },
     "execution_count": 64,
     "metadata": {},
     "output_type": "execute_result"
    }
   ],
   "source": [
    "X_train_imb"
   ]
  },
  {
   "cell_type": "code",
   "execution_count": 65,
   "id": "5bd06342",
   "metadata": {},
   "outputs": [
    {
     "data": {
      "text/plain": [
       "194    0\n",
       "76     0\n",
       "41     1\n",
       "108    0\n",
       "223    1\n",
       "      ..\n",
       "106    1\n",
       "14     1\n",
       "92     1\n",
       "179    0\n",
       "102    1\n",
       "Name: Classes, Length: 146, dtype: int64"
      ]
     },
     "execution_count": 65,
     "metadata": {},
     "output_type": "execute_result"
    }
   ],
   "source": [
    "Y_train_imb"
   ]
  },
  {
   "cell_type": "code",
   "execution_count": 66,
   "id": "c946ff56",
   "metadata": {},
   "outputs": [
    {
     "data": {
      "text/html": [
       "<div>\n",
       "<style scoped>\n",
       "    .dataframe tbody tr th:only-of-type {\n",
       "        vertical-align: middle;\n",
       "    }\n",
       "\n",
       "    .dataframe tbody tr th {\n",
       "        vertical-align: top;\n",
       "    }\n",
       "\n",
       "    .dataframe thead th {\n",
       "        text-align: right;\n",
       "    }\n",
       "</style>\n",
       "<table border=\"1\" class=\"dataframe\">\n",
       "  <thead>\n",
       "    <tr style=\"text-align: right;\">\n",
       "      <th></th>\n",
       "      <th>Temperature</th>\n",
       "      <th>RH</th>\n",
       "      <th>Ws</th>\n",
       "      <th>Rain</th>\n",
       "      <th>FFMC</th>\n",
       "      <th>DMC</th>\n",
       "      <th>DC</th>\n",
       "      <th>ISI</th>\n",
       "      <th>BUI</th>\n",
       "      <th>FWI</th>\n",
       "      <th>Region</th>\n",
       "    </tr>\n",
       "  </thead>\n",
       "  <tbody>\n",
       "    <tr>\n",
       "      <th>24</th>\n",
       "      <td>31</td>\n",
       "      <td>64</td>\n",
       "      <td>15</td>\n",
       "      <td>0.0</td>\n",
       "      <td>86.7</td>\n",
       "      <td>14.2</td>\n",
       "      <td>141</td>\n",
       "      <td>5.7</td>\n",
       "      <td>18.3</td>\n",
       "      <td>117</td>\n",
       "      <td>0</td>\n",
       "    </tr>\n",
       "    <tr>\n",
       "      <th>6</th>\n",
       "      <td>33</td>\n",
       "      <td>54</td>\n",
       "      <td>13</td>\n",
       "      <td>0.0</td>\n",
       "      <td>88.2</td>\n",
       "      <td>9.9</td>\n",
       "      <td>83</td>\n",
       "      <td>6.4</td>\n",
       "      <td>10.9</td>\n",
       "      <td>111</td>\n",
       "      <td>0</td>\n",
       "    </tr>\n",
       "    <tr>\n",
       "      <th>153</th>\n",
       "      <td>33</td>\n",
       "      <td>48</td>\n",
       "      <td>16</td>\n",
       "      <td>0.0</td>\n",
       "      <td>87.6</td>\n",
       "      <td>7.9</td>\n",
       "      <td>43</td>\n",
       "      <td>6.8</td>\n",
       "      <td>7.8</td>\n",
       "      <td>105</td>\n",
       "      <td>1</td>\n",
       "    </tr>\n",
       "    <tr>\n",
       "      <th>211</th>\n",
       "      <td>35</td>\n",
       "      <td>53</td>\n",
       "      <td>17</td>\n",
       "      <td>0.5</td>\n",
       "      <td>80.2</td>\n",
       "      <td>20.7</td>\n",
       "      <td>24</td>\n",
       "      <td>2.7</td>\n",
       "      <td>30.6</td>\n",
       "      <td>101</td>\n",
       "      <td>1</td>\n",
       "    </tr>\n",
       "    <tr>\n",
       "      <th>198</th>\n",
       "      <td>40</td>\n",
       "      <td>41</td>\n",
       "      <td>10</td>\n",
       "      <td>0.1</td>\n",
       "      <td>92.0</td>\n",
       "      <td>22.6</td>\n",
       "      <td>142</td>\n",
       "      <td>9.5</td>\n",
       "      <td>24.2</td>\n",
       "      <td>40</td>\n",
       "      <td>1</td>\n",
       "    </tr>\n",
       "    <tr>\n",
       "      <th>...</th>\n",
       "      <td>...</td>\n",
       "      <td>...</td>\n",
       "      <td>...</td>\n",
       "      <td>...</td>\n",
       "      <td>...</td>\n",
       "      <td>...</td>\n",
       "      <td>...</td>\n",
       "      <td>...</td>\n",
       "      <td>...</td>\n",
       "      <td>...</td>\n",
       "      <td>...</td>\n",
       "    </tr>\n",
       "    <tr>\n",
       "      <th>93</th>\n",
       "      <td>22</td>\n",
       "      <td>86</td>\n",
       "      <td>15</td>\n",
       "      <td>10.1</td>\n",
       "      <td>30.5</td>\n",
       "      <td>0.7</td>\n",
       "      <td>145</td>\n",
       "      <td>0.0</td>\n",
       "      <td>1.1</td>\n",
       "      <td>0</td>\n",
       "      <td>0</td>\n",
       "    </tr>\n",
       "    <tr>\n",
       "      <th>164</th>\n",
       "      <td>39</td>\n",
       "      <td>45</td>\n",
       "      <td>13</td>\n",
       "      <td>0.6</td>\n",
       "      <td>85.2</td>\n",
       "      <td>11.3</td>\n",
       "      <td>2</td>\n",
       "      <td>4.2</td>\n",
       "      <td>10.9</td>\n",
       "      <td>94</td>\n",
       "      <td>1</td>\n",
       "    </tr>\n",
       "    <tr>\n",
       "      <th>51</th>\n",
       "      <td>28</td>\n",
       "      <td>79</td>\n",
       "      <td>18</td>\n",
       "      <td>0.1</td>\n",
       "      <td>73.4</td>\n",
       "      <td>16.4</td>\n",
       "      <td>163</td>\n",
       "      <td>1.8</td>\n",
       "      <td>21.7</td>\n",
       "      <td>67</td>\n",
       "      <td>0</td>\n",
       "    </tr>\n",
       "    <tr>\n",
       "      <th>95</th>\n",
       "      <td>29</td>\n",
       "      <td>73</td>\n",
       "      <td>17</td>\n",
       "      <td>0.1</td>\n",
       "      <td>68.4</td>\n",
       "      <td>1.9</td>\n",
       "      <td>27</td>\n",
       "      <td>1.4</td>\n",
       "      <td>2.9</td>\n",
       "      <td>5</td>\n",
       "      <td>0</td>\n",
       "    </tr>\n",
       "    <tr>\n",
       "      <th>140</th>\n",
       "      <td>32</td>\n",
       "      <td>67</td>\n",
       "      <td>14</td>\n",
       "      <td>4.5</td>\n",
       "      <td>64.6</td>\n",
       "      <td>4.4</td>\n",
       "      <td>165</td>\n",
       "      <td>1.0</td>\n",
       "      <td>4.2</td>\n",
       "      <td>4</td>\n",
       "      <td>1</td>\n",
       "    </tr>\n",
       "  </tbody>\n",
       "</table>\n",
       "<p>98 rows × 11 columns</p>\n",
       "</div>"
      ],
      "text/plain": [
       "     Temperature  RH  Ws  Rain  FFMC   DMC   DC  ISI   BUI  FWI  Region\n",
       "24            31  64  15   0.0  86.7  14.2  141  5.7  18.3  117       0\n",
       "6             33  54  13   0.0  88.2   9.9   83  6.4  10.9  111       0\n",
       "153           33  48  16   0.0  87.6   7.9   43  6.8   7.8  105       1\n",
       "211           35  53  17   0.5  80.2  20.7   24  2.7  30.6  101       1\n",
       "198           40  41  10   0.1  92.0  22.6  142  9.5  24.2   40       1\n",
       "..           ...  ..  ..   ...   ...   ...  ...  ...   ...  ...     ...\n",
       "93            22  86  15  10.1  30.5   0.7  145  0.0   1.1    0       0\n",
       "164           39  45  13   0.6  85.2  11.3    2  4.2  10.9   94       1\n",
       "51            28  79  18   0.1  73.4  16.4  163  1.8  21.7   67       0\n",
       "95            29  73  17   0.1  68.4   1.9   27  1.4   2.9    5       0\n",
       "140           32  67  14   4.5  64.6   4.4  165  1.0   4.2    4       1\n",
       "\n",
       "[98 rows x 11 columns]"
      ]
     },
     "execution_count": 66,
     "metadata": {},
     "output_type": "execute_result"
    }
   ],
   "source": [
    "X_test_imb"
   ]
  },
  {
   "cell_type": "code",
   "execution_count": 67,
   "id": "a7801436",
   "metadata": {},
   "outputs": [
    {
     "data": {
      "text/plain": [
       "24     0\n",
       "6      0\n",
       "153    0\n",
       "211    0\n",
       "198    0\n",
       "      ..\n",
       "93     1\n",
       "164    0\n",
       "51     1\n",
       "95     1\n",
       "140    1\n",
       "Name: Classes, Length: 98, dtype: int64"
      ]
     },
     "execution_count": 67,
     "metadata": {},
     "output_type": "execute_result"
    }
   ],
   "source": [
    "Y_test_imb"
   ]
  },
  {
   "cell_type": "code",
   "execution_count": 68,
   "id": "064205d9",
   "metadata": {},
   "outputs": [],
   "source": [
    "Y_train_imb=Y_train_imb.replace(0,1)"
   ]
  },
  {
   "cell_type": "code",
   "execution_count": 69,
   "id": "1847059e",
   "metadata": {},
   "outputs": [
    {
     "data": {
      "text/plain": [
       "194    1\n",
       "76     1\n",
       "41     1\n",
       "108    1\n",
       "223    1\n",
       "      ..\n",
       "106    1\n",
       "14     1\n",
       "92     1\n",
       "179    1\n",
       "102    1\n",
       "Name: Classes, Length: 146, dtype: int64"
      ]
     },
     "execution_count": 69,
     "metadata": {},
     "output_type": "execute_result"
    }
   ],
   "source": [
    "Y_train_imb"
   ]
  },
  {
   "cell_type": "code",
   "execution_count": 70,
   "id": "68793860",
   "metadata": {},
   "outputs": [],
   "source": [
    "Y_test_imb=Y_test_imb.replace(1,0)"
   ]
  },
  {
   "cell_type": "code",
   "execution_count": 71,
   "id": "5205d116",
   "metadata": {},
   "outputs": [
    {
     "data": {
      "text/plain": [
       "24     0\n",
       "6      0\n",
       "153    0\n",
       "211    0\n",
       "198    0\n",
       "      ..\n",
       "93     0\n",
       "164    0\n",
       "51     0\n",
       "95     0\n",
       "140    0\n",
       "Name: Classes, Length: 98, dtype: int64"
      ]
     },
     "execution_count": 71,
     "metadata": {},
     "output_type": "execute_result"
    }
   ],
   "source": [
    "Y_test_imb"
   ]
  },
  {
   "cell_type": "code",
   "execution_count": 72,
   "id": "e6fb4d5d",
   "metadata": {},
   "outputs": [],
   "source": [
    "train_imb=pd.concat([X_train_imb,Y_train_imb],axis=1)"
   ]
  },
  {
   "cell_type": "code",
   "execution_count": 73,
   "id": "17766fab",
   "metadata": {},
   "outputs": [
    {
     "data": {
      "text/html": [
       "<div>\n",
       "<style scoped>\n",
       "    .dataframe tbody tr th:only-of-type {\n",
       "        vertical-align: middle;\n",
       "    }\n",
       "\n",
       "    .dataframe tbody tr th {\n",
       "        vertical-align: top;\n",
       "    }\n",
       "\n",
       "    .dataframe thead th {\n",
       "        text-align: right;\n",
       "    }\n",
       "</style>\n",
       "<table border=\"1\" class=\"dataframe\">\n",
       "  <thead>\n",
       "    <tr style=\"text-align: right;\">\n",
       "      <th></th>\n",
       "      <th>Temperature</th>\n",
       "      <th>RH</th>\n",
       "      <th>Ws</th>\n",
       "      <th>Rain</th>\n",
       "      <th>FFMC</th>\n",
       "      <th>DMC</th>\n",
       "      <th>DC</th>\n",
       "      <th>ISI</th>\n",
       "      <th>BUI</th>\n",
       "      <th>FWI</th>\n",
       "      <th>Region</th>\n",
       "      <th>Classes</th>\n",
       "    </tr>\n",
       "  </thead>\n",
       "  <tbody>\n",
       "    <tr>\n",
       "      <th>194</th>\n",
       "      <td>39</td>\n",
       "      <td>21</td>\n",
       "      <td>17</td>\n",
       "      <td>0.4</td>\n",
       "      <td>93.0</td>\n",
       "      <td>18.4</td>\n",
       "      <td>107</td>\n",
       "      <td>15.5</td>\n",
       "      <td>18.4</td>\n",
       "      <td>56</td>\n",
       "      <td>1</td>\n",
       "      <td>1</td>\n",
       "    </tr>\n",
       "    <tr>\n",
       "      <th>76</th>\n",
       "      <td>36</td>\n",
       "      <td>61</td>\n",
       "      <td>18</td>\n",
       "      <td>0.3</td>\n",
       "      <td>80.2</td>\n",
       "      <td>11.7</td>\n",
       "      <td>190</td>\n",
       "      <td>2.8</td>\n",
       "      <td>17.6</td>\n",
       "      <td>93</td>\n",
       "      <td>0</td>\n",
       "      <td>1</td>\n",
       "    </tr>\n",
       "    <tr>\n",
       "      <th>41</th>\n",
       "      <td>31</td>\n",
       "      <td>75</td>\n",
       "      <td>13</td>\n",
       "      <td>0.1</td>\n",
       "      <td>75.1</td>\n",
       "      <td>7.9</td>\n",
       "      <td>75</td>\n",
       "      <td>1.5</td>\n",
       "      <td>9.2</td>\n",
       "      <td>9</td>\n",
       "      <td>0</td>\n",
       "      <td>1</td>\n",
       "    </tr>\n",
       "    <tr>\n",
       "      <th>108</th>\n",
       "      <td>31</td>\n",
       "      <td>52</td>\n",
       "      <td>14</td>\n",
       "      <td>0.0</td>\n",
       "      <td>87.7</td>\n",
       "      <td>6.4</td>\n",
       "      <td>65</td>\n",
       "      <td>6.2</td>\n",
       "      <td>7.7</td>\n",
       "      <td>101</td>\n",
       "      <td>0</td>\n",
       "      <td>1</td>\n",
       "    </tr>\n",
       "    <tr>\n",
       "      <th>223</th>\n",
       "      <td>29</td>\n",
       "      <td>74</td>\n",
       "      <td>15</td>\n",
       "      <td>1.1</td>\n",
       "      <td>59.5</td>\n",
       "      <td>4.7</td>\n",
       "      <td>165</td>\n",
       "      <td>0.8</td>\n",
       "      <td>4.6</td>\n",
       "      <td>3</td>\n",
       "      <td>1</td>\n",
       "      <td>1</td>\n",
       "    </tr>\n",
       "    <tr>\n",
       "      <th>...</th>\n",
       "      <td>...</td>\n",
       "      <td>...</td>\n",
       "      <td>...</td>\n",
       "      <td>...</td>\n",
       "      <td>...</td>\n",
       "      <td>...</td>\n",
       "      <td>...</td>\n",
       "      <td>...</td>\n",
       "      <td>...</td>\n",
       "      <td>...</td>\n",
       "      <td>...</td>\n",
       "      <td>...</td>\n",
       "    </tr>\n",
       "    <tr>\n",
       "      <th>106</th>\n",
       "      <td>24</td>\n",
       "      <td>82</td>\n",
       "      <td>15</td>\n",
       "      <td>0.4</td>\n",
       "      <td>44.9</td>\n",
       "      <td>0.9</td>\n",
       "      <td>147</td>\n",
       "      <td>0.2</td>\n",
       "      <td>1.4</td>\n",
       "      <td>0</td>\n",
       "      <td>0</td>\n",
       "      <td>1</td>\n",
       "    </tr>\n",
       "    <tr>\n",
       "      <th>14</th>\n",
       "      <td>28</td>\n",
       "      <td>80</td>\n",
       "      <td>17</td>\n",
       "      <td>3.1</td>\n",
       "      <td>49.4</td>\n",
       "      <td>3.0</td>\n",
       "      <td>148</td>\n",
       "      <td>0.4</td>\n",
       "      <td>3.0</td>\n",
       "      <td>1</td>\n",
       "      <td>0</td>\n",
       "      <td>1</td>\n",
       "    </tr>\n",
       "    <tr>\n",
       "      <th>92</th>\n",
       "      <td>25</td>\n",
       "      <td>76</td>\n",
       "      <td>17</td>\n",
       "      <td>7.2</td>\n",
       "      <td>46.0</td>\n",
       "      <td>1.3</td>\n",
       "      <td>149</td>\n",
       "      <td>0.2</td>\n",
       "      <td>1.8</td>\n",
       "      <td>1</td>\n",
       "      <td>0</td>\n",
       "      <td>1</td>\n",
       "    </tr>\n",
       "    <tr>\n",
       "      <th>179</th>\n",
       "      <td>33</td>\n",
       "      <td>57</td>\n",
       "      <td>16</td>\n",
       "      <td>0.0</td>\n",
       "      <td>87.5</td>\n",
       "      <td>15.7</td>\n",
       "      <td>98</td>\n",
       "      <td>6.7</td>\n",
       "      <td>15.7</td>\n",
       "      <td>119</td>\n",
       "      <td>1</td>\n",
       "      <td>1</td>\n",
       "    </tr>\n",
       "    <tr>\n",
       "      <th>102</th>\n",
       "      <td>30</td>\n",
       "      <td>77</td>\n",
       "      <td>21</td>\n",
       "      <td>1.8</td>\n",
       "      <td>58.5</td>\n",
       "      <td>1.9</td>\n",
       "      <td>167</td>\n",
       "      <td>1.1</td>\n",
       "      <td>2.4</td>\n",
       "      <td>3</td>\n",
       "      <td>0</td>\n",
       "      <td>1</td>\n",
       "    </tr>\n",
       "  </tbody>\n",
       "</table>\n",
       "<p>146 rows × 12 columns</p>\n",
       "</div>"
      ],
      "text/plain": [
       "     Temperature  RH  Ws  Rain  FFMC   DMC   DC   ISI   BUI  FWI  Region  \\\n",
       "194           39  21  17   0.4  93.0  18.4  107  15.5  18.4   56       1   \n",
       "76            36  61  18   0.3  80.2  11.7  190   2.8  17.6   93       0   \n",
       "41            31  75  13   0.1  75.1   7.9   75   1.5   9.2    9       0   \n",
       "108           31  52  14   0.0  87.7   6.4   65   6.2   7.7  101       0   \n",
       "223           29  74  15   1.1  59.5   4.7  165   0.8   4.6    3       1   \n",
       "..           ...  ..  ..   ...   ...   ...  ...   ...   ...  ...     ...   \n",
       "106           24  82  15   0.4  44.9   0.9  147   0.2   1.4    0       0   \n",
       "14            28  80  17   3.1  49.4   3.0  148   0.4   3.0    1       0   \n",
       "92            25  76  17   7.2  46.0   1.3  149   0.2   1.8    1       0   \n",
       "179           33  57  16   0.0  87.5  15.7   98   6.7  15.7  119       1   \n",
       "102           30  77  21   1.8  58.5   1.9  167   1.1   2.4    3       0   \n",
       "\n",
       "     Classes  \n",
       "194        1  \n",
       "76         1  \n",
       "41         1  \n",
       "108        1  \n",
       "223        1  \n",
       "..       ...  \n",
       "106        1  \n",
       "14         1  \n",
       "92         1  \n",
       "179        1  \n",
       "102        1  \n",
       "\n",
       "[146 rows x 12 columns]"
      ]
     },
     "execution_count": 73,
     "metadata": {},
     "output_type": "execute_result"
    }
   ],
   "source": [
    "train_imb"
   ]
  },
  {
   "cell_type": "code",
   "execution_count": 74,
   "id": "5ff1ad7e",
   "metadata": {},
   "outputs": [],
   "source": [
    "test_imb=pd.concat([X_test_imb,Y_test_imb],axis=1)"
   ]
  },
  {
   "cell_type": "code",
   "execution_count": 75,
   "id": "2be51c21",
   "metadata": {},
   "outputs": [
    {
     "data": {
      "text/html": [
       "<div>\n",
       "<style scoped>\n",
       "    .dataframe tbody tr th:only-of-type {\n",
       "        vertical-align: middle;\n",
       "    }\n",
       "\n",
       "    .dataframe tbody tr th {\n",
       "        vertical-align: top;\n",
       "    }\n",
       "\n",
       "    .dataframe thead th {\n",
       "        text-align: right;\n",
       "    }\n",
       "</style>\n",
       "<table border=\"1\" class=\"dataframe\">\n",
       "  <thead>\n",
       "    <tr style=\"text-align: right;\">\n",
       "      <th></th>\n",
       "      <th>Temperature</th>\n",
       "      <th>RH</th>\n",
       "      <th>Ws</th>\n",
       "      <th>Rain</th>\n",
       "      <th>FFMC</th>\n",
       "      <th>DMC</th>\n",
       "      <th>DC</th>\n",
       "      <th>ISI</th>\n",
       "      <th>BUI</th>\n",
       "      <th>FWI</th>\n",
       "      <th>Region</th>\n",
       "      <th>Classes</th>\n",
       "    </tr>\n",
       "  </thead>\n",
       "  <tbody>\n",
       "    <tr>\n",
       "      <th>24</th>\n",
       "      <td>31</td>\n",
       "      <td>64</td>\n",
       "      <td>15</td>\n",
       "      <td>0.0</td>\n",
       "      <td>86.7</td>\n",
       "      <td>14.2</td>\n",
       "      <td>141</td>\n",
       "      <td>5.7</td>\n",
       "      <td>18.3</td>\n",
       "      <td>117</td>\n",
       "      <td>0</td>\n",
       "      <td>0</td>\n",
       "    </tr>\n",
       "    <tr>\n",
       "      <th>6</th>\n",
       "      <td>33</td>\n",
       "      <td>54</td>\n",
       "      <td>13</td>\n",
       "      <td>0.0</td>\n",
       "      <td>88.2</td>\n",
       "      <td>9.9</td>\n",
       "      <td>83</td>\n",
       "      <td>6.4</td>\n",
       "      <td>10.9</td>\n",
       "      <td>111</td>\n",
       "      <td>0</td>\n",
       "      <td>0</td>\n",
       "    </tr>\n",
       "    <tr>\n",
       "      <th>153</th>\n",
       "      <td>33</td>\n",
       "      <td>48</td>\n",
       "      <td>16</td>\n",
       "      <td>0.0</td>\n",
       "      <td>87.6</td>\n",
       "      <td>7.9</td>\n",
       "      <td>43</td>\n",
       "      <td>6.8</td>\n",
       "      <td>7.8</td>\n",
       "      <td>105</td>\n",
       "      <td>1</td>\n",
       "      <td>0</td>\n",
       "    </tr>\n",
       "    <tr>\n",
       "      <th>211</th>\n",
       "      <td>35</td>\n",
       "      <td>53</td>\n",
       "      <td>17</td>\n",
       "      <td>0.5</td>\n",
       "      <td>80.2</td>\n",
       "      <td>20.7</td>\n",
       "      <td>24</td>\n",
       "      <td>2.7</td>\n",
       "      <td>30.6</td>\n",
       "      <td>101</td>\n",
       "      <td>1</td>\n",
       "      <td>0</td>\n",
       "    </tr>\n",
       "    <tr>\n",
       "      <th>198</th>\n",
       "      <td>40</td>\n",
       "      <td>41</td>\n",
       "      <td>10</td>\n",
       "      <td>0.1</td>\n",
       "      <td>92.0</td>\n",
       "      <td>22.6</td>\n",
       "      <td>142</td>\n",
       "      <td>9.5</td>\n",
       "      <td>24.2</td>\n",
       "      <td>40</td>\n",
       "      <td>1</td>\n",
       "      <td>0</td>\n",
       "    </tr>\n",
       "    <tr>\n",
       "      <th>...</th>\n",
       "      <td>...</td>\n",
       "      <td>...</td>\n",
       "      <td>...</td>\n",
       "      <td>...</td>\n",
       "      <td>...</td>\n",
       "      <td>...</td>\n",
       "      <td>...</td>\n",
       "      <td>...</td>\n",
       "      <td>...</td>\n",
       "      <td>...</td>\n",
       "      <td>...</td>\n",
       "      <td>...</td>\n",
       "    </tr>\n",
       "    <tr>\n",
       "      <th>93</th>\n",
       "      <td>22</td>\n",
       "      <td>86</td>\n",
       "      <td>15</td>\n",
       "      <td>10.1</td>\n",
       "      <td>30.5</td>\n",
       "      <td>0.7</td>\n",
       "      <td>145</td>\n",
       "      <td>0.0</td>\n",
       "      <td>1.1</td>\n",
       "      <td>0</td>\n",
       "      <td>0</td>\n",
       "      <td>0</td>\n",
       "    </tr>\n",
       "    <tr>\n",
       "      <th>164</th>\n",
       "      <td>39</td>\n",
       "      <td>45</td>\n",
       "      <td>13</td>\n",
       "      <td>0.6</td>\n",
       "      <td>85.2</td>\n",
       "      <td>11.3</td>\n",
       "      <td>2</td>\n",
       "      <td>4.2</td>\n",
       "      <td>10.9</td>\n",
       "      <td>94</td>\n",
       "      <td>1</td>\n",
       "      <td>0</td>\n",
       "    </tr>\n",
       "    <tr>\n",
       "      <th>51</th>\n",
       "      <td>28</td>\n",
       "      <td>79</td>\n",
       "      <td>18</td>\n",
       "      <td>0.1</td>\n",
       "      <td>73.4</td>\n",
       "      <td>16.4</td>\n",
       "      <td>163</td>\n",
       "      <td>1.8</td>\n",
       "      <td>21.7</td>\n",
       "      <td>67</td>\n",
       "      <td>0</td>\n",
       "      <td>0</td>\n",
       "    </tr>\n",
       "    <tr>\n",
       "      <th>95</th>\n",
       "      <td>29</td>\n",
       "      <td>73</td>\n",
       "      <td>17</td>\n",
       "      <td>0.1</td>\n",
       "      <td>68.4</td>\n",
       "      <td>1.9</td>\n",
       "      <td>27</td>\n",
       "      <td>1.4</td>\n",
       "      <td>2.9</td>\n",
       "      <td>5</td>\n",
       "      <td>0</td>\n",
       "      <td>0</td>\n",
       "    </tr>\n",
       "    <tr>\n",
       "      <th>140</th>\n",
       "      <td>32</td>\n",
       "      <td>67</td>\n",
       "      <td>14</td>\n",
       "      <td>4.5</td>\n",
       "      <td>64.6</td>\n",
       "      <td>4.4</td>\n",
       "      <td>165</td>\n",
       "      <td>1.0</td>\n",
       "      <td>4.2</td>\n",
       "      <td>4</td>\n",
       "      <td>1</td>\n",
       "      <td>0</td>\n",
       "    </tr>\n",
       "  </tbody>\n",
       "</table>\n",
       "<p>98 rows × 12 columns</p>\n",
       "</div>"
      ],
      "text/plain": [
       "     Temperature  RH  Ws  Rain  FFMC   DMC   DC  ISI   BUI  FWI  Region  \\\n",
       "24            31  64  15   0.0  86.7  14.2  141  5.7  18.3  117       0   \n",
       "6             33  54  13   0.0  88.2   9.9   83  6.4  10.9  111       0   \n",
       "153           33  48  16   0.0  87.6   7.9   43  6.8   7.8  105       1   \n",
       "211           35  53  17   0.5  80.2  20.7   24  2.7  30.6  101       1   \n",
       "198           40  41  10   0.1  92.0  22.6  142  9.5  24.2   40       1   \n",
       "..           ...  ..  ..   ...   ...   ...  ...  ...   ...  ...     ...   \n",
       "93            22  86  15  10.1  30.5   0.7  145  0.0   1.1    0       0   \n",
       "164           39  45  13   0.6  85.2  11.3    2  4.2  10.9   94       1   \n",
       "51            28  79  18   0.1  73.4  16.4  163  1.8  21.7   67       0   \n",
       "95            29  73  17   0.1  68.4   1.9   27  1.4   2.9    5       0   \n",
       "140           32  67  14   4.5  64.6   4.4  165  1.0   4.2    4       1   \n",
       "\n",
       "     Classes  \n",
       "24         0  \n",
       "6          0  \n",
       "153        0  \n",
       "211        0  \n",
       "198        0  \n",
       "..       ...  \n",
       "93         0  \n",
       "164        0  \n",
       "51         0  \n",
       "95         0  \n",
       "140        0  \n",
       "\n",
       "[98 rows x 12 columns]"
      ]
     },
     "execution_count": 75,
     "metadata": {},
     "output_type": "execute_result"
    }
   ],
   "source": [
    "test_imb"
   ]
  },
  {
   "cell_type": "code",
   "execution_count": 76,
   "id": "fd571f62",
   "metadata": {},
   "outputs": [],
   "source": [
    "data_imb=pd.concat([train_imb,test_imb],axis=0,ignore_index=True)"
   ]
  },
  {
   "cell_type": "code",
   "execution_count": 77,
   "id": "168cacfa",
   "metadata": {},
   "outputs": [
    {
     "data": {
      "text/html": [
       "<div>\n",
       "<style scoped>\n",
       "    .dataframe tbody tr th:only-of-type {\n",
       "        vertical-align: middle;\n",
       "    }\n",
       "\n",
       "    .dataframe tbody tr th {\n",
       "        vertical-align: top;\n",
       "    }\n",
       "\n",
       "    .dataframe thead th {\n",
       "        text-align: right;\n",
       "    }\n",
       "</style>\n",
       "<table border=\"1\" class=\"dataframe\">\n",
       "  <thead>\n",
       "    <tr style=\"text-align: right;\">\n",
       "      <th></th>\n",
       "      <th>Temperature</th>\n",
       "      <th>RH</th>\n",
       "      <th>Ws</th>\n",
       "      <th>Rain</th>\n",
       "      <th>FFMC</th>\n",
       "      <th>DMC</th>\n",
       "      <th>DC</th>\n",
       "      <th>ISI</th>\n",
       "      <th>BUI</th>\n",
       "      <th>FWI</th>\n",
       "      <th>Region</th>\n",
       "      <th>Classes</th>\n",
       "    </tr>\n",
       "  </thead>\n",
       "  <tbody>\n",
       "    <tr>\n",
       "      <th>0</th>\n",
       "      <td>39</td>\n",
       "      <td>21</td>\n",
       "      <td>17</td>\n",
       "      <td>0.4</td>\n",
       "      <td>93.0</td>\n",
       "      <td>18.4</td>\n",
       "      <td>107</td>\n",
       "      <td>15.5</td>\n",
       "      <td>18.4</td>\n",
       "      <td>56</td>\n",
       "      <td>1</td>\n",
       "      <td>1</td>\n",
       "    </tr>\n",
       "    <tr>\n",
       "      <th>1</th>\n",
       "      <td>36</td>\n",
       "      <td>61</td>\n",
       "      <td>18</td>\n",
       "      <td>0.3</td>\n",
       "      <td>80.2</td>\n",
       "      <td>11.7</td>\n",
       "      <td>190</td>\n",
       "      <td>2.8</td>\n",
       "      <td>17.6</td>\n",
       "      <td>93</td>\n",
       "      <td>0</td>\n",
       "      <td>1</td>\n",
       "    </tr>\n",
       "    <tr>\n",
       "      <th>2</th>\n",
       "      <td>31</td>\n",
       "      <td>75</td>\n",
       "      <td>13</td>\n",
       "      <td>0.1</td>\n",
       "      <td>75.1</td>\n",
       "      <td>7.9</td>\n",
       "      <td>75</td>\n",
       "      <td>1.5</td>\n",
       "      <td>9.2</td>\n",
       "      <td>9</td>\n",
       "      <td>0</td>\n",
       "      <td>1</td>\n",
       "    </tr>\n",
       "    <tr>\n",
       "      <th>3</th>\n",
       "      <td>31</td>\n",
       "      <td>52</td>\n",
       "      <td>14</td>\n",
       "      <td>0.0</td>\n",
       "      <td>87.7</td>\n",
       "      <td>6.4</td>\n",
       "      <td>65</td>\n",
       "      <td>6.2</td>\n",
       "      <td>7.7</td>\n",
       "      <td>101</td>\n",
       "      <td>0</td>\n",
       "      <td>1</td>\n",
       "    </tr>\n",
       "    <tr>\n",
       "      <th>4</th>\n",
       "      <td>29</td>\n",
       "      <td>74</td>\n",
       "      <td>15</td>\n",
       "      <td>1.1</td>\n",
       "      <td>59.5</td>\n",
       "      <td>4.7</td>\n",
       "      <td>165</td>\n",
       "      <td>0.8</td>\n",
       "      <td>4.6</td>\n",
       "      <td>3</td>\n",
       "      <td>1</td>\n",
       "      <td>1</td>\n",
       "    </tr>\n",
       "    <tr>\n",
       "      <th>...</th>\n",
       "      <td>...</td>\n",
       "      <td>...</td>\n",
       "      <td>...</td>\n",
       "      <td>...</td>\n",
       "      <td>...</td>\n",
       "      <td>...</td>\n",
       "      <td>...</td>\n",
       "      <td>...</td>\n",
       "      <td>...</td>\n",
       "      <td>...</td>\n",
       "      <td>...</td>\n",
       "      <td>...</td>\n",
       "    </tr>\n",
       "    <tr>\n",
       "      <th>239</th>\n",
       "      <td>22</td>\n",
       "      <td>86</td>\n",
       "      <td>15</td>\n",
       "      <td>10.1</td>\n",
       "      <td>30.5</td>\n",
       "      <td>0.7</td>\n",
       "      <td>145</td>\n",
       "      <td>0.0</td>\n",
       "      <td>1.1</td>\n",
       "      <td>0</td>\n",
       "      <td>0</td>\n",
       "      <td>0</td>\n",
       "    </tr>\n",
       "    <tr>\n",
       "      <th>240</th>\n",
       "      <td>39</td>\n",
       "      <td>45</td>\n",
       "      <td>13</td>\n",
       "      <td>0.6</td>\n",
       "      <td>85.2</td>\n",
       "      <td>11.3</td>\n",
       "      <td>2</td>\n",
       "      <td>4.2</td>\n",
       "      <td>10.9</td>\n",
       "      <td>94</td>\n",
       "      <td>1</td>\n",
       "      <td>0</td>\n",
       "    </tr>\n",
       "    <tr>\n",
       "      <th>241</th>\n",
       "      <td>28</td>\n",
       "      <td>79</td>\n",
       "      <td>18</td>\n",
       "      <td>0.1</td>\n",
       "      <td>73.4</td>\n",
       "      <td>16.4</td>\n",
       "      <td>163</td>\n",
       "      <td>1.8</td>\n",
       "      <td>21.7</td>\n",
       "      <td>67</td>\n",
       "      <td>0</td>\n",
       "      <td>0</td>\n",
       "    </tr>\n",
       "    <tr>\n",
       "      <th>242</th>\n",
       "      <td>29</td>\n",
       "      <td>73</td>\n",
       "      <td>17</td>\n",
       "      <td>0.1</td>\n",
       "      <td>68.4</td>\n",
       "      <td>1.9</td>\n",
       "      <td>27</td>\n",
       "      <td>1.4</td>\n",
       "      <td>2.9</td>\n",
       "      <td>5</td>\n",
       "      <td>0</td>\n",
       "      <td>0</td>\n",
       "    </tr>\n",
       "    <tr>\n",
       "      <th>243</th>\n",
       "      <td>32</td>\n",
       "      <td>67</td>\n",
       "      <td>14</td>\n",
       "      <td>4.5</td>\n",
       "      <td>64.6</td>\n",
       "      <td>4.4</td>\n",
       "      <td>165</td>\n",
       "      <td>1.0</td>\n",
       "      <td>4.2</td>\n",
       "      <td>4</td>\n",
       "      <td>1</td>\n",
       "      <td>0</td>\n",
       "    </tr>\n",
       "  </tbody>\n",
       "</table>\n",
       "<p>244 rows × 12 columns</p>\n",
       "</div>"
      ],
      "text/plain": [
       "     Temperature  RH  Ws  Rain  FFMC   DMC   DC   ISI   BUI  FWI  Region  \\\n",
       "0             39  21  17   0.4  93.0  18.4  107  15.5  18.4   56       1   \n",
       "1             36  61  18   0.3  80.2  11.7  190   2.8  17.6   93       0   \n",
       "2             31  75  13   0.1  75.1   7.9   75   1.5   9.2    9       0   \n",
       "3             31  52  14   0.0  87.7   6.4   65   6.2   7.7  101       0   \n",
       "4             29  74  15   1.1  59.5   4.7  165   0.8   4.6    3       1   \n",
       "..           ...  ..  ..   ...   ...   ...  ...   ...   ...  ...     ...   \n",
       "239           22  86  15  10.1  30.5   0.7  145   0.0   1.1    0       0   \n",
       "240           39  45  13   0.6  85.2  11.3    2   4.2  10.9   94       1   \n",
       "241           28  79  18   0.1  73.4  16.4  163   1.8  21.7   67       0   \n",
       "242           29  73  17   0.1  68.4   1.9   27   1.4   2.9    5       0   \n",
       "243           32  67  14   4.5  64.6   4.4  165   1.0   4.2    4       1   \n",
       "\n",
       "     Classes  \n",
       "0          1  \n",
       "1          1  \n",
       "2          1  \n",
       "3          1  \n",
       "4          1  \n",
       "..       ...  \n",
       "239        0  \n",
       "240        0  \n",
       "241        0  \n",
       "242        0  \n",
       "243        0  \n",
       "\n",
       "[244 rows x 12 columns]"
      ]
     },
     "execution_count": 77,
     "metadata": {},
     "output_type": "execute_result"
    }
   ],
   "source": [
    "data_imb"
   ]
  },
  {
   "cell_type": "code",
   "execution_count": 78,
   "id": "0edd7dd9",
   "metadata": {},
   "outputs": [
    {
     "data": {
      "text/plain": [
       "Classes\n",
       "0     98\n",
       "1    146\n",
       "Name: Classes, dtype: int64"
      ]
     },
     "execution_count": 78,
     "metadata": {},
     "output_type": "execute_result"
    }
   ],
   "source": [
    "data_imb.groupby(['Classes'])['Classes'].count()"
   ]
  },
  {
   "cell_type": "code",
   "execution_count": 79,
   "id": "7d41434e",
   "metadata": {},
   "outputs": [],
   "source": [
    "X_w_imb=data_imb.loc[:,[i for i in data_imb.columns if i!='Classes']]\n",
    "Y_w_imb=data_imb.loc[:,'Classes']"
   ]
  },
  {
   "cell_type": "code",
   "execution_count": 80,
   "id": "10aded08",
   "metadata": {},
   "outputs": [
    {
     "data": {
      "text/plain": [
       "0      1\n",
       "1      1\n",
       "2      1\n",
       "3      1\n",
       "4      1\n",
       "      ..\n",
       "239    0\n",
       "240    0\n",
       "241    0\n",
       "242    0\n",
       "243    0\n",
       "Name: Classes, Length: 244, dtype: int64"
      ]
     },
     "execution_count": 80,
     "metadata": {},
     "output_type": "execute_result"
    }
   ],
   "source": [
    "Y_w_imb"
   ]
  },
  {
   "cell_type": "markdown",
   "id": "50e9c8a3",
   "metadata": {},
   "source": [
    "#### Imbalanced data set where it has 219 1's and 25 0's"
   ]
  },
  {
   "cell_type": "code",
   "execution_count": 81,
   "id": "5cdabed1",
   "metadata": {},
   "outputs": [],
   "source": [
    "X_train_w_imb,X_test_w_imb,Y_train_w_imb,Y_test_w_imb=train_test_split(X_w_imb,Y_w_imb,test_size=0.30,random_state=42)"
   ]
  },
  {
   "cell_type": "code",
   "execution_count": 82,
   "id": "73312cbf",
   "metadata": {},
   "outputs": [
    {
     "data": {
      "text/html": [
       "<div>\n",
       "<style scoped>\n",
       "    .dataframe tbody tr th:only-of-type {\n",
       "        vertical-align: middle;\n",
       "    }\n",
       "\n",
       "    .dataframe tbody tr th {\n",
       "        vertical-align: top;\n",
       "    }\n",
       "\n",
       "    .dataframe thead th {\n",
       "        text-align: right;\n",
       "    }\n",
       "</style>\n",
       "<table border=\"1\" class=\"dataframe\">\n",
       "  <thead>\n",
       "    <tr style=\"text-align: right;\">\n",
       "      <th></th>\n",
       "      <th>Temperature</th>\n",
       "      <th>RH</th>\n",
       "      <th>Ws</th>\n",
       "      <th>Rain</th>\n",
       "      <th>FFMC</th>\n",
       "      <th>DMC</th>\n",
       "      <th>DC</th>\n",
       "      <th>ISI</th>\n",
       "      <th>BUI</th>\n",
       "      <th>FWI</th>\n",
       "      <th>Region</th>\n",
       "    </tr>\n",
       "  </thead>\n",
       "  <tbody>\n",
       "    <tr>\n",
       "      <th>234</th>\n",
       "      <td>32</td>\n",
       "      <td>63</td>\n",
       "      <td>14</td>\n",
       "      <td>0.0</td>\n",
       "      <td>87.0</td>\n",
       "      <td>10.9</td>\n",
       "      <td>96</td>\n",
       "      <td>5.6</td>\n",
       "      <td>12.5</td>\n",
       "      <td>108</td>\n",
       "      <td>0</td>\n",
       "    </tr>\n",
       "    <tr>\n",
       "      <th>227</th>\n",
       "      <td>32</td>\n",
       "      <td>54</td>\n",
       "      <td>11</td>\n",
       "      <td>0.5</td>\n",
       "      <td>73.7</td>\n",
       "      <td>7.9</td>\n",
       "      <td>82</td>\n",
       "      <td>1.2</td>\n",
       "      <td>9.6</td>\n",
       "      <td>7</td>\n",
       "      <td>0</td>\n",
       "    </tr>\n",
       "    <tr>\n",
       "      <th>180</th>\n",
       "      <td>31</td>\n",
       "      <td>55</td>\n",
       "      <td>16</td>\n",
       "      <td>0.1</td>\n",
       "      <td>79.9</td>\n",
       "      <td>4.5</td>\n",
       "      <td>32</td>\n",
       "      <td>2.5</td>\n",
       "      <td>5.3</td>\n",
       "      <td>13</td>\n",
       "      <td>0</td>\n",
       "    </tr>\n",
       "    <tr>\n",
       "      <th>5</th>\n",
       "      <td>36</td>\n",
       "      <td>54</td>\n",
       "      <td>18</td>\n",
       "      <td>0.0</td>\n",
       "      <td>89.4</td>\n",
       "      <td>20.0</td>\n",
       "      <td>8</td>\n",
       "      <td>9.7</td>\n",
       "      <td>27.5</td>\n",
       "      <td>47</td>\n",
       "      <td>0</td>\n",
       "    </tr>\n",
       "    <tr>\n",
       "      <th>56</th>\n",
       "      <td>29</td>\n",
       "      <td>87</td>\n",
       "      <td>18</td>\n",
       "      <td>0.0</td>\n",
       "      <td>80.0</td>\n",
       "      <td>11.8</td>\n",
       "      <td>78</td>\n",
       "      <td>2.8</td>\n",
       "      <td>11.8</td>\n",
       "      <td>81</td>\n",
       "      <td>1</td>\n",
       "    </tr>\n",
       "    <tr>\n",
       "      <th>...</th>\n",
       "      <td>...</td>\n",
       "      <td>...</td>\n",
       "      <td>...</td>\n",
       "      <td>...</td>\n",
       "      <td>...</td>\n",
       "      <td>...</td>\n",
       "      <td>...</td>\n",
       "      <td>...</td>\n",
       "      <td>...</td>\n",
       "      <td>...</td>\n",
       "      <td>...</td>\n",
       "    </tr>\n",
       "    <tr>\n",
       "      <th>106</th>\n",
       "      <td>28</td>\n",
       "      <td>87</td>\n",
       "      <td>15</td>\n",
       "      <td>4.4</td>\n",
       "      <td>41.1</td>\n",
       "      <td>6.5</td>\n",
       "      <td>164</td>\n",
       "      <td>0.1</td>\n",
       "      <td>6.2</td>\n",
       "      <td>0</td>\n",
       "      <td>1</td>\n",
       "    </tr>\n",
       "    <tr>\n",
       "      <th>14</th>\n",
       "      <td>37</td>\n",
       "      <td>52</td>\n",
       "      <td>18</td>\n",
       "      <td>0.0</td>\n",
       "      <td>89.3</td>\n",
       "      <td>16.0</td>\n",
       "      <td>4</td>\n",
       "      <td>9.7</td>\n",
       "      <td>22.9</td>\n",
       "      <td>39</td>\n",
       "      <td>0</td>\n",
       "    </tr>\n",
       "    <tr>\n",
       "      <th>92</th>\n",
       "      <td>34</td>\n",
       "      <td>45</td>\n",
       "      <td>17</td>\n",
       "      <td>0.0</td>\n",
       "      <td>90.5</td>\n",
       "      <td>18.0</td>\n",
       "      <td>64</td>\n",
       "      <td>10.9</td>\n",
       "      <td>17.7</td>\n",
       "      <td>37</td>\n",
       "      <td>1</td>\n",
       "    </tr>\n",
       "    <tr>\n",
       "      <th>179</th>\n",
       "      <td>35</td>\n",
       "      <td>64</td>\n",
       "      <td>17</td>\n",
       "      <td>0.0</td>\n",
       "      <td>87.2</td>\n",
       "      <td>31.9</td>\n",
       "      <td>22</td>\n",
       "      <td>6.8</td>\n",
       "      <td>41.2</td>\n",
       "      <td>45</td>\n",
       "      <td>0</td>\n",
       "    </tr>\n",
       "    <tr>\n",
       "      <th>102</th>\n",
       "      <td>34</td>\n",
       "      <td>44</td>\n",
       "      <td>12</td>\n",
       "      <td>0.0</td>\n",
       "      <td>92.5</td>\n",
       "      <td>25.2</td>\n",
       "      <td>140</td>\n",
       "      <td>11.2</td>\n",
       "      <td>26.2</td>\n",
       "      <td>53</td>\n",
       "      <td>1</td>\n",
       "    </tr>\n",
       "  </tbody>\n",
       "</table>\n",
       "<p>170 rows × 11 columns</p>\n",
       "</div>"
      ],
      "text/plain": [
       "     Temperature  RH  Ws  Rain  FFMC   DMC   DC   ISI   BUI  FWI  Region\n",
       "234           32  63  14   0.0  87.0  10.9   96   5.6  12.5  108       0\n",
       "227           32  54  11   0.5  73.7   7.9   82   1.2   9.6    7       0\n",
       "180           31  55  16   0.1  79.9   4.5   32   2.5   5.3   13       0\n",
       "5             36  54  18   0.0  89.4  20.0    8   9.7  27.5   47       0\n",
       "56            29  87  18   0.0  80.0  11.8   78   2.8  11.8   81       1\n",
       "..           ...  ..  ..   ...   ...   ...  ...   ...   ...  ...     ...\n",
       "106           28  87  15   4.4  41.1   6.5  164   0.1   6.2    0       1\n",
       "14            37  52  18   0.0  89.3  16.0    4   9.7  22.9   39       0\n",
       "92            34  45  17   0.0  90.5  18.0   64  10.9  17.7   37       1\n",
       "179           35  64  17   0.0  87.2  31.9   22   6.8  41.2   45       0\n",
       "102           34  44  12   0.0  92.5  25.2  140  11.2  26.2   53       1\n",
       "\n",
       "[170 rows x 11 columns]"
      ]
     },
     "execution_count": 82,
     "metadata": {},
     "output_type": "execute_result"
    }
   ],
   "source": [
    "X_train_w_imb"
   ]
  },
  {
   "cell_type": "code",
   "execution_count": 83,
   "id": "7ed2de43",
   "metadata": {},
   "outputs": [
    {
     "data": {
      "text/html": [
       "<div>\n",
       "<style scoped>\n",
       "    .dataframe tbody tr th:only-of-type {\n",
       "        vertical-align: middle;\n",
       "    }\n",
       "\n",
       "    .dataframe tbody tr th {\n",
       "        vertical-align: top;\n",
       "    }\n",
       "\n",
       "    .dataframe thead th {\n",
       "        text-align: right;\n",
       "    }\n",
       "</style>\n",
       "<table border=\"1\" class=\"dataframe\">\n",
       "  <thead>\n",
       "    <tr style=\"text-align: right;\">\n",
       "      <th></th>\n",
       "      <th>Temperature</th>\n",
       "      <th>RH</th>\n",
       "      <th>Ws</th>\n",
       "      <th>Rain</th>\n",
       "      <th>FFMC</th>\n",
       "      <th>DMC</th>\n",
       "      <th>DC</th>\n",
       "      <th>ISI</th>\n",
       "      <th>BUI</th>\n",
       "      <th>FWI</th>\n",
       "      <th>Region</th>\n",
       "    </tr>\n",
       "  </thead>\n",
       "  <tbody>\n",
       "    <tr>\n",
       "      <th>24</th>\n",
       "      <td>31</td>\n",
       "      <td>71</td>\n",
       "      <td>17</td>\n",
       "      <td>0.3</td>\n",
       "      <td>69.6</td>\n",
       "      <td>3.2</td>\n",
       "      <td>81</td>\n",
       "      <td>1.5</td>\n",
       "      <td>5.1</td>\n",
       "      <td>6</td>\n",
       "      <td>0</td>\n",
       "    </tr>\n",
       "    <tr>\n",
       "      <th>6</th>\n",
       "      <td>33</td>\n",
       "      <td>59</td>\n",
       "      <td>16</td>\n",
       "      <td>0.8</td>\n",
       "      <td>74.2</td>\n",
       "      <td>7.0</td>\n",
       "      <td>166</td>\n",
       "      <td>1.6</td>\n",
       "      <td>6.7</td>\n",
       "      <td>8</td>\n",
       "      <td>1</td>\n",
       "    </tr>\n",
       "    <tr>\n",
       "      <th>153</th>\n",
       "      <td>29</td>\n",
       "      <td>80</td>\n",
       "      <td>14</td>\n",
       "      <td>2.0</td>\n",
       "      <td>48.7</td>\n",
       "      <td>2.2</td>\n",
       "      <td>150</td>\n",
       "      <td>0.3</td>\n",
       "      <td>2.6</td>\n",
       "      <td>1</td>\n",
       "      <td>1</td>\n",
       "    </tr>\n",
       "    <tr>\n",
       "      <th>211</th>\n",
       "      <td>25</td>\n",
       "      <td>86</td>\n",
       "      <td>21</td>\n",
       "      <td>4.6</td>\n",
       "      <td>40.9</td>\n",
       "      <td>1.3</td>\n",
       "      <td>149</td>\n",
       "      <td>0.1</td>\n",
       "      <td>1.8</td>\n",
       "      <td>0</td>\n",
       "      <td>0</td>\n",
       "    </tr>\n",
       "    <tr>\n",
       "      <th>198</th>\n",
       "      <td>31</td>\n",
       "      <td>83</td>\n",
       "      <td>17</td>\n",
       "      <td>0.0</td>\n",
       "      <td>84.5</td>\n",
       "      <td>19.4</td>\n",
       "      <td>88</td>\n",
       "      <td>4.7</td>\n",
       "      <td>19.2</td>\n",
       "      <td>112</td>\n",
       "      <td>1</td>\n",
       "    </tr>\n",
       "    <tr>\n",
       "      <th>...</th>\n",
       "      <td>...</td>\n",
       "      <td>...</td>\n",
       "      <td>...</td>\n",
       "      <td>...</td>\n",
       "      <td>...</td>\n",
       "      <td>...</td>\n",
       "      <td>...</td>\n",
       "      <td>...</td>\n",
       "      <td>...</td>\n",
       "      <td>...</td>\n",
       "      <td>...</td>\n",
       "    </tr>\n",
       "    <tr>\n",
       "      <th>165</th>\n",
       "      <td>32</td>\n",
       "      <td>55</td>\n",
       "      <td>14</td>\n",
       "      <td>0.0</td>\n",
       "      <td>86.2</td>\n",
       "      <td>8.3</td>\n",
       "      <td>46</td>\n",
       "      <td>5.0</td>\n",
       "      <td>8.2</td>\n",
       "      <td>95</td>\n",
       "      <td>1</td>\n",
       "    </tr>\n",
       "    <tr>\n",
       "      <th>154</th>\n",
       "      <td>28</td>\n",
       "      <td>79</td>\n",
       "      <td>12</td>\n",
       "      <td>0.0</td>\n",
       "      <td>73.2</td>\n",
       "      <td>9.5</td>\n",
       "      <td>114</td>\n",
       "      <td>1.3</td>\n",
       "      <td>12.6</td>\n",
       "      <td>9</td>\n",
       "      <td>0</td>\n",
       "    </tr>\n",
       "    <tr>\n",
       "      <th>216</th>\n",
       "      <td>34</td>\n",
       "      <td>56</td>\n",
       "      <td>17</td>\n",
       "      <td>0.1</td>\n",
       "      <td>84.7</td>\n",
       "      <td>9.7</td>\n",
       "      <td>74</td>\n",
       "      <td>4.7</td>\n",
       "      <td>10.3</td>\n",
       "      <td>96</td>\n",
       "      <td>1</td>\n",
       "    </tr>\n",
       "    <tr>\n",
       "      <th>79</th>\n",
       "      <td>36</td>\n",
       "      <td>50</td>\n",
       "      <td>16</td>\n",
       "      <td>0.0</td>\n",
       "      <td>89.9</td>\n",
       "      <td>32.7</td>\n",
       "      <td>154</td>\n",
       "      <td>9.5</td>\n",
       "      <td>32.6</td>\n",
       "      <td>52</td>\n",
       "      <td>1</td>\n",
       "    </tr>\n",
       "    <tr>\n",
       "      <th>29</th>\n",
       "      <td>31</td>\n",
       "      <td>66</td>\n",
       "      <td>11</td>\n",
       "      <td>0.0</td>\n",
       "      <td>85.7</td>\n",
       "      <td>8.3</td>\n",
       "      <td>66</td>\n",
       "      <td>4.0</td>\n",
       "      <td>9.0</td>\n",
       "      <td>92</td>\n",
       "      <td>0</td>\n",
       "    </tr>\n",
       "  </tbody>\n",
       "</table>\n",
       "<p>74 rows × 11 columns</p>\n",
       "</div>"
      ],
      "text/plain": [
       "     Temperature  RH  Ws  Rain  FFMC   DMC   DC  ISI   BUI  FWI  Region\n",
       "24            31  71  17   0.3  69.6   3.2   81  1.5   5.1    6       0\n",
       "6             33  59  16   0.8  74.2   7.0  166  1.6   6.7    8       1\n",
       "153           29  80  14   2.0  48.7   2.2  150  0.3   2.6    1       1\n",
       "211           25  86  21   4.6  40.9   1.3  149  0.1   1.8    0       0\n",
       "198           31  83  17   0.0  84.5  19.4   88  4.7  19.2  112       1\n",
       "..           ...  ..  ..   ...   ...   ...  ...  ...   ...  ...     ...\n",
       "165           32  55  14   0.0  86.2   8.3   46  5.0   8.2   95       1\n",
       "154           28  79  12   0.0  73.2   9.5  114  1.3  12.6    9       0\n",
       "216           34  56  17   0.1  84.7   9.7   74  4.7  10.3   96       1\n",
       "79            36  50  16   0.0  89.9  32.7  154  9.5  32.6   52       1\n",
       "29            31  66  11   0.0  85.7   8.3   66  4.0   9.0   92       0\n",
       "\n",
       "[74 rows x 11 columns]"
      ]
     },
     "execution_count": 83,
     "metadata": {},
     "output_type": "execute_result"
    }
   ],
   "source": [
    "X_test_w_imb"
   ]
  },
  {
   "cell_type": "code",
   "execution_count": 84,
   "id": "ddd359c5",
   "metadata": {},
   "outputs": [
    {
     "data": {
      "text/plain": [
       "234    0\n",
       "227    0\n",
       "180    0\n",
       "5      1\n",
       "56     1\n",
       "      ..\n",
       "106    1\n",
       "14     1\n",
       "92     1\n",
       "179    0\n",
       "102    1\n",
       "Name: Classes, Length: 170, dtype: int64"
      ]
     },
     "execution_count": 84,
     "metadata": {},
     "output_type": "execute_result"
    }
   ],
   "source": [
    "Y_train_w_imb"
   ]
  },
  {
   "cell_type": "code",
   "execution_count": 85,
   "id": "36a44125",
   "metadata": {},
   "outputs": [
    {
     "data": {
      "text/plain": [
       "24     1\n",
       "6      1\n",
       "153    0\n",
       "211    0\n",
       "198    0\n",
       "      ..\n",
       "165    0\n",
       "154    0\n",
       "216    0\n",
       "79     1\n",
       "29     1\n",
       "Name: Classes, Length: 74, dtype: int64"
      ]
     },
     "execution_count": 85,
     "metadata": {},
     "output_type": "execute_result"
    }
   ],
   "source": [
    "Y_test_w_imb"
   ]
  },
  {
   "cell_type": "code",
   "execution_count": 86,
   "id": "90638f68",
   "metadata": {},
   "outputs": [],
   "source": [
    "logistic=LogisticRegression()"
   ]
  },
  {
   "cell_type": "code",
   "execution_count": 87,
   "id": "7c588cbf",
   "metadata": {},
   "outputs": [
    {
     "data": {
      "text/html": [
       "<style>#sk-container-id-2 {color: black;background-color: white;}#sk-container-id-2 pre{padding: 0;}#sk-container-id-2 div.sk-toggleable {background-color: white;}#sk-container-id-2 label.sk-toggleable__label {cursor: pointer;display: block;width: 100%;margin-bottom: 0;padding: 0.3em;box-sizing: border-box;text-align: center;}#sk-container-id-2 label.sk-toggleable__label-arrow:before {content: \"▸\";float: left;margin-right: 0.25em;color: #696969;}#sk-container-id-2 label.sk-toggleable__label-arrow:hover:before {color: black;}#sk-container-id-2 div.sk-estimator:hover label.sk-toggleable__label-arrow:before {color: black;}#sk-container-id-2 div.sk-toggleable__content {max-height: 0;max-width: 0;overflow: hidden;text-align: left;background-color: #f0f8ff;}#sk-container-id-2 div.sk-toggleable__content pre {margin: 0.2em;color: black;border-radius: 0.25em;background-color: #f0f8ff;}#sk-container-id-2 input.sk-toggleable__control:checked~div.sk-toggleable__content {max-height: 200px;max-width: 100%;overflow: auto;}#sk-container-id-2 input.sk-toggleable__control:checked~label.sk-toggleable__label-arrow:before {content: \"▾\";}#sk-container-id-2 div.sk-estimator input.sk-toggleable__control:checked~label.sk-toggleable__label {background-color: #d4ebff;}#sk-container-id-2 div.sk-label input.sk-toggleable__control:checked~label.sk-toggleable__label {background-color: #d4ebff;}#sk-container-id-2 input.sk-hidden--visually {border: 0;clip: rect(1px 1px 1px 1px);clip: rect(1px, 1px, 1px, 1px);height: 1px;margin: -1px;overflow: hidden;padding: 0;position: absolute;width: 1px;}#sk-container-id-2 div.sk-estimator {font-family: monospace;background-color: #f0f8ff;border: 1px dotted black;border-radius: 0.25em;box-sizing: border-box;margin-bottom: 0.5em;}#sk-container-id-2 div.sk-estimator:hover {background-color: #d4ebff;}#sk-container-id-2 div.sk-parallel-item::after {content: \"\";width: 100%;border-bottom: 1px solid gray;flex-grow: 1;}#sk-container-id-2 div.sk-label:hover label.sk-toggleable__label {background-color: #d4ebff;}#sk-container-id-2 div.sk-serial::before {content: \"\";position: absolute;border-left: 1px solid gray;box-sizing: border-box;top: 0;bottom: 0;left: 50%;z-index: 0;}#sk-container-id-2 div.sk-serial {display: flex;flex-direction: column;align-items: center;background-color: white;padding-right: 0.2em;padding-left: 0.2em;position: relative;}#sk-container-id-2 div.sk-item {position: relative;z-index: 1;}#sk-container-id-2 div.sk-parallel {display: flex;align-items: stretch;justify-content: center;background-color: white;position: relative;}#sk-container-id-2 div.sk-item::before, #sk-container-id-2 div.sk-parallel-item::before {content: \"\";position: absolute;border-left: 1px solid gray;box-sizing: border-box;top: 0;bottom: 0;left: 50%;z-index: -1;}#sk-container-id-2 div.sk-parallel-item {display: flex;flex-direction: column;z-index: 1;position: relative;background-color: white;}#sk-container-id-2 div.sk-parallel-item:first-child::after {align-self: flex-end;width: 50%;}#sk-container-id-2 div.sk-parallel-item:last-child::after {align-self: flex-start;width: 50%;}#sk-container-id-2 div.sk-parallel-item:only-child::after {width: 0;}#sk-container-id-2 div.sk-dashed-wrapped {border: 1px dashed gray;margin: 0 0.4em 0.5em 0.4em;box-sizing: border-box;padding-bottom: 0.4em;background-color: white;}#sk-container-id-2 div.sk-label label {font-family: monospace;font-weight: bold;display: inline-block;line-height: 1.2em;}#sk-container-id-2 div.sk-label-container {text-align: center;}#sk-container-id-2 div.sk-container {/* jupyter's `normalize.less` sets `[hidden] { display: none; }` but bootstrap.min.css set `[hidden] { display: none !important; }` so we also need the `!important` here to be able to override the default hidden behavior on the sphinx rendered scikit-learn.org. See: https://github.com/scikit-learn/scikit-learn/issues/21755 */display: inline-block !important;position: relative;}#sk-container-id-2 div.sk-text-repr-fallback {display: none;}</style><div id=\"sk-container-id-2\" class=\"sk-top-container\"><div class=\"sk-text-repr-fallback\"><pre>LogisticRegression()</pre><b>In a Jupyter environment, please rerun this cell to show the HTML representation or trust the notebook. <br />On GitHub, the HTML representation is unable to render, please try loading this page with nbviewer.org.</b></div><div class=\"sk-container\" hidden><div class=\"sk-item\"><div class=\"sk-estimator sk-toggleable\"><input class=\"sk-toggleable__control sk-hidden--visually\" id=\"sk-estimator-id-2\" type=\"checkbox\" checked><label for=\"sk-estimator-id-2\" class=\"sk-toggleable__label sk-toggleable__label-arrow\">LogisticRegression</label><div class=\"sk-toggleable__content\"><pre>LogisticRegression()</pre></div></div></div></div></div>"
      ],
      "text/plain": [
       "LogisticRegression()"
      ]
     },
     "execution_count": 87,
     "metadata": {},
     "output_type": "execute_result"
    }
   ],
   "source": [
    "logistic.fit(X_train_w_imb,Y_train_w_imb)"
   ]
  },
  {
   "cell_type": "code",
   "execution_count": 88,
   "id": "42f8e2b4",
   "metadata": {},
   "outputs": [],
   "source": [
    "log_imb_pred=logistic.predict(X_test_w_imb)"
   ]
  },
  {
   "cell_type": "code",
   "execution_count": 89,
   "id": "cfac183d",
   "metadata": {},
   "outputs": [
    {
     "data": {
      "text/plain": [
       "74"
      ]
     },
     "execution_count": 89,
     "metadata": {},
     "output_type": "execute_result"
    }
   ],
   "source": [
    "len(log_imb_pred)"
   ]
  },
  {
   "cell_type": "code",
   "execution_count": 90,
   "id": "2ef67e50",
   "metadata": {},
   "outputs": [
    {
     "data": {
      "text/plain": [
       "24     1\n",
       "6      1\n",
       "153    0\n",
       "211    0\n",
       "198    0\n",
       "      ..\n",
       "165    0\n",
       "154    0\n",
       "216    0\n",
       "79     1\n",
       "29     1\n",
       "Name: Classes, Length: 74, dtype: int64"
      ]
     },
     "execution_count": 90,
     "metadata": {},
     "output_type": "execute_result"
    }
   ],
   "source": [
    "Y_test_w_imb"
   ]
  },
  {
   "cell_type": "code",
   "execution_count": 91,
   "id": "13155739",
   "metadata": {},
   "outputs": [
    {
     "data": {
      "text/plain": [
       "array([1, 1, 1, 1, 1, 1, 1, 0, 1, 1, 1, 1, 1, 1, 1, 0, 0, 1, 1, 1, 1, 1,\n",
       "       1, 1, 0, 0, 1, 1, 1, 1, 1, 1, 1, 1, 1, 1, 1, 1, 1, 1, 1, 1, 1, 1,\n",
       "       1, 1, 0, 1, 0, 1, 1, 1, 1, 1, 1, 1, 1, 1, 1, 1, 1, 0, 1, 1, 1, 1,\n",
       "       1, 1, 0, 1, 1, 1, 1, 1])"
      ]
     },
     "execution_count": 91,
     "metadata": {},
     "output_type": "execute_result"
    }
   ],
   "source": [
    "log_imb_pred"
   ]
  },
  {
   "cell_type": "code",
   "execution_count": 92,
   "id": "ccfb6d19",
   "metadata": {},
   "outputs": [],
   "source": [
    "confusion_mat=confusion_matrix(Y_test_w_imb,log_imb_pred)"
   ]
  },
  {
   "cell_type": "code",
   "execution_count": 93,
   "id": "e03f34e1",
   "metadata": {},
   "outputs": [
    {
     "data": {
      "text/plain": [
       "array([[ 6, 26],\n",
       "       [ 3, 39]])"
      ]
     },
     "execution_count": 93,
     "metadata": {},
     "output_type": "execute_result"
    }
   ],
   "source": [
    "confusion_mat"
   ]
  },
  {
   "cell_type": "code",
   "execution_count": 94,
   "id": "a4b1c1a7",
   "metadata": {},
   "outputs": [],
   "source": [
    "true_negative=confusion_mat[0][0]\n",
    "false_positive=confusion_mat[0][1]\n",
    "false_negative=confusion_mat[1][0]\n",
    "true_positive=confusion_mat[1][1]\n"
   ]
  },
  {
   "cell_type": "code",
   "execution_count": 95,
   "id": "e0430a57",
   "metadata": {},
   "outputs": [
    {
     "name": "stdout",
     "output_type": "stream",
     "text": [
      "true_negative: 6 , false_positive: 26 ,false_negative: 3 , true_positive : 39\n"
     ]
    }
   ],
   "source": [
    "print(\"true_negative: {} , false_positive: {} ,false_negative: {} , true_positive : {}\".format(true_negative,false_positive,false_negative,true_positive))\n",
    "      "
   ]
  },
  {
   "cell_type": "code",
   "execution_count": 96,
   "id": "019ff05b",
   "metadata": {},
   "outputs": [],
   "source": [
    "precision=true_positive/(true_positive+false_positive)\n"
   ]
  },
  {
   "cell_type": "code",
   "execution_count": 97,
   "id": "3b5f60e3",
   "metadata": {},
   "outputs": [
    {
     "data": {
      "text/plain": [
       "0.6"
      ]
     },
     "execution_count": 97,
     "metadata": {},
     "output_type": "execute_result"
    }
   ],
   "source": [
    "precision"
   ]
  },
  {
   "cell_type": "code",
   "execution_count": 98,
   "id": "a9d16954",
   "metadata": {},
   "outputs": [
    {
     "data": {
      "text/plain": [
       "0.6081"
      ]
     },
     "execution_count": 98,
     "metadata": {},
     "output_type": "execute_result"
    }
   ],
   "source": [
    "accuracy=round(accuracy_score(Y_test_w_imb, log_imb_pred),4)\n",
    "accuracy"
   ]
  },
  {
   "cell_type": "code",
   "execution_count": 99,
   "id": "727addd5",
   "metadata": {},
   "outputs": [
    {
     "data": {
      "text/plain": [
       "0.9285714285714286"
      ]
     },
     "execution_count": 99,
     "metadata": {},
     "output_type": "execute_result"
    }
   ],
   "source": [
    "recall=true_positive/(true_positive+false_negative)\n",
    "recall"
   ]
  },
  {
   "cell_type": "code",
   "execution_count": 100,
   "id": "96a5f0ed",
   "metadata": {},
   "outputs": [],
   "source": [
    "f1_beta= 2* (precision*recall)/(precision+recall)"
   ]
  },
  {
   "cell_type": "code",
   "execution_count": 101,
   "id": "27ac886d",
   "metadata": {},
   "outputs": [
    {
     "data": {
      "text/plain": [
       "0.7289719626168225"
      ]
     },
     "execution_count": 101,
     "metadata": {},
     "output_type": "execute_result"
    }
   ],
   "source": [
    "f1_beta"
   ]
  },
  {
   "cell_type": "markdown",
   "id": "3017f6bd",
   "metadata": {},
   "source": [
    "### Handling Imbalanced data set"
   ]
  },
  {
   "cell_type": "code",
   "execution_count": 102,
   "id": "03eb4f86",
   "metadata": {},
   "outputs": [
    {
     "name": "stdout",
     "output_type": "stream",
     "text": [
      "\u001b[33mDEPRECATION: Configuring installation scheme with distutils config files is deprecated and will no longer work in the near future. If you are using a Homebrew or Linuxbrew Python, please see discussion at https://github.com/Homebrew/homebrew-core/issues/76621\u001b[0m\u001b[33m\n",
      "\u001b[0mRequirement already satisfied: scikit-learn==1.1.0 in /usr/local/lib/python3.9/site-packages (1.1.0)\n",
      "Requirement already satisfied: numpy>=1.17.3 in /usr/local/lib/python3.9/site-packages (from scikit-learn==1.1.0) (1.23.3)\n",
      "Requirement already satisfied: scipy>=1.3.2 in /usr/local/lib/python3.9/site-packages (from scikit-learn==1.1.0) (1.8.0)\n",
      "Requirement already satisfied: threadpoolctl>=2.0.0 in /usr/local/lib/python3.9/site-packages (from scikit-learn==1.1.0) (3.1.0)\n",
      "Requirement already satisfied: joblib>=1.0.0 in /usr/local/lib/python3.9/site-packages (from scikit-learn==1.1.0) (1.1.0)\n",
      "\u001b[33mDEPRECATION: Configuring installation scheme with distutils config files is deprecated and will no longer work in the near future. If you are using a Homebrew or Linuxbrew Python, please see discussion at https://github.com/Homebrew/homebrew-core/issues/76621\u001b[0m\u001b[33m\n",
      "\u001b[0m"
     ]
    }
   ],
   "source": [
    "! pip install scikit-learn==1.1.0"
   ]
  },
  {
   "cell_type": "code",
   "execution_count": 169,
   "id": "68a90919",
   "metadata": {},
   "outputs": [],
   "source": [
    "from imblearn.over_sampling import SMOTE"
   ]
  },
  {
   "cell_type": "code",
   "execution_count": 242,
   "id": "14824eb7",
   "metadata": {},
   "outputs": [],
   "source": [
    "sm = SMOTE(random_state = 8)"
   ]
  },
  {
   "cell_type": "code",
   "execution_count": 243,
   "id": "c39dc83d",
   "metadata": {},
   "outputs": [
    {
     "data": {
      "text/html": [
       "<div>\n",
       "<style scoped>\n",
       "    .dataframe tbody tr th:only-of-type {\n",
       "        vertical-align: middle;\n",
       "    }\n",
       "\n",
       "    .dataframe tbody tr th {\n",
       "        vertical-align: top;\n",
       "    }\n",
       "\n",
       "    .dataframe thead th {\n",
       "        text-align: right;\n",
       "    }\n",
       "</style>\n",
       "<table border=\"1\" class=\"dataframe\">\n",
       "  <thead>\n",
       "    <tr style=\"text-align: right;\">\n",
       "      <th></th>\n",
       "      <th>Temperature</th>\n",
       "      <th>RH</th>\n",
       "      <th>Ws</th>\n",
       "      <th>Rain</th>\n",
       "      <th>FFMC</th>\n",
       "      <th>DMC</th>\n",
       "      <th>DC</th>\n",
       "      <th>ISI</th>\n",
       "      <th>BUI</th>\n",
       "      <th>FWI</th>\n",
       "      <th>Region</th>\n",
       "    </tr>\n",
       "  </thead>\n",
       "  <tbody>\n",
       "    <tr>\n",
       "      <th>0</th>\n",
       "      <td>39</td>\n",
       "      <td>21</td>\n",
       "      <td>17</td>\n",
       "      <td>0.4</td>\n",
       "      <td>93.0</td>\n",
       "      <td>18.4</td>\n",
       "      <td>107</td>\n",
       "      <td>15.5</td>\n",
       "      <td>18.4</td>\n",
       "      <td>56</td>\n",
       "      <td>1</td>\n",
       "    </tr>\n",
       "    <tr>\n",
       "      <th>1</th>\n",
       "      <td>36</td>\n",
       "      <td>61</td>\n",
       "      <td>18</td>\n",
       "      <td>0.3</td>\n",
       "      <td>80.2</td>\n",
       "      <td>11.7</td>\n",
       "      <td>190</td>\n",
       "      <td>2.8</td>\n",
       "      <td>17.6</td>\n",
       "      <td>93</td>\n",
       "      <td>0</td>\n",
       "    </tr>\n",
       "    <tr>\n",
       "      <th>2</th>\n",
       "      <td>31</td>\n",
       "      <td>75</td>\n",
       "      <td>13</td>\n",
       "      <td>0.1</td>\n",
       "      <td>75.1</td>\n",
       "      <td>7.9</td>\n",
       "      <td>75</td>\n",
       "      <td>1.5</td>\n",
       "      <td>9.2</td>\n",
       "      <td>9</td>\n",
       "      <td>0</td>\n",
       "    </tr>\n",
       "    <tr>\n",
       "      <th>3</th>\n",
       "      <td>31</td>\n",
       "      <td>52</td>\n",
       "      <td>14</td>\n",
       "      <td>0.0</td>\n",
       "      <td>87.7</td>\n",
       "      <td>6.4</td>\n",
       "      <td>65</td>\n",
       "      <td>6.2</td>\n",
       "      <td>7.7</td>\n",
       "      <td>101</td>\n",
       "      <td>0</td>\n",
       "    </tr>\n",
       "    <tr>\n",
       "      <th>4</th>\n",
       "      <td>29</td>\n",
       "      <td>74</td>\n",
       "      <td>15</td>\n",
       "      <td>1.1</td>\n",
       "      <td>59.5</td>\n",
       "      <td>4.7</td>\n",
       "      <td>165</td>\n",
       "      <td>0.8</td>\n",
       "      <td>4.6</td>\n",
       "      <td>3</td>\n",
       "      <td>1</td>\n",
       "    </tr>\n",
       "    <tr>\n",
       "      <th>...</th>\n",
       "      <td>...</td>\n",
       "      <td>...</td>\n",
       "      <td>...</td>\n",
       "      <td>...</td>\n",
       "      <td>...</td>\n",
       "      <td>...</td>\n",
       "      <td>...</td>\n",
       "      <td>...</td>\n",
       "      <td>...</td>\n",
       "      <td>...</td>\n",
       "      <td>...</td>\n",
       "    </tr>\n",
       "    <tr>\n",
       "      <th>239</th>\n",
       "      <td>22</td>\n",
       "      <td>86</td>\n",
       "      <td>15</td>\n",
       "      <td>10.1</td>\n",
       "      <td>30.5</td>\n",
       "      <td>0.7</td>\n",
       "      <td>145</td>\n",
       "      <td>0.0</td>\n",
       "      <td>1.1</td>\n",
       "      <td>0</td>\n",
       "      <td>0</td>\n",
       "    </tr>\n",
       "    <tr>\n",
       "      <th>240</th>\n",
       "      <td>39</td>\n",
       "      <td>45</td>\n",
       "      <td>13</td>\n",
       "      <td>0.6</td>\n",
       "      <td>85.2</td>\n",
       "      <td>11.3</td>\n",
       "      <td>2</td>\n",
       "      <td>4.2</td>\n",
       "      <td>10.9</td>\n",
       "      <td>94</td>\n",
       "      <td>1</td>\n",
       "    </tr>\n",
       "    <tr>\n",
       "      <th>241</th>\n",
       "      <td>28</td>\n",
       "      <td>79</td>\n",
       "      <td>18</td>\n",
       "      <td>0.1</td>\n",
       "      <td>73.4</td>\n",
       "      <td>16.4</td>\n",
       "      <td>163</td>\n",
       "      <td>1.8</td>\n",
       "      <td>21.7</td>\n",
       "      <td>67</td>\n",
       "      <td>0</td>\n",
       "    </tr>\n",
       "    <tr>\n",
       "      <th>242</th>\n",
       "      <td>29</td>\n",
       "      <td>73</td>\n",
       "      <td>17</td>\n",
       "      <td>0.1</td>\n",
       "      <td>68.4</td>\n",
       "      <td>1.9</td>\n",
       "      <td>27</td>\n",
       "      <td>1.4</td>\n",
       "      <td>2.9</td>\n",
       "      <td>5</td>\n",
       "      <td>0</td>\n",
       "    </tr>\n",
       "    <tr>\n",
       "      <th>243</th>\n",
       "      <td>32</td>\n",
       "      <td>67</td>\n",
       "      <td>14</td>\n",
       "      <td>4.5</td>\n",
       "      <td>64.6</td>\n",
       "      <td>4.4</td>\n",
       "      <td>165</td>\n",
       "      <td>1.0</td>\n",
       "      <td>4.2</td>\n",
       "      <td>4</td>\n",
       "      <td>1</td>\n",
       "    </tr>\n",
       "  </tbody>\n",
       "</table>\n",
       "<p>244 rows × 11 columns</p>\n",
       "</div>"
      ],
      "text/plain": [
       "     Temperature  RH  Ws  Rain  FFMC   DMC   DC   ISI   BUI  FWI  Region\n",
       "0             39  21  17   0.4  93.0  18.4  107  15.5  18.4   56       1\n",
       "1             36  61  18   0.3  80.2  11.7  190   2.8  17.6   93       0\n",
       "2             31  75  13   0.1  75.1   7.9   75   1.5   9.2    9       0\n",
       "3             31  52  14   0.0  87.7   6.4   65   6.2   7.7  101       0\n",
       "4             29  74  15   1.1  59.5   4.7  165   0.8   4.6    3       1\n",
       "..           ...  ..  ..   ...   ...   ...  ...   ...   ...  ...     ...\n",
       "239           22  86  15  10.1  30.5   0.7  145   0.0   1.1    0       0\n",
       "240           39  45  13   0.6  85.2  11.3    2   4.2  10.9   94       1\n",
       "241           28  79  18   0.1  73.4  16.4  163   1.8  21.7   67       0\n",
       "242           29  73  17   0.1  68.4   1.9   27   1.4   2.9    5       0\n",
       "243           32  67  14   4.5  64.6   4.4  165   1.0   4.2    4       1\n",
       "\n",
       "[244 rows x 11 columns]"
      ]
     },
     "execution_count": 243,
     "metadata": {},
     "output_type": "execute_result"
    }
   ],
   "source": [
    "X_w_imb"
   ]
  },
  {
   "cell_type": "code",
   "execution_count": 244,
   "id": "44a6da4a",
   "metadata": {},
   "outputs": [
    {
     "data": {
      "text/plain": [
       "0      1\n",
       "1      1\n",
       "2      1\n",
       "3      1\n",
       "4      1\n",
       "      ..\n",
       "239    0\n",
       "240    0\n",
       "241    0\n",
       "242    0\n",
       "243    0\n",
       "Name: Classes, Length: 244, dtype: int64"
      ]
     },
     "execution_count": 244,
     "metadata": {},
     "output_type": "execute_result"
    }
   ],
   "source": [
    "Y_w_imb"
   ]
  },
  {
   "cell_type": "code",
   "execution_count": 245,
   "id": "060979bb",
   "metadata": {},
   "outputs": [],
   "source": [
    "X_wi_imb,Y_wi_imb=sm.fit_resample(X_w_imb, Y_w_imb.ravel())"
   ]
  },
  {
   "cell_type": "code",
   "execution_count": 246,
   "id": "807064eb",
   "metadata": {},
   "outputs": [
    {
     "data": {
      "text/plain": [
       "(244, 11)"
      ]
     },
     "execution_count": 246,
     "metadata": {},
     "output_type": "execute_result"
    }
   ],
   "source": [
    "X_w_imb.shape"
   ]
  },
  {
   "cell_type": "code",
   "execution_count": 247,
   "id": "eafe8af9",
   "metadata": {},
   "outputs": [
    {
     "data": {
      "text/plain": [
       "(292, 11)"
      ]
     },
     "execution_count": 247,
     "metadata": {},
     "output_type": "execute_result"
    }
   ],
   "source": [
    "X_wi_imb.shape"
   ]
  },
  {
   "cell_type": "code",
   "execution_count": 248,
   "id": "c42fb169",
   "metadata": {},
   "outputs": [
    {
     "data": {
      "text/plain": [
       "(292,)"
      ]
     },
     "execution_count": 248,
     "metadata": {},
     "output_type": "execute_result"
    }
   ],
   "source": [
    "Y_wi_imb.shape"
   ]
  },
  {
   "cell_type": "code",
   "execution_count": 249,
   "id": "871594e1",
   "metadata": {},
   "outputs": [
    {
     "data": {
      "text/plain": [
       "(244,)"
      ]
     },
     "execution_count": 249,
     "metadata": {},
     "output_type": "execute_result"
    }
   ],
   "source": [
    "Y_w_imb.shape"
   ]
  },
  {
   "cell_type": "code",
   "execution_count": 250,
   "id": "c52ab267",
   "metadata": {},
   "outputs": [
    {
     "data": {
      "text/plain": [
       "146"
      ]
     },
     "execution_count": 250,
     "metadata": {},
     "output_type": "execute_result"
    }
   ],
   "source": [
    "sum(Y_wi_imb==1)"
   ]
  },
  {
   "cell_type": "code",
   "execution_count": 251,
   "id": "f3eaf381",
   "metadata": {},
   "outputs": [
    {
     "data": {
      "text/plain": [
       "146"
      ]
     },
     "execution_count": 251,
     "metadata": {},
     "output_type": "execute_result"
    }
   ],
   "source": [
    "sum(Y_w_imb==1)"
   ]
  },
  {
   "cell_type": "code",
   "execution_count": 252,
   "id": "aaea8109",
   "metadata": {},
   "outputs": [
    {
     "data": {
      "text/plain": [
       "146"
      ]
     },
     "execution_count": 252,
     "metadata": {},
     "output_type": "execute_result"
    }
   ],
   "source": [
    "sum(Y_wi_imb==0)"
   ]
  },
  {
   "cell_type": "code",
   "execution_count": 253,
   "id": "a51541fa",
   "metadata": {},
   "outputs": [
    {
     "data": {
      "text/plain": [
       "98"
      ]
     },
     "execution_count": 253,
     "metadata": {},
     "output_type": "execute_result"
    }
   ],
   "source": [
    "sum(Y_w_imb==0)"
   ]
  },
  {
   "cell_type": "code",
   "execution_count": 254,
   "id": "d1839bd9",
   "metadata": {},
   "outputs": [
    {
     "data": {
      "text/html": [
       "<div>\n",
       "<style scoped>\n",
       "    .dataframe tbody tr th:only-of-type {\n",
       "        vertical-align: middle;\n",
       "    }\n",
       "\n",
       "    .dataframe tbody tr th {\n",
       "        vertical-align: top;\n",
       "    }\n",
       "\n",
       "    .dataframe thead th {\n",
       "        text-align: right;\n",
       "    }\n",
       "</style>\n",
       "<table border=\"1\" class=\"dataframe\">\n",
       "  <thead>\n",
       "    <tr style=\"text-align: right;\">\n",
       "      <th></th>\n",
       "      <th>Temperature</th>\n",
       "      <th>RH</th>\n",
       "      <th>Ws</th>\n",
       "      <th>Rain</th>\n",
       "      <th>FFMC</th>\n",
       "      <th>DMC</th>\n",
       "      <th>DC</th>\n",
       "      <th>ISI</th>\n",
       "      <th>BUI</th>\n",
       "      <th>FWI</th>\n",
       "      <th>Region</th>\n",
       "    </tr>\n",
       "  </thead>\n",
       "  <tbody>\n",
       "    <tr>\n",
       "      <th>0</th>\n",
       "      <td>39</td>\n",
       "      <td>21</td>\n",
       "      <td>17</td>\n",
       "      <td>0.4</td>\n",
       "      <td>93.000000</td>\n",
       "      <td>18.400000</td>\n",
       "      <td>107</td>\n",
       "      <td>15.500000</td>\n",
       "      <td>18.400000</td>\n",
       "      <td>56</td>\n",
       "      <td>1</td>\n",
       "    </tr>\n",
       "    <tr>\n",
       "      <th>1</th>\n",
       "      <td>36</td>\n",
       "      <td>61</td>\n",
       "      <td>18</td>\n",
       "      <td>0.3</td>\n",
       "      <td>80.200000</td>\n",
       "      <td>11.700000</td>\n",
       "      <td>190</td>\n",
       "      <td>2.800000</td>\n",
       "      <td>17.600000</td>\n",
       "      <td>93</td>\n",
       "      <td>0</td>\n",
       "    </tr>\n",
       "    <tr>\n",
       "      <th>2</th>\n",
       "      <td>31</td>\n",
       "      <td>75</td>\n",
       "      <td>13</td>\n",
       "      <td>0.1</td>\n",
       "      <td>75.100000</td>\n",
       "      <td>7.900000</td>\n",
       "      <td>75</td>\n",
       "      <td>1.500000</td>\n",
       "      <td>9.200000</td>\n",
       "      <td>9</td>\n",
       "      <td>0</td>\n",
       "    </tr>\n",
       "    <tr>\n",
       "      <th>3</th>\n",
       "      <td>31</td>\n",
       "      <td>52</td>\n",
       "      <td>14</td>\n",
       "      <td>0.0</td>\n",
       "      <td>87.700000</td>\n",
       "      <td>6.400000</td>\n",
       "      <td>65</td>\n",
       "      <td>6.200000</td>\n",
       "      <td>7.700000</td>\n",
       "      <td>101</td>\n",
       "      <td>0</td>\n",
       "    </tr>\n",
       "    <tr>\n",
       "      <th>4</th>\n",
       "      <td>29</td>\n",
       "      <td>74</td>\n",
       "      <td>15</td>\n",
       "      <td>1.1</td>\n",
       "      <td>59.500000</td>\n",
       "      <td>4.700000</td>\n",
       "      <td>165</td>\n",
       "      <td>0.800000</td>\n",
       "      <td>4.600000</td>\n",
       "      <td>3</td>\n",
       "      <td>1</td>\n",
       "    </tr>\n",
       "    <tr>\n",
       "      <th>...</th>\n",
       "      <td>...</td>\n",
       "      <td>...</td>\n",
       "      <td>...</td>\n",
       "      <td>...</td>\n",
       "      <td>...</td>\n",
       "      <td>...</td>\n",
       "      <td>...</td>\n",
       "      <td>...</td>\n",
       "      <td>...</td>\n",
       "      <td>...</td>\n",
       "      <td>...</td>\n",
       "    </tr>\n",
       "    <tr>\n",
       "      <th>287</th>\n",
       "      <td>32</td>\n",
       "      <td>67</td>\n",
       "      <td>16</td>\n",
       "      <td>0.0</td>\n",
       "      <td>86.667295</td>\n",
       "      <td>15.369881</td>\n",
       "      <td>121</td>\n",
       "      <td>5.760237</td>\n",
       "      <td>17.330119</td>\n",
       "      <td>116</td>\n",
       "      <td>0</td>\n",
       "    </tr>\n",
       "    <tr>\n",
       "      <th>288</th>\n",
       "      <td>35</td>\n",
       "      <td>57</td>\n",
       "      <td>16</td>\n",
       "      <td>0.0</td>\n",
       "      <td>88.523764</td>\n",
       "      <td>21.777733</td>\n",
       "      <td>125</td>\n",
       "      <td>7.823764</td>\n",
       "      <td>21.777733</td>\n",
       "      <td>27</td>\n",
       "      <td>1</td>\n",
       "    </tr>\n",
       "    <tr>\n",
       "      <th>289</th>\n",
       "      <td>35</td>\n",
       "      <td>35</td>\n",
       "      <td>15</td>\n",
       "      <td>0.0</td>\n",
       "      <td>93.041919</td>\n",
       "      <td>28.531239</td>\n",
       "      <td>188</td>\n",
       "      <td>14.682010</td>\n",
       "      <td>32.005939</td>\n",
       "      <td>73</td>\n",
       "      <td>1</td>\n",
       "    </tr>\n",
       "    <tr>\n",
       "      <th>290</th>\n",
       "      <td>34</td>\n",
       "      <td>63</td>\n",
       "      <td>15</td>\n",
       "      <td>0.0</td>\n",
       "      <td>89.039538</td>\n",
       "      <td>35.671993</td>\n",
       "      <td>35</td>\n",
       "      <td>9.195353</td>\n",
       "      <td>45.430120</td>\n",
       "      <td>64</td>\n",
       "      <td>0</td>\n",
       "    </tr>\n",
       "    <tr>\n",
       "      <th>291</th>\n",
       "      <td>35</td>\n",
       "      <td>56</td>\n",
       "      <td>17</td>\n",
       "      <td>0.0</td>\n",
       "      <td>88.525929</td>\n",
       "      <td>17.682152</td>\n",
       "      <td>189</td>\n",
       "      <td>8.743777</td>\n",
       "      <td>24.053198</td>\n",
       "      <td>35</td>\n",
       "      <td>0</td>\n",
       "    </tr>\n",
       "  </tbody>\n",
       "</table>\n",
       "<p>292 rows × 11 columns</p>\n",
       "</div>"
      ],
      "text/plain": [
       "     Temperature  RH  Ws  Rain       FFMC        DMC   DC        ISI  \\\n",
       "0             39  21  17   0.4  93.000000  18.400000  107  15.500000   \n",
       "1             36  61  18   0.3  80.200000  11.700000  190   2.800000   \n",
       "2             31  75  13   0.1  75.100000   7.900000   75   1.500000   \n",
       "3             31  52  14   0.0  87.700000   6.400000   65   6.200000   \n",
       "4             29  74  15   1.1  59.500000   4.700000  165   0.800000   \n",
       "..           ...  ..  ..   ...        ...        ...  ...        ...   \n",
       "287           32  67  16   0.0  86.667295  15.369881  121   5.760237   \n",
       "288           35  57  16   0.0  88.523764  21.777733  125   7.823764   \n",
       "289           35  35  15   0.0  93.041919  28.531239  188  14.682010   \n",
       "290           34  63  15   0.0  89.039538  35.671993   35   9.195353   \n",
       "291           35  56  17   0.0  88.525929  17.682152  189   8.743777   \n",
       "\n",
       "           BUI  FWI  Region  \n",
       "0    18.400000   56       1  \n",
       "1    17.600000   93       0  \n",
       "2     9.200000    9       0  \n",
       "3     7.700000  101       0  \n",
       "4     4.600000    3       1  \n",
       "..         ...  ...     ...  \n",
       "287  17.330119  116       0  \n",
       "288  21.777733   27       1  \n",
       "289  32.005939   73       1  \n",
       "290  45.430120   64       0  \n",
       "291  24.053198   35       0  \n",
       "\n",
       "[292 rows x 11 columns]"
      ]
     },
     "execution_count": 254,
     "metadata": {},
     "output_type": "execute_result"
    }
   ],
   "source": [
    "X_wi_imb"
   ]
  },
  {
   "cell_type": "code",
   "execution_count": 255,
   "id": "b99d5be1",
   "metadata": {},
   "outputs": [
    {
     "data": {
      "text/plain": [
       "array([1, 1, 1, 1, 1, 1, 1, 1, 1, 1, 1, 1, 1, 1, 1, 1, 1, 1, 1, 1, 1, 1,\n",
       "       1, 1, 1, 1, 1, 1, 1, 1, 1, 1, 1, 1, 1, 1, 1, 1, 1, 1, 1, 1, 1, 1,\n",
       "       1, 1, 1, 1, 1, 1, 1, 1, 1, 1, 1, 1, 1, 1, 1, 1, 1, 1, 1, 1, 1, 1,\n",
       "       1, 1, 1, 1, 1, 1, 1, 1, 1, 1, 1, 1, 1, 1, 1, 1, 1, 1, 1, 1, 1, 1,\n",
       "       1, 1, 1, 1, 1, 1, 1, 1, 1, 1, 1, 1, 1, 1, 1, 1, 1, 1, 1, 1, 1, 1,\n",
       "       1, 1, 1, 1, 1, 1, 1, 1, 1, 1, 1, 1, 1, 1, 1, 1, 1, 1, 1, 1, 1, 1,\n",
       "       1, 1, 1, 1, 1, 1, 1, 1, 1, 1, 1, 1, 1, 1, 0, 0, 0, 0, 0, 0, 0, 0,\n",
       "       0, 0, 0, 0, 0, 0, 0, 0, 0, 0, 0, 0, 0, 0, 0, 0, 0, 0, 0, 0, 0, 0,\n",
       "       0, 0, 0, 0, 0, 0, 0, 0, 0, 0, 0, 0, 0, 0, 0, 0, 0, 0, 0, 0, 0, 0,\n",
       "       0, 0, 0, 0, 0, 0, 0, 0, 0, 0, 0, 0, 0, 0, 0, 0, 0, 0, 0, 0, 0, 0,\n",
       "       0, 0, 0, 0, 0, 0, 0, 0, 0, 0, 0, 0, 0, 0, 0, 0, 0, 0, 0, 0, 0, 0,\n",
       "       0, 0, 0, 0, 0, 0, 0, 0, 0, 0, 0, 0, 0, 0, 0, 0, 0, 0, 0, 0, 0, 0,\n",
       "       0, 0, 0, 0, 0, 0, 0, 0, 0, 0, 0, 0, 0, 0, 0, 0, 0, 0, 0, 0, 0, 0,\n",
       "       0, 0, 0, 0, 0, 0])"
      ]
     },
     "execution_count": 255,
     "metadata": {},
     "output_type": "execute_result"
    }
   ],
   "source": [
    "Y_wi_imb"
   ]
  },
  {
   "cell_type": "code",
   "execution_count": 256,
   "id": "24677bdb",
   "metadata": {},
   "outputs": [],
   "source": [
    "X_train_wi_imb,X_test_wi_imb,Y_train_wi_imb,Y_test_wi_imb=train_test_split(X_wi_imb,Y_wi_imb,test_size=0.33,random_state=42)\n"
   ]
  },
  {
   "cell_type": "code",
   "execution_count": 257,
   "id": "f19af3f3",
   "metadata": {},
   "outputs": [
    {
     "data": {
      "text/html": [
       "<div>\n",
       "<style scoped>\n",
       "    .dataframe tbody tr th:only-of-type {\n",
       "        vertical-align: middle;\n",
       "    }\n",
       "\n",
       "    .dataframe tbody tr th {\n",
       "        vertical-align: top;\n",
       "    }\n",
       "\n",
       "    .dataframe thead th {\n",
       "        text-align: right;\n",
       "    }\n",
       "</style>\n",
       "<table border=\"1\" class=\"dataframe\">\n",
       "  <thead>\n",
       "    <tr style=\"text-align: right;\">\n",
       "      <th></th>\n",
       "      <th>Temperature</th>\n",
       "      <th>RH</th>\n",
       "      <th>Ws</th>\n",
       "      <th>Rain</th>\n",
       "      <th>FFMC</th>\n",
       "      <th>DMC</th>\n",
       "      <th>DC</th>\n",
       "      <th>ISI</th>\n",
       "      <th>BUI</th>\n",
       "      <th>FWI</th>\n",
       "      <th>Region</th>\n",
       "    </tr>\n",
       "  </thead>\n",
       "  <tbody>\n",
       "    <tr>\n",
       "      <th>272</th>\n",
       "      <td>36</td>\n",
       "      <td>41</td>\n",
       "      <td>17</td>\n",
       "      <td>0.169806</td>\n",
       "      <td>88.462187</td>\n",
       "      <td>12.884903</td>\n",
       "      <td>26</td>\n",
       "      <td>11.428112</td>\n",
       "      <td>10.747231</td>\n",
       "      <td>123</td>\n",
       "      <td>1</td>\n",
       "    </tr>\n",
       "    <tr>\n",
       "      <th>38</th>\n",
       "      <td>32</td>\n",
       "      <td>76</td>\n",
       "      <td>20</td>\n",
       "      <td>0.700000</td>\n",
       "      <td>63.100000</td>\n",
       "      <td>2.600000</td>\n",
       "      <td>183</td>\n",
       "      <td>1.300000</td>\n",
       "      <td>3.000000</td>\n",
       "      <td>5</td>\n",
       "      <td>0</td>\n",
       "    </tr>\n",
       "    <tr>\n",
       "      <th>179</th>\n",
       "      <td>35</td>\n",
       "      <td>64</td>\n",
       "      <td>17</td>\n",
       "      <td>0.000000</td>\n",
       "      <td>87.200000</td>\n",
       "      <td>31.900000</td>\n",
       "      <td>22</td>\n",
       "      <td>6.800000</td>\n",
       "      <td>41.200000</td>\n",
       "      <td>45</td>\n",
       "      <td>0</td>\n",
       "    </tr>\n",
       "    <tr>\n",
       "      <th>170</th>\n",
       "      <td>38</td>\n",
       "      <td>35</td>\n",
       "      <td>15</td>\n",
       "      <td>0.000000</td>\n",
       "      <td>93.800000</td>\n",
       "      <td>23.000000</td>\n",
       "      <td>109</td>\n",
       "      <td>15.700000</td>\n",
       "      <td>22.900000</td>\n",
       "      <td>70</td>\n",
       "      <td>1</td>\n",
       "    </tr>\n",
       "    <tr>\n",
       "      <th>57</th>\n",
       "      <td>36</td>\n",
       "      <td>58</td>\n",
       "      <td>19</td>\n",
       "      <td>0.000000</td>\n",
       "      <td>88.600000</td>\n",
       "      <td>29.600000</td>\n",
       "      <td>21</td>\n",
       "      <td>9.200000</td>\n",
       "      <td>38.800000</td>\n",
       "      <td>55</td>\n",
       "      <td>0</td>\n",
       "    </tr>\n",
       "    <tr>\n",
       "      <th>...</th>\n",
       "      <td>...</td>\n",
       "      <td>...</td>\n",
       "      <td>...</td>\n",
       "      <td>...</td>\n",
       "      <td>...</td>\n",
       "      <td>...</td>\n",
       "      <td>...</td>\n",
       "      <td>...</td>\n",
       "      <td>...</td>\n",
       "      <td>...</td>\n",
       "      <td>...</td>\n",
       "    </tr>\n",
       "    <tr>\n",
       "      <th>188</th>\n",
       "      <td>31</td>\n",
       "      <td>50</td>\n",
       "      <td>19</td>\n",
       "      <td>0.600000</td>\n",
       "      <td>77.800000</td>\n",
       "      <td>10.600000</td>\n",
       "      <td>106</td>\n",
       "      <td>2.400000</td>\n",
       "      <td>12.900000</td>\n",
       "      <td>67</td>\n",
       "      <td>0</td>\n",
       "    </tr>\n",
       "    <tr>\n",
       "      <th>71</th>\n",
       "      <td>26</td>\n",
       "      <td>49</td>\n",
       "      <td>6</td>\n",
       "      <td>2.000000</td>\n",
       "      <td>61.300000</td>\n",
       "      <td>11.900000</td>\n",
       "      <td>77</td>\n",
       "      <td>0.600000</td>\n",
       "      <td>11.900000</td>\n",
       "      <td>4</td>\n",
       "      <td>1</td>\n",
       "    </tr>\n",
       "    <tr>\n",
       "      <th>106</th>\n",
       "      <td>28</td>\n",
       "      <td>87</td>\n",
       "      <td>15</td>\n",
       "      <td>4.400000</td>\n",
       "      <td>41.100000</td>\n",
       "      <td>6.500000</td>\n",
       "      <td>164</td>\n",
       "      <td>0.100000</td>\n",
       "      <td>6.200000</td>\n",
       "      <td>0</td>\n",
       "      <td>1</td>\n",
       "    </tr>\n",
       "    <tr>\n",
       "      <th>270</th>\n",
       "      <td>34</td>\n",
       "      <td>51</td>\n",
       "      <td>15</td>\n",
       "      <td>0.000000</td>\n",
       "      <td>88.886472</td>\n",
       "      <td>20.736923</td>\n",
       "      <td>193</td>\n",
       "      <td>8.244244</td>\n",
       "      <td>26.659045</td>\n",
       "      <td>35</td>\n",
       "      <td>0</td>\n",
       "    </tr>\n",
       "    <tr>\n",
       "      <th>102</th>\n",
       "      <td>34</td>\n",
       "      <td>44</td>\n",
       "      <td>12</td>\n",
       "      <td>0.000000</td>\n",
       "      <td>92.500000</td>\n",
       "      <td>25.200000</td>\n",
       "      <td>140</td>\n",
       "      <td>11.200000</td>\n",
       "      <td>26.200000</td>\n",
       "      <td>53</td>\n",
       "      <td>1</td>\n",
       "    </tr>\n",
       "  </tbody>\n",
       "</table>\n",
       "<p>195 rows × 11 columns</p>\n",
       "</div>"
      ],
      "text/plain": [
       "     Temperature  RH  Ws      Rain       FFMC        DMC   DC        ISI  \\\n",
       "272           36  41  17  0.169806  88.462187  12.884903   26  11.428112   \n",
       "38            32  76  20  0.700000  63.100000   2.600000  183   1.300000   \n",
       "179           35  64  17  0.000000  87.200000  31.900000   22   6.800000   \n",
       "170           38  35  15  0.000000  93.800000  23.000000  109  15.700000   \n",
       "57            36  58  19  0.000000  88.600000  29.600000   21   9.200000   \n",
       "..           ...  ..  ..       ...        ...        ...  ...        ...   \n",
       "188           31  50  19  0.600000  77.800000  10.600000  106   2.400000   \n",
       "71            26  49   6  2.000000  61.300000  11.900000   77   0.600000   \n",
       "106           28  87  15  4.400000  41.100000   6.500000  164   0.100000   \n",
       "270           34  51  15  0.000000  88.886472  20.736923  193   8.244244   \n",
       "102           34  44  12  0.000000  92.500000  25.200000  140  11.200000   \n",
       "\n",
       "           BUI  FWI  Region  \n",
       "272  10.747231  123       1  \n",
       "38    3.000000    5       0  \n",
       "179  41.200000   45       0  \n",
       "170  22.900000   70       1  \n",
       "57   38.800000   55       0  \n",
       "..         ...  ...     ...  \n",
       "188  12.900000   67       0  \n",
       "71   11.900000    4       1  \n",
       "106   6.200000    0       1  \n",
       "270  26.659045   35       0  \n",
       "102  26.200000   53       1  \n",
       "\n",
       "[195 rows x 11 columns]"
      ]
     },
     "execution_count": 257,
     "metadata": {},
     "output_type": "execute_result"
    }
   ],
   "source": [
    "X_train_wi_imb"
   ]
  },
  {
   "cell_type": "code",
   "execution_count": 258,
   "id": "fb259412",
   "metadata": {},
   "outputs": [
    {
     "data": {
      "text/plain": [
       "array([0, 1, 0, 0, 1, 1, 0, 0, 0, 0, 1, 0, 1, 0, 0, 0, 0, 1, 0, 1, 0, 0,\n",
       "       0, 1, 0, 1, 1, 1, 1, 0, 0, 0, 1, 0, 0, 1, 1, 1, 0, 0, 1, 1, 1, 0,\n",
       "       0, 0, 1, 0, 1, 0, 1, 1, 1, 1, 0, 0, 0, 1, 1, 0, 0, 1, 0, 0, 1, 1,\n",
       "       0, 1, 0, 1, 0, 1, 0, 0, 0, 1, 1, 1, 0, 0, 0, 0, 1, 0, 0, 1, 0, 1,\n",
       "       1, 1, 0, 0, 0, 0, 1, 1, 1, 1, 0, 0, 1, 0, 1, 1, 0, 0, 1, 1, 0, 0,\n",
       "       1, 0, 0, 1, 0, 0, 1, 0, 0, 0, 0, 1, 1, 1, 0, 0, 0, 0, 1, 0, 1, 0,\n",
       "       0, 0, 1, 1, 1, 1, 1, 1, 1, 1, 0, 1, 0, 1, 0, 1, 0, 0, 0, 1, 1, 1,\n",
       "       1, 1, 1, 1, 0, 0, 1, 1, 0, 0, 1, 0, 0, 1, 1, 0, 0, 0, 0, 1, 1, 0,\n",
       "       0, 1, 0, 0, 0, 0, 1, 0, 1, 1, 0, 1, 0, 1, 0, 1, 1, 0, 1])"
      ]
     },
     "execution_count": 258,
     "metadata": {},
     "output_type": "execute_result"
    }
   ],
   "source": [
    "Y_train_wi_imb"
   ]
  },
  {
   "cell_type": "code",
   "execution_count": 259,
   "id": "96e7e7dd",
   "metadata": {},
   "outputs": [
    {
     "data": {
      "text/html": [
       "<div>\n",
       "<style scoped>\n",
       "    .dataframe tbody tr th:only-of-type {\n",
       "        vertical-align: middle;\n",
       "    }\n",
       "\n",
       "    .dataframe tbody tr th {\n",
       "        vertical-align: top;\n",
       "    }\n",
       "\n",
       "    .dataframe thead th {\n",
       "        text-align: right;\n",
       "    }\n",
       "</style>\n",
       "<table border=\"1\" class=\"dataframe\">\n",
       "  <thead>\n",
       "    <tr style=\"text-align: right;\">\n",
       "      <th></th>\n",
       "      <th>Temperature</th>\n",
       "      <th>RH</th>\n",
       "      <th>Ws</th>\n",
       "      <th>Rain</th>\n",
       "      <th>FFMC</th>\n",
       "      <th>DMC</th>\n",
       "      <th>DC</th>\n",
       "      <th>ISI</th>\n",
       "      <th>BUI</th>\n",
       "      <th>FWI</th>\n",
       "      <th>Region</th>\n",
       "    </tr>\n",
       "  </thead>\n",
       "  <tbody>\n",
       "    <tr>\n",
       "      <th>84</th>\n",
       "      <td>30</td>\n",
       "      <td>80</td>\n",
       "      <td>15</td>\n",
       "      <td>0.000000</td>\n",
       "      <td>83.100000</td>\n",
       "      <td>7.900000</td>\n",
       "      <td>91</td>\n",
       "      <td>3.500000</td>\n",
       "      <td>10.000000</td>\n",
       "      <td>84</td>\n",
       "      <td>1</td>\n",
       "    </tr>\n",
       "    <tr>\n",
       "      <th>260</th>\n",
       "      <td>31</td>\n",
       "      <td>60</td>\n",
       "      <td>10</td>\n",
       "      <td>6.876765</td>\n",
       "      <td>65.737813</td>\n",
       "      <td>4.362187</td>\n",
       "      <td>166</td>\n",
       "      <td>0.939636</td>\n",
       "      <td>4.201822</td>\n",
       "      <td>4</td>\n",
       "      <td>1</td>\n",
       "    </tr>\n",
       "    <tr>\n",
       "      <th>45</th>\n",
       "      <td>31</td>\n",
       "      <td>62</td>\n",
       "      <td>15</td>\n",
       "      <td>0.000000</td>\n",
       "      <td>83.300000</td>\n",
       "      <td>5.800000</td>\n",
       "      <td>42</td>\n",
       "      <td>3.800000</td>\n",
       "      <td>6.400000</td>\n",
       "      <td>81</td>\n",
       "      <td>1</td>\n",
       "    </tr>\n",
       "    <tr>\n",
       "      <th>176</th>\n",
       "      <td>31</td>\n",
       "      <td>55</td>\n",
       "      <td>11</td>\n",
       "      <td>0.000000</td>\n",
       "      <td>87.800000</td>\n",
       "      <td>16.500000</td>\n",
       "      <td>134</td>\n",
       "      <td>5.400000</td>\n",
       "      <td>19.200000</td>\n",
       "      <td>116</td>\n",
       "      <td>0</td>\n",
       "    </tr>\n",
       "    <tr>\n",
       "      <th>143</th>\n",
       "      <td>25</td>\n",
       "      <td>76</td>\n",
       "      <td>17</td>\n",
       "      <td>7.200000</td>\n",
       "      <td>46.000000</td>\n",
       "      <td>1.300000</td>\n",
       "      <td>149</td>\n",
       "      <td>0.200000</td>\n",
       "      <td>1.800000</td>\n",
       "      <td>1</td>\n",
       "      <td>0</td>\n",
       "    </tr>\n",
       "    <tr>\n",
       "      <th>...</th>\n",
       "      <td>...</td>\n",
       "      <td>...</td>\n",
       "      <td>...</td>\n",
       "      <td>...</td>\n",
       "      <td>...</td>\n",
       "      <td>...</td>\n",
       "      <td>...</td>\n",
       "      <td>...</td>\n",
       "      <td>...</td>\n",
       "      <td>...</td>\n",
       "      <td>...</td>\n",
       "    </tr>\n",
       "    <tr>\n",
       "      <th>97</th>\n",
       "      <td>30</td>\n",
       "      <td>73</td>\n",
       "      <td>14</td>\n",
       "      <td>0.000000</td>\n",
       "      <td>79.200000</td>\n",
       "      <td>6.500000</td>\n",
       "      <td>35</td>\n",
       "      <td>2.100000</td>\n",
       "      <td>6.600000</td>\n",
       "      <td>11</td>\n",
       "      <td>1</td>\n",
       "    </tr>\n",
       "    <tr>\n",
       "      <th>108</th>\n",
       "      <td>33</td>\n",
       "      <td>68</td>\n",
       "      <td>15</td>\n",
       "      <td>0.000000</td>\n",
       "      <td>86.100000</td>\n",
       "      <td>23.900000</td>\n",
       "      <td>123</td>\n",
       "      <td>5.200000</td>\n",
       "      <td>23.900000</td>\n",
       "      <td>120</td>\n",
       "      <td>1</td>\n",
       "    </tr>\n",
       "    <tr>\n",
       "      <th>228</th>\n",
       "      <td>34</td>\n",
       "      <td>65</td>\n",
       "      <td>13</td>\n",
       "      <td>0.000000</td>\n",
       "      <td>86.800000</td>\n",
       "      <td>11.100000</td>\n",
       "      <td>80</td>\n",
       "      <td>5.200000</td>\n",
       "      <td>11.500000</td>\n",
       "      <td>103</td>\n",
       "      <td>0</td>\n",
       "    </tr>\n",
       "    <tr>\n",
       "      <th>55</th>\n",
       "      <td>37</td>\n",
       "      <td>55</td>\n",
       "      <td>15</td>\n",
       "      <td>0.000000</td>\n",
       "      <td>89.300000</td>\n",
       "      <td>28.300000</td>\n",
       "      <td>144</td>\n",
       "      <td>8.300000</td>\n",
       "      <td>28.300000</td>\n",
       "      <td>38</td>\n",
       "      <td>1</td>\n",
       "    </tr>\n",
       "    <tr>\n",
       "      <th>185</th>\n",
       "      <td>27</td>\n",
       "      <td>87</td>\n",
       "      <td>29</td>\n",
       "      <td>0.500000</td>\n",
       "      <td>45.900000</td>\n",
       "      <td>3.500000</td>\n",
       "      <td>153</td>\n",
       "      <td>0.400000</td>\n",
       "      <td>3.400000</td>\n",
       "      <td>2</td>\n",
       "      <td>1</td>\n",
       "    </tr>\n",
       "  </tbody>\n",
       "</table>\n",
       "<p>97 rows × 11 columns</p>\n",
       "</div>"
      ],
      "text/plain": [
       "     Temperature  RH  Ws      Rain       FFMC        DMC   DC       ISI  \\\n",
       "84            30  80  15  0.000000  83.100000   7.900000   91  3.500000   \n",
       "260           31  60  10  6.876765  65.737813   4.362187  166  0.939636   \n",
       "45            31  62  15  0.000000  83.300000   5.800000   42  3.800000   \n",
       "176           31  55  11  0.000000  87.800000  16.500000  134  5.400000   \n",
       "143           25  76  17  7.200000  46.000000   1.300000  149  0.200000   \n",
       "..           ...  ..  ..       ...        ...        ...  ...       ...   \n",
       "97            30  73  14  0.000000  79.200000   6.500000   35  2.100000   \n",
       "108           33  68  15  0.000000  86.100000  23.900000  123  5.200000   \n",
       "228           34  65  13  0.000000  86.800000  11.100000   80  5.200000   \n",
       "55            37  55  15  0.000000  89.300000  28.300000  144  8.300000   \n",
       "185           27  87  29  0.500000  45.900000   3.500000  153  0.400000   \n",
       "\n",
       "           BUI  FWI  Region  \n",
       "84   10.000000   84       1  \n",
       "260   4.201822    4       1  \n",
       "45    6.400000   81       1  \n",
       "176  19.200000  116       0  \n",
       "143   1.800000    1       0  \n",
       "..         ...  ...     ...  \n",
       "97    6.600000   11       1  \n",
       "108  23.900000  120       1  \n",
       "228  11.500000  103       0  \n",
       "55   28.300000   38       1  \n",
       "185   3.400000    2       1  \n",
       "\n",
       "[97 rows x 11 columns]"
      ]
     },
     "execution_count": 259,
     "metadata": {},
     "output_type": "execute_result"
    }
   ],
   "source": [
    "X_test_wi_imb"
   ]
  },
  {
   "cell_type": "code",
   "execution_count": 260,
   "id": "4e662385",
   "metadata": {},
   "outputs": [
    {
     "data": {
      "text/plain": [
       "array([1, 0, 1, 0, 1, 1, 0, 1, 1, 1, 0, 0, 1, 0, 0, 1, 1, 1, 0, 0, 1, 0,\n",
       "       0, 1, 1, 0, 0, 1, 1, 0, 1, 1, 0, 1, 1, 0, 0, 1, 0, 1, 0, 1, 0, 0,\n",
       "       0, 1, 1, 1, 0, 1, 0, 1, 1, 0, 0, 0, 0, 0, 1, 0, 0, 0, 1, 1, 1, 0,\n",
       "       1, 1, 1, 1, 1, 1, 1, 1, 0, 1, 1, 0, 1, 0, 1, 0, 1, 1, 1, 0, 0, 1,\n",
       "       0, 1, 0, 1, 1, 1, 0, 1, 0])"
      ]
     },
     "execution_count": 260,
     "metadata": {},
     "output_type": "execute_result"
    }
   ],
   "source": [
    "Y_test_wi_imb"
   ]
  },
  {
   "cell_type": "code",
   "execution_count": 261,
   "id": "7225d8a1",
   "metadata": {},
   "outputs": [],
   "source": [
    "logistic_wi_imb=LogisticRegression()"
   ]
  },
  {
   "cell_type": "code",
   "execution_count": 262,
   "id": "fb3f78a5",
   "metadata": {},
   "outputs": [
    {
     "data": {
      "text/html": [
       "<style>#sk-container-id-7 {color: black;background-color: white;}#sk-container-id-7 pre{padding: 0;}#sk-container-id-7 div.sk-toggleable {background-color: white;}#sk-container-id-7 label.sk-toggleable__label {cursor: pointer;display: block;width: 100%;margin-bottom: 0;padding: 0.3em;box-sizing: border-box;text-align: center;}#sk-container-id-7 label.sk-toggleable__label-arrow:before {content: \"▸\";float: left;margin-right: 0.25em;color: #696969;}#sk-container-id-7 label.sk-toggleable__label-arrow:hover:before {color: black;}#sk-container-id-7 div.sk-estimator:hover label.sk-toggleable__label-arrow:before {color: black;}#sk-container-id-7 div.sk-toggleable__content {max-height: 0;max-width: 0;overflow: hidden;text-align: left;background-color: #f0f8ff;}#sk-container-id-7 div.sk-toggleable__content pre {margin: 0.2em;color: black;border-radius: 0.25em;background-color: #f0f8ff;}#sk-container-id-7 input.sk-toggleable__control:checked~div.sk-toggleable__content {max-height: 200px;max-width: 100%;overflow: auto;}#sk-container-id-7 input.sk-toggleable__control:checked~label.sk-toggleable__label-arrow:before {content: \"▾\";}#sk-container-id-7 div.sk-estimator input.sk-toggleable__control:checked~label.sk-toggleable__label {background-color: #d4ebff;}#sk-container-id-7 div.sk-label input.sk-toggleable__control:checked~label.sk-toggleable__label {background-color: #d4ebff;}#sk-container-id-7 input.sk-hidden--visually {border: 0;clip: rect(1px 1px 1px 1px);clip: rect(1px, 1px, 1px, 1px);height: 1px;margin: -1px;overflow: hidden;padding: 0;position: absolute;width: 1px;}#sk-container-id-7 div.sk-estimator {font-family: monospace;background-color: #f0f8ff;border: 1px dotted black;border-radius: 0.25em;box-sizing: border-box;margin-bottom: 0.5em;}#sk-container-id-7 div.sk-estimator:hover {background-color: #d4ebff;}#sk-container-id-7 div.sk-parallel-item::after {content: \"\";width: 100%;border-bottom: 1px solid gray;flex-grow: 1;}#sk-container-id-7 div.sk-label:hover label.sk-toggleable__label {background-color: #d4ebff;}#sk-container-id-7 div.sk-serial::before {content: \"\";position: absolute;border-left: 1px solid gray;box-sizing: border-box;top: 0;bottom: 0;left: 50%;z-index: 0;}#sk-container-id-7 div.sk-serial {display: flex;flex-direction: column;align-items: center;background-color: white;padding-right: 0.2em;padding-left: 0.2em;position: relative;}#sk-container-id-7 div.sk-item {position: relative;z-index: 1;}#sk-container-id-7 div.sk-parallel {display: flex;align-items: stretch;justify-content: center;background-color: white;position: relative;}#sk-container-id-7 div.sk-item::before, #sk-container-id-7 div.sk-parallel-item::before {content: \"\";position: absolute;border-left: 1px solid gray;box-sizing: border-box;top: 0;bottom: 0;left: 50%;z-index: -1;}#sk-container-id-7 div.sk-parallel-item {display: flex;flex-direction: column;z-index: 1;position: relative;background-color: white;}#sk-container-id-7 div.sk-parallel-item:first-child::after {align-self: flex-end;width: 50%;}#sk-container-id-7 div.sk-parallel-item:last-child::after {align-self: flex-start;width: 50%;}#sk-container-id-7 div.sk-parallel-item:only-child::after {width: 0;}#sk-container-id-7 div.sk-dashed-wrapped {border: 1px dashed gray;margin: 0 0.4em 0.5em 0.4em;box-sizing: border-box;padding-bottom: 0.4em;background-color: white;}#sk-container-id-7 div.sk-label label {font-family: monospace;font-weight: bold;display: inline-block;line-height: 1.2em;}#sk-container-id-7 div.sk-label-container {text-align: center;}#sk-container-id-7 div.sk-container {/* jupyter's `normalize.less` sets `[hidden] { display: none; }` but bootstrap.min.css set `[hidden] { display: none !important; }` so we also need the `!important` here to be able to override the default hidden behavior on the sphinx rendered scikit-learn.org. See: https://github.com/scikit-learn/scikit-learn/issues/21755 */display: inline-block !important;position: relative;}#sk-container-id-7 div.sk-text-repr-fallback {display: none;}</style><div id=\"sk-container-id-7\" class=\"sk-top-container\"><div class=\"sk-text-repr-fallback\"><pre>LogisticRegression()</pre><b>In a Jupyter environment, please rerun this cell to show the HTML representation or trust the notebook. <br />On GitHub, the HTML representation is unable to render, please try loading this page with nbviewer.org.</b></div><div class=\"sk-container\" hidden><div class=\"sk-item\"><div class=\"sk-estimator sk-toggleable\"><input class=\"sk-toggleable__control sk-hidden--visually\" id=\"sk-estimator-id-7\" type=\"checkbox\" checked><label for=\"sk-estimator-id-7\" class=\"sk-toggleable__label sk-toggleable__label-arrow\">LogisticRegression</label><div class=\"sk-toggleable__content\"><pre>LogisticRegression()</pre></div></div></div></div></div>"
      ],
      "text/plain": [
       "LogisticRegression()"
      ]
     },
     "execution_count": 262,
     "metadata": {},
     "output_type": "execute_result"
    }
   ],
   "source": [
    "logistic_wi_imb.fit(X_train_wi_imb,Y_train_wi_imb)"
   ]
  },
  {
   "cell_type": "code",
   "execution_count": 263,
   "id": "0226c9ee",
   "metadata": {},
   "outputs": [
    {
     "data": {
      "text/plain": [
       "array([-0.00124142])"
      ]
     },
     "execution_count": 263,
     "metadata": {},
     "output_type": "execute_result"
    }
   ],
   "source": [
    "logistic_wi_imb.intercept_"
   ]
  },
  {
   "cell_type": "code",
   "execution_count": 264,
   "id": "641ee2c9",
   "metadata": {},
   "outputs": [
    {
     "data": {
      "text/plain": [
       "array([[ 0.01080128, -0.00745915,  0.01880514,  0.00835093, -0.00144218,\n",
       "         0.08519839,  0.00042901, -0.08724471, -0.06116622, -0.00245365,\n",
       "         0.2227165 ]])"
      ]
     },
     "execution_count": 264,
     "metadata": {},
     "output_type": "execute_result"
    }
   ],
   "source": [
    "logistic_wi_imb.coef_"
   ]
  },
  {
   "cell_type": "code",
   "execution_count": 265,
   "id": "6011687c",
   "metadata": {},
   "outputs": [],
   "source": [
    "log_wi_imb_pred=logistic_wi_imb.predict(X_test_wi_imb)"
   ]
  },
  {
   "cell_type": "code",
   "execution_count": 266,
   "id": "5d7d6bb2",
   "metadata": {},
   "outputs": [
    {
     "data": {
      "text/plain": [
       "array([0, 1, 0, 0, 1, 1, 1, 0, 0, 0, 0, 0, 1, 0, 0, 1, 0, 0, 1, 0, 0, 1,\n",
       "       0, 0, 0, 0, 0, 0, 0, 0, 1, 0, 0, 0, 1, 0, 0, 0, 1, 1, 0, 0, 0, 0,\n",
       "       1, 1, 1, 0, 0, 1, 0, 1, 1, 0, 0, 1, 1, 0, 1, 0, 0, 1, 0, 0, 0, 0,\n",
       "       0, 1, 1, 0, 0, 1, 0, 0, 0, 1, 0, 0, 0, 0, 1, 0, 1, 1, 0, 1, 1, 0,\n",
       "       0, 0, 1, 0, 1, 1, 0, 1, 1])"
      ]
     },
     "execution_count": 266,
     "metadata": {},
     "output_type": "execute_result"
    }
   ],
   "source": [
    "log_wi_imb_pred"
   ]
  },
  {
   "cell_type": "code",
   "execution_count": 267,
   "id": "8b8ecbd0",
   "metadata": {},
   "outputs": [
    {
     "data": {
      "text/plain": [
       "array([1, 0, 1, 0, 1, 1, 0, 1, 1, 1, 0, 0, 1, 0, 0, 1, 1, 1, 0, 0, 1, 0,\n",
       "       0, 1, 1, 0, 0, 1, 1, 0, 1, 1, 0, 1, 1, 0, 0, 1, 0, 1, 0, 1, 0, 0,\n",
       "       0, 1, 1, 1, 0, 1, 0, 1, 1, 0, 0, 0, 0, 0, 1, 0, 0, 0, 1, 1, 1, 0,\n",
       "       1, 1, 1, 1, 1, 1, 1, 1, 0, 1, 1, 0, 1, 0, 1, 0, 1, 1, 1, 0, 0, 1,\n",
       "       0, 1, 0, 1, 1, 1, 0, 1, 0])"
      ]
     },
     "execution_count": 267,
     "metadata": {},
     "output_type": "execute_result"
    }
   ],
   "source": [
    "Y_test_wi_imb"
   ]
  },
  {
   "cell_type": "code",
   "execution_count": 268,
   "id": "cbd6ffea",
   "metadata": {},
   "outputs": [],
   "source": [
    "confusion_mat=confusion_matrix(Y_test_wi_imb,log_wi_imb_pred)"
   ]
  },
  {
   "cell_type": "code",
   "execution_count": 269,
   "id": "15ec07eb",
   "metadata": {},
   "outputs": [
    {
     "data": {
      "text/plain": [
       "array([[30, 13],\n",
       "       [31, 23]])"
      ]
     },
     "execution_count": 269,
     "metadata": {},
     "output_type": "execute_result"
    }
   ],
   "source": [
    "confusion_mat"
   ]
  },
  {
   "cell_type": "code",
   "execution_count": 270,
   "id": "60cc58ab",
   "metadata": {},
   "outputs": [],
   "source": [
    "true_negative=confusion_mat[0][0]\n",
    "false_positive=confusion_mat[0][1]\n",
    "false_negative=confusion_mat[1][0]\n",
    "true_positive=confusion_mat[1][1]\n"
   ]
  },
  {
   "cell_type": "code",
   "execution_count": 271,
   "id": "c4f6a90c",
   "metadata": {},
   "outputs": [
    {
     "name": "stdout",
     "output_type": "stream",
     "text": [
      "true_negative: 30 , false_positive: 13 ,false_negative: 31 , true_positive : 23\n"
     ]
    }
   ],
   "source": [
    "print(\"true_negative: {} , false_positive: {} ,false_negative: {} , true_positive : {}\".format(true_negative,false_positive,false_negative,true_positive))\n",
    "      "
   ]
  },
  {
   "cell_type": "code",
   "execution_count": 272,
   "id": "12bfb431",
   "metadata": {},
   "outputs": [],
   "source": [
    "precision=true_positive/(true_positive+false_positive)\n"
   ]
  },
  {
   "cell_type": "code",
   "execution_count": 273,
   "id": "e089e4c2",
   "metadata": {},
   "outputs": [
    {
     "data": {
      "text/plain": [
       "0.6388888888888888"
      ]
     },
     "execution_count": 273,
     "metadata": {},
     "output_type": "execute_result"
    }
   ],
   "source": [
    "precision"
   ]
  },
  {
   "cell_type": "code",
   "execution_count": 274,
   "id": "2a23e7ce",
   "metadata": {},
   "outputs": [
    {
     "data": {
      "text/plain": [
       "0.6081"
      ]
     },
     "execution_count": 274,
     "metadata": {},
     "output_type": "execute_result"
    }
   ],
   "source": [
    "accuracy=round(accuracy_score(Y_test_w_imb, log_imb_pred),4)\n",
    "accuracy"
   ]
  },
  {
   "cell_type": "code",
   "execution_count": 275,
   "id": "7c598109",
   "metadata": {},
   "outputs": [
    {
     "data": {
      "text/plain": [
       "0.42592592592592593"
      ]
     },
     "execution_count": 275,
     "metadata": {},
     "output_type": "execute_result"
    }
   ],
   "source": [
    "recall=true_positive/(true_positive+false_negative)\n",
    "recall"
   ]
  },
  {
   "cell_type": "code",
   "execution_count": null,
   "id": "1d7189ed",
   "metadata": {},
   "outputs": [],
   "source": []
  }
 ],
 "metadata": {
  "kernelspec": {
   "display_name": "Python 3 (ipykernel)",
   "language": "python",
   "name": "python3"
  },
  "language_info": {
   "codemirror_mode": {
    "name": "ipython",
    "version": 3
   },
   "file_extension": ".py",
   "mimetype": "text/x-python",
   "name": "python",
   "nbconvert_exporter": "python",
   "pygments_lexer": "ipython3",
   "version": "3.9.7"
  }
 },
 "nbformat": 4,
 "nbformat_minor": 5
}
